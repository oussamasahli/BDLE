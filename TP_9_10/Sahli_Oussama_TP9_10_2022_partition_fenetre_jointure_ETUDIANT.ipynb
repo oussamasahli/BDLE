{
 "cells": [
  {
   "cell_type": "markdown",
   "metadata": {
    "application/vnd.databricks.v1+cell": {
     "inputWidgets": {},
     "nuid": "2fcea654-56eb-4219-a555-b7635dc8ec23",
     "showTitle": false,
     "title": ""
    },
    "id": "5T30y-4iGpLZ"
   },
   "source": [
    "BDLE 2022\n",
    "\n",
    "date du document  :  16/12/2022"
   ]
  },
  {
   "cell_type": "markdown",
   "metadata": {
    "application/vnd.databricks.v1+cell": {
     "inputWidgets": {},
     "nuid": "538800ba-6d08-40a7-b6b6-829b40085742",
     "showTitle": false,
     "title": ""
    },
    "id": "L_q0KahUGpLc"
   },
   "source": [
    "# TP 9 et 10 : traitement sur des partitions : tri, regroupement, fenetre, jointure\n",
    "Version ETUDIANT\n",
    "\n"
   ]
  },
  {
   "cell_type": "markdown",
   "metadata": {
    "application/vnd.databricks.v1+cell": {
     "inputWidgets": {},
     "nuid": "b15737ae-19bd-4b9f-b9f3-52388cc5e50e",
     "showTitle": false,
     "title": ""
    },
    "id": "-Y0GaU3NHl9i"
   },
   "source": [
    "## Préparation"
   ]
  },
  {
   "cell_type": "markdown",
   "metadata": {
    "id": "eWdhTV1yHl9k"
   },
   "source": [
    "Pour accéder directement aux fichiers stockées sur votre google drive. Renseigner le code d'authentification lorsqu'il est demandé\n",
    "\n",
    "Ajuster le nom de votre dossier : MyDrive/essai"
   ]
  },
  {
   "cell_type": "code",
   "execution_count": 68,
   "metadata": {
    "id": "nG1-sqgGHl9l"
   },
   "outputs": [],
   "source": [
    "# import os\n",
    "# from google.colab import drive\n",
    "# drive.mount(\"/content/drive\")\n",
    "\n",
    "# drive_dir = \"/content/drive/MyDrive/essai\"\n",
    "# os.makedirs(drive_dir, exist_ok=True)\n",
    "# os.listdir(drive_dir)"
   ]
  },
  {
   "cell_type": "markdown",
   "metadata": {
    "id": "fvQXsAZxHl9m"
   },
   "source": [
    "Installer pyspark et findspark :\n"
   ]
  },
  {
   "cell_type": "code",
   "execution_count": 69,
   "metadata": {
    "colab": {
     "base_uri": "https://localhost:8080/"
    },
    "id": "7525-vBbHl9n",
    "outputId": "8378afcb-d77c-4bf7-961c-2064fac03a0b"
   },
   "outputs": [
    {
     "name": "stdout",
     "output_type": "stream",
     "text": [
      "installé\n"
     ]
    }
   ],
   "source": [
    "!pip install -q pyspark\n",
    "!pip install -q findspark\n",
    "print(\"installé\")"
   ]
  },
  {
   "cell_type": "markdown",
   "metadata": {
    "id": "fF6UPhM5Hl9o"
   },
   "source": [
    "Démarrer la session spark"
   ]
  },
  {
   "cell_type": "code",
   "execution_count": 70,
   "metadata": {
    "id": "xxw_oyziHl9p"
   },
   "outputs": [],
   "source": [
    "import os\n",
    "# !find /usr/local/lib/ -name \"pyspark\" \n",
    "os.environ[\"SPARK_HOME\"] = \"/usr/local/lib/python3.8/dist-packages/pyspark\"\n",
    "os.environ[\"JAVA_HOME\"] = \"/usr\""
   ]
  },
  {
   "cell_type": "code",
   "execution_count": 71,
   "metadata": {
    "colab": {
     "base_uri": "https://localhost:8080/"
    },
    "id": "D-2pi_Y-Hl9q",
    "outputId": "0797c5d7-6f16-4c3c-8f36-db466e7a22a5"
   },
   "outputs": [
    {
     "name": "stdout",
     "output_type": "stream",
     "text": [
      "session démarrée, son id est  local-1672606921303\n"
     ]
    }
   ],
   "source": [
    "# Principaux import\n",
    "import findspark\n",
    "from pyspark.sql import SparkSession \n",
    "from pyspark import SparkConf  \n",
    "\n",
    "# pour les dataframe et udf\n",
    "from pyspark.sql import *  \n",
    "from pyspark.sql.functions import *\n",
    "from pyspark.sql.types import *\n",
    "from datetime import *\n",
    "\n",
    "# pour le chronomètre\n",
    "import time\n",
    "\n",
    "# initialise les variables d'environnement pour spark\n",
    "findspark.init()\n",
    "\n",
    "# Démarrage session spark \n",
    "# --------------------------\n",
    "def demarrer_spark():\n",
    "  local = \"local[*]\"\n",
    "  appName = \"TP\"\n",
    "  configLocale = SparkConf().setAppName(appName).setMaster(local).\\\n",
    "  set(\"spark.executor.memory\", \"6G\").\\\n",
    "  set(\"spark.driver.memory\",\"3G\").\\\n",
    "  set(\"spark.sql.catalogImplementation\",\"in-memory\")\n",
    "  \n",
    "  spark = SparkSession.builder.config(conf = configLocale).getOrCreate()\n",
    "  sc = spark.sparkContext\n",
    "  sc.setLogLevel(\"ERROR\")\n",
    "  \n",
    "  spark.conf.set(\"spark.sql.autoBroadcastJoinThreshold\",\"-1\")\n",
    "\n",
    "  # On ajuste l'environnement d'exécution des requêtes à la taille du cluster (4 coeurs)\n",
    "  spark.conf.set(\"spark.sql.shuffle.partitions\",\"4\")    \n",
    "  print(\"session démarrée, son id est \", sc.applicationId)\n",
    "  return spark\n",
    "spark = demarrer_spark()"
   ]
  },
  {
   "cell_type": "markdown",
   "metadata": {
    "id": "TaQdWpgxHl9r"
   },
   "source": [
    "Redéfinir la fonction **display** pour afficher le resutltat des requêtes dans un tableau"
   ]
  },
  {
   "cell_type": "code",
   "execution_count": 72,
   "metadata": {
    "id": "nefZmIGZHl9s"
   },
   "outputs": [],
   "source": [
    "import pandas as pd\n",
    "from google.colab import data_table\n",
    "\n",
    "# alternatives to Databricks display function.\n",
    "\n",
    "def display(df, n=100):\n",
    "  return data_table.DataTable(df.limit(n).toPandas(), include_index=False, num_rows_per_page=10)\n",
    "\n",
    "def display2(df, n=20):\n",
    "  pd.set_option('max_columns', None)\n",
    "  pd.set_option('max_colwidth', None)\n",
    "  return df.limit(n).toPandas().head(n)"
   ]
  },
  {
   "cell_type": "markdown",
   "metadata": {
    "id": "9VQM9DwnHl9s"
   },
   "source": [
    "Définir le tag **%%sql** pour pouvoir écrire plus simplement des requêtes en SQL dans une cellule"
   ]
  },
  {
   "cell_type": "code",
   "execution_count": 73,
   "metadata": {
    "id": "urHtMqzPHl9t"
   },
   "outputs": [],
   "source": [
    "from IPython.core.magic import (register_line_magic, register_cell_magic, register_line_cell_magic)\n",
    "\n",
    "def removeComments(query):\n",
    "  result = \"\"\n",
    "  for line in query.split('\\n'):\n",
    "    if not(line.strip().startswith(\"--\")):\n",
    "      result += line + \"\\n\"\n",
    "  return result\n",
    "\n",
    "@register_line_cell_magic\n",
    "def sql(line, cell=None):\n",
    "    \"To run a sql query. Use:  %%sql\"\n",
    "    val = cell if cell is not None else line\n",
    "    tabRequetes = removeComments(val).split(\";\")\n",
    "    derniere = None\n",
    "    est_requete = False\n",
    "    for r in tabRequetes:\n",
    "        r = r.strip()\n",
    "        if len(r) > 2:\n",
    "          derniere = spark.sql(r)\n",
    "          est_requete = ( r.lower().startswith('select') or r.lower().startswith('with') )\n",
    "    if(est_requete):\n",
    "      return display(derniere)\n",
    "    else:\n",
    "      return print('ok')"
   ]
  },
  {
   "cell_type": "markdown",
   "metadata": {
    "id": "qEaGh4djHl9u"
   },
   "source": [
    "Utiliaires : Chronomètres"
   ]
  },
  {
   "cell_type": "code",
   "execution_count": 74,
   "metadata": {
    "application/vnd.databricks.v1+cell": {
     "inputWidgets": {},
     "nuid": "a6272df1-b406-40d0-b5df-0df8dacb430b",
     "showTitle": false,
     "title": ""
    },
    "colab": {
     "base_uri": "https://localhost:8080/"
    },
    "id": "Vvu1aNbcHl9v",
    "outputId": "7c815178-ac44-456f-9642-7ac8a5000c3c"
   },
   "outputs": [
    {
     "name": "stdout",
     "output_type": "stream",
     "text": [
      "fonctions définies\n"
     ]
    }
   ],
   "source": [
    "#------------------------------\n",
    "# Chronometre : chronoPersist2\n",
    "#------------------------------\n",
    "import time\n",
    "\n",
    "# Ce chronometre garantit que chaque tuple du dataframe est lu entièrement.\n",
    "# En effet il est nécessaire de lire le détail de chaque tuple avant de les 'copier' en mémoire.\n",
    "def chronoPersist(df):\n",
    "    df.unpersist()\n",
    "    t1 = time.perf_counter()\n",
    "    count = df.persist().count()\n",
    "    t2 = time.perf_counter()\n",
    "    df.unpersist()\n",
    "    print('durée: {:.1f} s'.format(t2 - t1), 'pour lire', count , 'elements')\n",
    "\n",
    "def chronoPersist2(df):\n",
    "  dest = df.selectExpr(\"*\", \"1\")\n",
    "  t1 = time.perf_counter()\n",
    "  count = dest.persist().count()\n",
    "  t2 = time.perf_counter()\n",
    "  dest.unpersist()\n",
    "  print('durée: {:.1f} s'.format(t2 - t1), 'pour lire', count , 'elements')\n",
    "        \n",
    "def chronoCount(df):\n",
    "  t1 = time.perf_counter()\n",
    "  count = df.count()\n",
    "  t2 = time.perf_counter()\n",
    "  print('durée: {:.1f} s'.format(t2 - t1), 'pour dénombrer', count , 'elements')\n",
    "    \n",
    "print(\"fonctions définies\")"
   ]
  },
  {
   "cell_type": "markdown",
   "metadata": {
    "application/vnd.databricks.v1+cell": {
     "inputWidgets": {},
     "nuid": "b15737ae-19bd-4b9f-b9f3-52388cc5e50e",
     "showTitle": false,
     "title": ""
    },
    "id": "W1erQ-BPHl9w"
   },
   "source": [
    "## Accès aux données"
   ]
  },
  {
   "cell_type": "code",
   "execution_count": 75,
   "metadata": {
    "application/vnd.databricks.v1+cell": {
     "inputWidgets": {},
     "nuid": "5f7082b7-3297-469a-82c3-2e6aaf5acc22",
     "showTitle": false,
     "title": ""
    },
    "colab": {
     "base_uri": "https://localhost:8080/"
    },
    "id": "HN125F15Hl9x",
    "outputId": "64228e62-b57e-498e-ad7c-895c6902558a"
   },
   "outputs": [
    {
     "data": {
      "text/plain": [
       "['ratings3M.zip',\n",
       " 'movies.csv',\n",
       " 'notes1M.zip',\n",
       " 'notes1M.json',\n",
       " 'films.json',\n",
       " 'ratings3M.csv']"
      ]
     },
     "execution_count": 75,
     "metadata": {},
     "output_type": "execute_result"
    }
   ],
   "source": [
    "import os\n",
    "local_dir = \"/local/data\"\n",
    "os.makedirs(local_dir, exist_ok=True)\n",
    "os.listdir(local_dir)"
   ]
  },
  {
   "cell_type": "markdown",
   "metadata": {
    "application/vnd.databricks.v1+cell": {
     "inputWidgets": {},
     "nuid": "9b13d583-eac5-414c-b544-43024c76c144",
     "showTitle": false,
     "title": ""
    },
    "id": "_euMuqggHl9y"
   },
   "source": [
    "URL pour l'accès aux datasets"
   ]
  },
  {
   "cell_type": "code",
   "execution_count": 76,
   "metadata": {
    "application/vnd.databricks.v1+cell": {
     "inputWidgets": {},
     "nuid": "8a1fead0-61e4-4d04-a2c0-7858f767b0a1",
     "showTitle": false,
     "title": ""
    },
    "colab": {
     "base_uri": "https://localhost:8080/"
    },
    "id": "1Ecbk5uvHl9y",
    "outputId": "626904d6-f074-4488-8ac1-f0beb21e3e7d"
   },
   "outputs": [
    {
     "name": "stdout",
     "output_type": "stream",
     "text": [
      "URL pour les datasets  https://nuage.lip6.fr/s/H3bpyRGgnCq2NR4\n"
     ]
    }
   ],
   "source": [
    "# ---------------------------------------------------------------------------\n",
    "# en cas de problème avec le téléchargement des datasets, aller directement sur l'URL ci-dessous\n",
    "PUBLIC_DATASET_URL = \"https://nuage.lip6.fr/s/H3bpyRGgnCq2NR4\" \n",
    "PUBLIC_DATASET=PUBLIC_DATASET_URL + \"/download?path=\"\n",
    "\n",
    "print(\"URL pour les datasets \", PUBLIC_DATASET_URL)"
   ]
  },
  {
   "cell_type": "code",
   "execution_count": 77,
   "metadata": {
    "colab": {
     "base_uri": "https://localhost:8080/"
    },
    "id": "kp0ndnBBHl90",
    "outputId": "4848ba2b-7ab3-40a5-93bc-6425cd6776dd"
   },
   "outputs": [
    {
     "name": "stdout",
     "output_type": "stream",
     "text": [
      "notes1M.zip is already stored\n",
      "ratings3M.zip is already stored\n",
      "films.json is already stored\n",
      "movies.csv is already stored\n"
     ]
    },
    {
     "data": {
      "text/plain": [
       "['ratings3M.zip',\n",
       " 'movies.csv',\n",
       " 'notes1M.zip',\n",
       " 'notes1M.json',\n",
       " 'films.json',\n",
       " 'ratings3M.csv']"
      ]
     },
     "execution_count": 77,
     "metadata": {},
     "output_type": "execute_result"
    }
   ],
   "source": [
    "import os\n",
    "from urllib import request\n",
    "import zipfile\n",
    "\n",
    "# download dataset if not already donwloaded\n",
    "def download_file(web_dir, local_dir, file):\n",
    "  local_file = local_dir + \"/\" + file\n",
    "  web_file = web_dir + \"/\" + file\n",
    "  if(os.path.isfile(local_file)):\n",
    "    print(file, \"is already stored\")\n",
    "  else:\n",
    "    print(\"downloading from URL: \", web_file , \"save in : \" + local_file)\n",
    "    request.urlretrieve(web_file , local_file)\n",
    "\n",
    "def unzip_file(local_dir, file):\n",
    "  with zipfile.ZipFile(local_dir + \"/\" + file, 'r') as zip_ref:\n",
    "    zip_ref.extractall(local_dir)\n",
    "  # os.remove(local_dir + \"/\" + file)\n",
    "\n",
    "\n",
    "web_dir = PUBLIC_DATASET + \"/movielens\"\n",
    "\n",
    "download_file(web_dir, local_dir, \"notes1M.zip\")\n",
    "unzip_file(local_dir, \"notes1M.zip\")\n",
    "\n",
    "download_file(web_dir, local_dir, \"ratings3M.zip\")\n",
    "unzip_file(local_dir, \"ratings3M.zip\")\n",
    "\n",
    "download_file(web_dir, local_dir, \"films.json\")\n",
    "\n",
    "web_dir = PUBLIC_DATASET + \"/movielens/ml-latest\"\n",
    "\n",
    "download_file(web_dir, local_dir, \"movies.csv\")\n",
    "\n",
    "\n",
    "# Liste des fichiers\n",
    "os.listdir(local_dir)"
   ]
  },
  {
   "cell_type": "markdown",
   "metadata": {
    "id": "u22bspSoHl91"
   },
   "source": [
    "### Dataframe les Films"
   ]
  },
  {
   "cell_type": "markdown",
   "metadata": {
    "id": "UUhixexkDuhb"
   },
   "source": [
    "\n",
    "*   On récupère un échantillion de films\n",
    "*   On partitionne les données films dans 3 partitions\n",
    "\n"
   ]
  },
  {
   "cell_type": "code",
   "execution_count": 78,
   "metadata": {
    "colab": {
     "base_uri": "https://localhost:8080/",
     "height": 419
    },
    "id": "_YsUJvyKHl91",
    "outputId": "459869f0-170a-4058-b01b-2998f0cddb77"
   },
   "outputs": [
    {
     "name": "stdout",
     "output_type": "stream",
     "text": [
      "root\n",
      " |-- nF: long (nullable = true)\n",
      " |-- titre: string (nullable = true)\n",
      " |-- genres: array (nullable = true)\n",
      " |    |-- element: string (containsNull = true)\n",
      "\n"
     ]
    },
    {
     "data": {
      "application/vnd.google.colaboratory.module+javascript": "\n      import \"https://ssl.gstatic.com/colaboratory/data_table/fb998edc550c7947/data_table.js\";\n\n      window.createDataTable({\n        data: [[{\n            'v': 94,\n            'f': \"94\",\n        },\n\"Beautiful Girls (1996)\",\n[\"Comedy\", \"Drama\", \"Romance\"]],\n [{\n            'v': 45,\n            'f': \"45\",\n        },\n\"To Die For (1995)\",\n[\"Comedy\", \"Drama\", \"Thriller\"]],\n [{\n            'v': 58,\n            'f': \"58\",\n        },\n\"Postman, The (Postino, Il) (1994)\",\n[\"Comedy\", \"Drama\", \"Romance\"]],\n [{\n            'v': 54,\n            'f': \"54\",\n        },\n\"Big Green, The (1995)\",\n[\"Children\", \"Comedy\"]],\n [{\n            'v': 9,\n            'f': \"9\",\n        },\n\"Sudden Death (1995)\",\n[\"Action\"]],\n [{\n            'v': 4,\n            'f': \"4\",\n        },\n\"Waiting to Exhale (1995)\",\n[\"Comedy\", \"Drama\", \"Romance\"]],\n [{\n            'v': 80,\n            'f': \"80\",\n        },\n\"White Balloon, The (Badkonake sefid) (1995)\",\n[\"Children\", \"Drama\"]],\n [{\n            'v': 87,\n            'f': \"87\",\n        },\n\"Dunston Checks In (1996)\",\n[\"Children\", \"Comedy\"]],\n [{\n            'v': 88,\n            'f': \"88\",\n        },\n\"Black Sheep (1996)\",\n[\"Comedy\"]],\n [{\n            'v': 20,\n            'f': \"20\",\n        },\n\"Money Train (1995)\",\n[\"Action\", \"Comedy\", \"Crime\", \"Drama\", \"Thriller\"]],\n [{\n            'v': 83,\n            'f': \"83\",\n        },\n\"Once Upon a Time... When We Were Colored (1995)\",\n[\"Drama\", \"Romance\"]],\n [{\n            'v': 57,\n            'f': \"57\",\n        },\n\"Home for the Holidays (1995)\",\n[\"Drama\"]],\n [{\n            'v': 73,\n            'f': \"73\",\n        },\n\"Mis\\u00e9rables, Les (1995)\",\n[\"Drama\", \"War\"]],\n [{\n            'v': 12,\n            'f': \"12\",\n        },\n\"Dracula: Dead and Loving It (1995)\",\n[\"Comedy\", \"Horror\"]],\n [{\n            'v': 39,\n            'f': \"39\",\n        },\n\"Clueless (1995)\",\n[\"Comedy\", \"Romance\"]],\n [{\n            'v': 35,\n            'f': \"35\",\n        },\n\"Carrington (1995)\",\n[\"Drama\", \"Romance\"]],\n [{\n            'v': 97,\n            'f': \"97\",\n        },\n\"Hate (Haine, La) (1995)\",\n[\"Crime\", \"Drama\"]],\n [{\n            'v': 70,\n            'f': \"70\",\n        },\n\"From Dusk Till Dawn (1996)\",\n[\"Action\", \"Comedy\", \"Horror\", \"Thriller\"]],\n [{\n            'v': 46,\n            'f': \"46\",\n        },\n\"How to Make an American Quilt (1995)\",\n[\"Drama\", \"Romance\"]],\n [{\n            'v': 13,\n            'f': \"13\",\n        },\n\"Balto (1995)\",\n[\"Adventure\", \"Animation\", \"Children\"]],\n [{\n            'v': 86,\n            'f': \"86\",\n        },\n\"White Squall (1996)\",\n[\"Action\", \"Adventure\", \"Drama\"]],\n [{\n            'v': 25,\n            'f': \"25\",\n        },\n\"Leaving Las Vegas (1995)\",\n[\"Drama\", \"Romance\"]],\n [{\n            'v': 66,\n            'f': \"66\",\n        },\n\"Lawnmower Man 2: Beyond Cyberspace (1996)\",\n[\"Action\", \"Sci-Fi\", \"Thriller\"]],\n [{\n            'v': 1,\n            'f': \"1\",\n        },\n\"Toy Story (1995)\",\n[\"Adventure\", \"Animation\", \"Children\", \"Comedy\", \"Fantasy\"]],\n [{\n            'v': 22,\n            'f': \"22\",\n        },\n\"Copycat (1995)\",\n[\"Crime\", \"Drama\", \"Horror\", \"Mystery\", \"Thriller\"]],\n [{\n            'v': 2,\n            'f': \"2\",\n        },\n\"Jumanji (1995)\",\n[\"Adventure\", \"Children\", \"Fantasy\"]],\n [{\n            'v': 36,\n            'f': \"36\",\n        },\n\"Dead Man Walking (1995)\",\n[\"Crime\", \"Drama\"]],\n [{\n            'v': 17,\n            'f': \"17\",\n        },\n\"Sense and Sensibility (1995)\",\n[\"Drama\", \"Romance\"]],\n [{\n            'v': 30,\n            'f': \"30\",\n        },\n\"Shanghai Triad (Yao a yao yao dao waipo qiao) (1995)\",\n[\"Crime\", \"Drama\"]],\n [{\n            'v': 24,\n            'f': \"24\",\n        },\n\"Powder (1995)\",\n[\"Drama\", \"Sci-Fi\"]],\n [{\n            'v': 93,\n            'f': \"93\",\n        },\n\"Vampire in Brooklyn (1995)\",\n[\"Comedy\", \"Horror\", \"Romance\"]],\n [{\n            'v': 14,\n            'f': \"14\",\n        },\n\"Nixon (1995)\",\n[\"Drama\"]],\n [{\n            'v': 71,\n            'f': \"71\",\n        },\n\"Fair Game (1995)\",\n[\"Action\"]],\n [{\n            'v': 49,\n            'f': \"49\",\n        },\n\"When Night Is Falling (1995)\",\n[\"Drama\", \"Romance\"]],\n [{\n            'v': 27,\n            'f': \"27\",\n        },\n\"Now and Then (1995)\",\n[\"Children\", \"Drama\"]],\n [{\n            'v': 59,\n            'f': \"59\",\n        },\n\"Confessional, The (Confessionnal, Le) (1995)\",\n[\"Drama\", \"Mystery\"]],\n [{\n            'v': 3,\n            'f': \"3\",\n        },\n\"Grumpier Old Men (1995)\",\n[\"Comedy\", \"Romance\"]],\n [{\n            'v': 34,\n            'f': \"34\",\n        },\n\"Babe (1995)\",\n[\"Children\", \"Drama\"]],\n [{\n            'v': 19,\n            'f': \"19\",\n        },\n\"Ace Ventura: When Nature Calls (1995)\",\n[\"Comedy\"]],\n [{\n            'v': 99,\n            'f': \"99\",\n        },\n\"Heidi Fleiss: Hollywood Madam (1995)\",\n[\"Documentary\"]],\n [{\n            'v': 23,\n            'f': \"23\",\n        },\n\"Assassins (1995)\",\n[\"Action\", \"Crime\", \"Thriller\"]],\n [{\n            'v': 60,\n            'f': \"60\",\n        },\n\"Indian in the Cupboard, The (1995)\",\n[\"Adventure\", \"Children\", \"Fantasy\"]],\n [{\n            'v': 52,\n            'f': \"52\",\n        },\n\"Mighty Aphrodite (1995)\",\n[\"Comedy\", \"Drama\", \"Romance\"]],\n [{\n            'v': 84,\n            'f': \"84\",\n        },\n\"Last Summer in the Hamptons (1995)\",\n[\"Comedy\", \"Drama\"]],\n [{\n            'v': 76,\n            'f': \"76\",\n        },\n\"Screamers (1995)\",\n[\"Action\", \"Sci-Fi\", \"Thriller\"]],\n [{\n            'v': 7,\n            'f': \"7\",\n        },\n\"Sabrina (1995)\",\n[\"Comedy\", \"Romance\"]],\n [{\n            'v': 16,\n            'f': \"16\",\n        },\n\"Casino (1995)\",\n[\"Crime\", \"Drama\"]],\n [{\n            'v': 61,\n            'f': \"61\",\n        },\n\"Eye for an Eye (1996)\",\n[\"Drama\", \"Thriller\"]],\n [{\n            'v': 62,\n            'f': \"62\",\n        },\n\"Mr. Holland's Opus (1995)\",\n[\"Drama\"]],\n [{\n            'v': 98,\n            'f': \"98\",\n        },\n\"Shopping (1994)\",\n[\"Action\", \"Thriller\"]],\n [{\n            'v': 10,\n            'f': \"10\",\n        },\n\"GoldenEye (1995)\",\n[\"Action\", \"Adventure\", \"Thriller\"]],\n [{\n            'v': 47,\n            'f': \"47\",\n        },\n\"Seven (a.k.a. Se7en) (1995)\",\n[\"Mystery\", \"Thriller\"]],\n [{\n            'v': 78,\n            'f': \"78\",\n        },\n\"Crossing Guard, The (1995)\",\n[\"Action\", \"Crime\", \"Drama\", \"Thriller\"]],\n [{\n            'v': 81,\n            'f': \"81\",\n        },\n\"Things to Do in Denver When You're Dead (1995)\",\n[\"Crime\", \"Drama\", \"Romance\"]],\n [{\n            'v': 40,\n            'f': \"40\",\n        },\n\"Cry, the Beloved Country (1995)\",\n[\"Drama\"]],\n [{\n            'v': 74,\n            'f': \"74\",\n        },\n\"Bed of Roses (1996)\",\n[\"Drama\", \"Romance\"]],\n [{\n            'v': 89,\n            'f': \"89\",\n        },\n\"Nick of Time (1995)\",\n[\"Action\", \"Thriller\"]],\n [{\n            'v': 42,\n            'f': \"42\",\n        },\n\"Dead Presidents (1995)\",\n[\"Action\", \"Crime\", \"Drama\"]],\n [{\n            'v': 5,\n            'f': \"5\",\n        },\n\"Father of the Bride Part II (1995)\",\n[\"Comedy\"]],\n [{\n            'v': 43,\n            'f': \"43\",\n        },\n\"Restoration (1995)\",\n[\"Drama\"]],\n [{\n            'v': 65,\n            'f': \"65\",\n        },\n\"Bio-Dome (1996)\",\n[\"Comedy\"]],\n [{\n            'v': 48,\n            'f': \"48\",\n        },\n\"Pocahontas (1995)\",\n[\"Animation\", \"Children\", \"Drama\", \"Musical\", \"Romance\"]],\n [{\n            'v': 72,\n            'f': \"72\",\n        },\n\"Kicking and Screaming (1995)\",\n[\"Comedy\", \"Drama\"]],\n [{\n            'v': 21,\n            'f': \"21\",\n        },\n\"Get Shorty (1995)\",\n[\"Comedy\", \"Crime\", \"Thriller\"]],\n [{\n            'v': 63,\n            'f': \"63\",\n        },\n\"Don't Be a Menace to South Central While Drinking Your Juice in the Hood (1996)\",\n[\"Comedy\", \"Crime\"]],\n [{\n            'v': 95,\n            'f': \"95\",\n        },\n\"Broken Arrow (1996)\",\n[\"Action\", \"Adventure\", \"Thriller\"]],\n [{\n            'v': 8,\n            'f': \"8\",\n        },\n\"Tom and Huck (1995)\",\n[\"Adventure\", \"Children\"]],\n [{\n            'v': 53,\n            'f': \"53\",\n        },\n\"Lamerica (1994)\",\n[\"Adventure\", \"Drama\"]],\n [{\n            'v': 50,\n            'f': \"50\",\n        },\n\"Usual Suspects, The (1995)\",\n[\"Crime\", \"Mystery\", \"Thriller\"]],\n [{\n            'v': 96,\n            'f': \"96\",\n        },\n\"In the Bleak Midwinter (1995)\",\n[\"Comedy\", \"Drama\"]],\n [{\n            'v': 55,\n            'f': \"55\",\n        },\n\"Georgia (1995)\",\n[\"Drama\"]],\n [{\n            'v': 6,\n            'f': \"6\",\n        },\n\"Heat (1995)\",\n[\"Action\", \"Crime\", \"Thriller\"]],\n [{\n            'v': 31,\n            'f': \"31\",\n        },\n\"Dangerous Minds (1995)\",\n[\"Drama\"]],\n [{\n            'v': 79,\n            'f': \"79\",\n        },\n\"Juror, The (1996)\",\n[\"Drama\", \"Thriller\"]],\n [{\n            'v': 92,\n            'f': \"92\",\n        },\n\"Mary Reilly (1996)\",\n[\"Drama\", \"Horror\", \"Thriller\"]],\n [{\n            'v': 77,\n            'f': \"77\",\n        },\n\"Nico Icon (1995)\",\n[\"Documentary\"]],\n [{\n            'v': 18,\n            'f': \"18\",\n        },\n\"Four Rooms (1995)\",\n[\"Comedy\"]],\n [{\n            'v': 26,\n            'f': \"26\",\n        },\n\"Othello (1995)\",\n[\"Drama\"]],\n [{\n            'v': 11,\n            'f': \"11\",\n        },\n\"American President, The (1995)\",\n[\"Comedy\", \"Drama\", \"Romance\"]],\n [{\n            'v': 41,\n            'f': \"41\",\n        },\n\"Richard III (1995)\",\n[\"Drama\", \"War\"]],\n [{\n            'v': 29,\n            'f': \"29\",\n        },\n\"City of Lost Children, The (Cit\\u00e9 des enfants perdus, La) (1995)\",\n[\"Adventure\", \"Drama\", \"Fantasy\", \"Mystery\", \"Sci-Fi\"]],\n [{\n            'v': 82,\n            'f': \"82\",\n        },\n\"Antonia's Line (Antonia) (1995)\",\n[\"Comedy\", \"Drama\"]],\n [{\n            'v': 44,\n            'f': \"44\",\n        },\n\"Mortal Kombat (1995)\",\n[\"Action\", \"Adventure\", \"Fantasy\"]],\n [{\n            'v': 28,\n            'f': \"28\",\n        },\n\"Persuasion (1995)\",\n[\"Drama\", \"Romance\"]],\n [{\n            'v': 32,\n            'f': \"32\",\n        },\n\"Twelve Monkeys (a.k.a. 12 Monkeys) (1995)\",\n[\"Mystery\", \"Sci-Fi\", \"Thriller\"]],\n [{\n            'v': 69,\n            'f': \"69\",\n        },\n\"Friday (1995)\",\n[\"Comedy\"]],\n [{\n            'v': 68,\n            'f': \"68\",\n        },\n\"French Twist (Gazon maudit) (1995)\",\n[\"Comedy\", \"Romance\"]],\n [{\n            'v': 38,\n            'f': \"38\",\n        },\n\"It Takes Two (1995)\",\n[\"Children\", \"Comedy\"]],\n [{\n            'v': 15,\n            'f': \"15\",\n        },\n\"Cutthroat Island (1995)\",\n[\"Action\", \"Adventure\", \"Romance\"]],\n [{\n            'v': 85,\n            'f': \"85\",\n        },\n\"Angels and Insects (1995)\",\n[\"Drama\", \"Romance\"]],\n [{\n            'v': 64,\n            'f': \"64\",\n        },\n\"Two if by Sea (1996)\",\n[\"Comedy\", \"Romance\"]],\n [{\n            'v': 37,\n            'f': \"37\",\n        },\n\"Across the Sea of Time (1995)\",\n[\"Documentary\", \"IMAX\"]]],\n        columns: [[\"number\", \"nF\"], [\"string\", \"titre\"], [\"string\", \"genres\"]],\n        columnOptions: [],\n        rowsPerPage: 10,\n        helpUrl: \"https://colab.research.google.com/notebooks/data_table.ipynb\",\n        suppressOutputScrolling: true,\n        minimumWidth: undefined,\n      });\n    ",
      "text/html": [
       "<div>\n",
       "<style scoped>\n",
       "    .dataframe tbody tr th:only-of-type {\n",
       "        vertical-align: middle;\n",
       "    }\n",
       "\n",
       "    .dataframe tbody tr th {\n",
       "        vertical-align: top;\n",
       "    }\n",
       "\n",
       "    .dataframe thead th {\n",
       "        text-align: right;\n",
       "    }\n",
       "</style>\n",
       "<table border=\"1\" class=\"dataframe\">\n",
       "  <thead>\n",
       "    <tr style=\"text-align: right;\">\n",
       "      <th></th>\n",
       "      <th>nF</th>\n",
       "      <th>titre</th>\n",
       "      <th>genres</th>\n",
       "    </tr>\n",
       "  </thead>\n",
       "  <tbody>\n",
       "    <tr>\n",
       "      <th>0</th>\n",
       "      <td>94</td>\n",
       "      <td>Beautiful Girls (1996)</td>\n",
       "      <td>[Comedy, Drama, Romance]</td>\n",
       "    </tr>\n",
       "    <tr>\n",
       "      <th>1</th>\n",
       "      <td>45</td>\n",
       "      <td>To Die For (1995)</td>\n",
       "      <td>[Comedy, Drama, Thriller]</td>\n",
       "    </tr>\n",
       "    <tr>\n",
       "      <th>2</th>\n",
       "      <td>58</td>\n",
       "      <td>Postman, The (Postino, Il) (1994)</td>\n",
       "      <td>[Comedy, Drama, Romance]</td>\n",
       "    </tr>\n",
       "    <tr>\n",
       "      <th>3</th>\n",
       "      <td>54</td>\n",
       "      <td>Big Green, The (1995)</td>\n",
       "      <td>[Children, Comedy]</td>\n",
       "    </tr>\n",
       "    <tr>\n",
       "      <th>4</th>\n",
       "      <td>9</td>\n",
       "      <td>Sudden Death (1995)</td>\n",
       "      <td>[Action]</td>\n",
       "    </tr>\n",
       "    <tr>\n",
       "      <th>...</th>\n",
       "      <td>...</td>\n",
       "      <td>...</td>\n",
       "      <td>...</td>\n",
       "    </tr>\n",
       "    <tr>\n",
       "      <th>87</th>\n",
       "      <td>38</td>\n",
       "      <td>It Takes Two (1995)</td>\n",
       "      <td>[Children, Comedy]</td>\n",
       "    </tr>\n",
       "    <tr>\n",
       "      <th>88</th>\n",
       "      <td>15</td>\n",
       "      <td>Cutthroat Island (1995)</td>\n",
       "      <td>[Action, Adventure, Romance]</td>\n",
       "    </tr>\n",
       "    <tr>\n",
       "      <th>89</th>\n",
       "      <td>85</td>\n",
       "      <td>Angels and Insects (1995)</td>\n",
       "      <td>[Drama, Romance]</td>\n",
       "    </tr>\n",
       "    <tr>\n",
       "      <th>90</th>\n",
       "      <td>64</td>\n",
       "      <td>Two if by Sea (1996)</td>\n",
       "      <td>[Comedy, Romance]</td>\n",
       "    </tr>\n",
       "    <tr>\n",
       "      <th>91</th>\n",
       "      <td>37</td>\n",
       "      <td>Across the Sea of Time (1995)</td>\n",
       "      <td>[Documentary, IMAX]</td>\n",
       "    </tr>\n",
       "  </tbody>\n",
       "</table>\n",
       "<p>92 rows × 3 columns</p>\n",
       "</div>"
      ],
      "text/plain": [
       "<google.colab.data_table.DataTable object>"
      ]
     },
     "execution_count": 78,
     "metadata": {},
     "output_type": "execute_result"
    }
   ],
   "source": [
    "# schema_film = \"nf long, titre String, g Array<String>\"\n",
    "schema_film = StructType([StructField('nF',LongType()),\n",
    "                          StructField('titre',StringType()),\n",
    "                          StructField('g',ArrayType(StringType()))])\n",
    "\n",
    "films = spark.read.json(local_dir + \"/\" + \"films.json\", schema = schema_film).selectExpr(\"nF\", \"titre\", \"g as genres\")\n",
    "# print('schema:', films.schema)\n",
    "\n",
    "# extrait\n",
    "film_extrait = films.where(\"nF <100\").repartition(3).persist()\n",
    "\n",
    "film_extrait.printSchema()\n",
    "display(film_extrait)"
   ]
  },
  {
   "cell_type": "markdown",
   "metadata": {
    "application/vnd.databricks.v1+cell": {
     "inputWidgets": {},
     "nuid": "2e9bc8ed-3a2c-47b7-b30e-778f5215a8c8",
     "showTitle": false,
     "title": ""
    },
    "id": "wA2unoChHl92"
   },
   "source": [
    "### Dataframe Les Notes"
   ]
  },
  {
   "cell_type": "markdown",
   "metadata": {
    "id": "GbFT72hEEDJw"
   },
   "source": [
    "\n",
    "\n",
    "*   On récupère un échantillion de notes, en gardant celles qui référence un film existant\n",
    "*   On partitionne les données de notes dans 3 partitions\n",
    "\n"
   ]
  },
  {
   "cell_type": "code",
   "execution_count": 79,
   "metadata": {
    "application/vnd.databricks.v1+cell": {
     "inputWidgets": {},
     "nuid": "8f256218-b2f3-44af-b884-0f8b1de83e29",
     "showTitle": false,
     "title": ""
    },
    "colab": {
     "base_uri": "https://localhost:8080/",
     "height": 332
    },
    "id": "wURzXvlfHl93",
    "outputId": "650a83bc-0912-4cf6-c18b-0f8b0a10018f"
   },
   "outputs": [
    {
     "name": "stdout",
     "output_type": "stream",
     "text": [
      "185\n"
     ]
    },
    {
     "data": {
      "application/vnd.google.colaboratory.module+javascript": "\n      import \"https://ssl.gstatic.com/colaboratory/data_table/fb998edc550c7947/data_table.js\";\n\n      window.createDataTable({\n        data: [[{\n            'v': 19,\n            'f': \"19\",\n        },\n{\n            'v': 76,\n            'f': \"76\",\n        },\n{\n            'v': 1.5,\n            'f': \"1.5\",\n        },\n{\n            'v': 2011,\n            'f': \"2011\",\n        }],\n [{\n            'v': 62,\n            'f': \"62\",\n        },\n{\n            'v': 691,\n            'f': \"691\",\n        },\n{\n            'v': 5.0,\n            'f': \"5.0\",\n        },\n{\n            'v': 1996,\n            'f': \"1996\",\n        }],\n [{\n            'v': 25,\n            'f': \"25\",\n        },\n{\n            'v': 832,\n            'f': \"832\",\n        },\n{\n            'v': 5.0,\n            'f': \"5.0\",\n        },\n{\n            'v': 1998,\n            'f': \"1998\",\n        }],\n [{\n            'v': 5,\n            'f': \"5\",\n        },\n{\n            'v': 296,\n            'f': \"296\",\n        },\n{\n            'v': 3.5,\n            'f': \"3.5\",\n        },\n{\n            'v': 2005,\n            'f': \"2005\",\n        }],\n [{\n            'v': 48,\n            'f': \"48\",\n        },\n{\n            'v': 781,\n            'f': \"781\",\n        },\n{\n            'v': 3.0,\n            'f': \"3.0\",\n        },\n{\n            'v': 1996,\n            'f': \"1996\",\n        }],\n [{\n            'v': 34,\n            'f': \"34\",\n        },\n{\n            'v': 871,\n            'f': \"871\",\n        },\n{\n            'v': 4.0,\n            'f': \"4.0\",\n        },\n{\n            'v': 2000,\n            'f': \"2000\",\n        }],\n [{\n            'v': 2,\n            'f': \"2\",\n        },\n{\n            'v': 796,\n            'f': \"796\",\n        },\n{\n            'v': 1.5,\n            'f': \"1.5\",\n        },\n{\n            'v': 2015,\n            'f': \"2015\",\n        }],\n [{\n            'v': 2,\n            'f': \"2\",\n        },\n{\n            'v': 353,\n            'f': \"353\",\n        },\n{\n            'v': 3.0,\n            'f': \"3.0\",\n        },\n{\n            'v': 2003,\n            'f': \"2003\",\n        }],\n [{\n            'v': 28,\n            'f': \"28\",\n        },\n{\n            'v': 815,\n            'f': \"815\",\n        },\n{\n            'v': 5.0,\n            'f': \"5.0\",\n        },\n{\n            'v': 1996,\n            'f': \"1996\",\n        }],\n [{\n            'v': 5,\n            'f': \"5\",\n        },\n{\n            'v': 196,\n            'f': \"196\",\n        },\n{\n            'v': 4.0,\n            'f': \"4.0\",\n        },\n{\n            'v': 1996,\n            'f': \"1996\",\n        }],\n [{\n            'v': 62,\n            'f': \"62\",\n        },\n{\n            'v': 760,\n            'f': \"760\",\n        },\n{\n            'v': 4.0,\n            'f': \"4.0\",\n        },\n{\n            'v': 1996,\n            'f': \"1996\",\n        }],\n [{\n            'v': 29,\n            'f': \"29\",\n        },\n{\n            'v': 882,\n            'f': \"882\",\n        },\n{\n            'v': 5.0,\n            'f': \"5.0\",\n        },\n{\n            'v': 1996,\n            'f': \"1996\",\n        }],\n [{\n            'v': 62,\n            'f': \"62\",\n        },\n{\n            'v': 989,\n            'f': \"989\",\n        },\n{\n            'v': 3.0,\n            'f': \"3.0\",\n        },\n{\n            'v': 1997,\n            'f': \"1997\",\n        }],\n [{\n            'v': 12,\n            'f': \"12\",\n        },\n{\n            'v': 459,\n            'f': \"459\",\n        },\n{\n            'v': 3.0,\n            'f': \"3.0\",\n        },\n{\n            'v': 2015,\n            'f': \"2015\",\n        }],\n [{\n            'v': 62,\n            'f': \"62\",\n        },\n{\n            'v': 87,\n            'f': \"87\",\n        },\n{\n            'v': 3.0,\n            'f': \"3.0\",\n        },\n{\n            'v': 1997,\n            'f': \"1997\",\n        }],\n [{\n            'v': 61,\n            'f': \"61\",\n        },\n{\n            'v': 638,\n            'f': \"638\",\n        },\n{\n            'v': 3.0,\n            'f': \"3.0\",\n        },\n{\n            'v': 1996,\n            'f': \"1996\",\n        }],\n [{\n            'v': 95,\n            'f': \"95\",\n        },\n{\n            'v': 400,\n            'f': \"400\",\n        },\n{\n            'v': 3.0,\n            'f': \"3.0\",\n        },\n{\n            'v': 1996,\n            'f': \"1996\",\n        }],\n [{\n            'v': 1,\n            'f': \"1\",\n        },\n{\n            'v': 457,\n            'f': \"457\",\n        },\n{\n            'v': 4.0,\n            'f': \"4.0\",\n        },\n{\n            'v': 2017,\n            'f': \"2017\",\n        }],\n [{\n            'v': 1,\n            'f': \"1\",\n        },\n{\n            'v': 606,\n            'f': \"606\",\n        },\n{\n            'v': 4.0,\n            'f': \"4.0\",\n        },\n{\n            'v': 2002,\n            'f': \"2002\",\n        }],\n [{\n            'v': 11,\n            'f': \"11\",\n        },\n{\n            'v': 236,\n            'f': \"236\",\n        },\n{\n            'v': 4.0,\n            'f': \"4.0\",\n        },\n{\n            'v': 2001,\n            'f': \"2001\",\n        }],\n [{\n            'v': 10,\n            'f': \"10\",\n        },\n{\n            'v': 341,\n            'f': \"341\",\n        },\n{\n            'v': 3.0,\n            'f': \"3.0\",\n        },\n{\n            'v': 1997,\n            'f': \"1997\",\n        }],\n [{\n            'v': 65,\n            'f': \"65\",\n        },\n{\n            'v': 953,\n            'f': \"953\",\n        },\n{\n            'v': 3.0,\n            'f': \"3.0\",\n        },\n{\n            'v': 1997,\n            'f': \"1997\",\n        }],\n [{\n            'v': 10,\n            'f': \"10\",\n        },\n{\n            'v': 481,\n            'f': \"481\",\n        },\n{\n            'v': 2.0,\n            'f': \"2.0\",\n        },\n{\n            'v': 1996,\n            'f': \"1996\",\n        }],\n [{\n            'v': 1,\n            'f': \"1\",\n        },\n{\n            'v': 869,\n            'f': \"869\",\n        },\n{\n            'v': 4.0,\n            'f': \"4.0\",\n        },\n{\n            'v': 2012,\n            'f': \"2012\",\n        }],\n [{\n            'v': 6,\n            'f': \"6\",\n        },\n{\n            'v': 733,\n            'f': \"733\",\n        },\n{\n            'v': 4.5,\n            'f': \"4.5\",\n        },\n{\n            'v': 2006,\n            'f': \"2006\",\n        }],\n [{\n            'v': 6,\n            'f': \"6\",\n        },\n{\n            'v': 384,\n            'f': \"384\",\n        },\n{\n            'v': 3.0,\n            'f': \"3.0\",\n        },\n{\n            'v': 2000,\n            'f': \"2000\",\n        }],\n [{\n            'v': 6,\n            'f': \"6\",\n        },\n{\n            'v': 703,\n            'f': \"703\",\n        },\n{\n            'v': 4.0,\n            'f': \"4.0\",\n        },\n{\n            'v': 2003,\n            'f': \"2003\",\n        }],\n [{\n            'v': 11,\n            'f': \"11\",\n        },\n{\n            'v': 455,\n            'f': \"455\",\n        },\n{\n            'v': 3.0,\n            'f': \"3.0\",\n        },\n{\n            'v': 1996,\n            'f': \"1996\",\n        }],\n [{\n            'v': 6,\n            'f': \"6\",\n        },\n{\n            'v': 153,\n            'f': \"153\",\n        },\n{\n            'v': 4.5,\n            'f': \"4.5\",\n        },\n{\n            'v': 2004,\n            'f': \"2004\",\n        }],\n [{\n            'v': 36,\n            'f': \"36\",\n        },\n{\n            'v': 523,\n            'f': \"523\",\n        },\n{\n            'v': 3.0,\n            'f': \"3.0\",\n        },\n{\n            'v': 1998,\n            'f': \"1998\",\n        }],\n [{\n            'v': 10,\n            'f': \"10\",\n        },\n{\n            'v': 421,\n            'f': \"421\",\n        },\n{\n            'v': 4.0,\n            'f': \"4.0\",\n        },\n{\n            'v': 1999,\n            'f': \"1999\",\n        }],\n [{\n            'v': 36,\n            'f': \"36\",\n        },\n{\n            'v': 332,\n            'f': \"332\",\n        },\n{\n            'v': 3.5,\n            'f': \"3.5\",\n        },\n{\n            'v': 2015,\n            'f': \"2015\",\n        }],\n [{\n            'v': 32,\n            'f': \"32\",\n        },\n{\n            'v': 160,\n            'f': \"160\",\n        },\n{\n            'v': 4.0,\n            'f': \"4.0\",\n        },\n{\n            'v': 2000,\n            'f': \"2000\",\n        }],\n [{\n            'v': 32,\n            'f': \"32\",\n        },\n{\n            'v': 848,\n            'f': \"848\",\n        },\n{\n            'v': 4.0,\n            'f': \"4.0\",\n        },\n{\n            'v': 2007,\n            'f': \"2007\",\n        }],\n [{\n            'v': 22,\n            'f': \"22\",\n        },\n{\n            'v': 66,\n            'f': \"66\",\n        },\n{\n            'v': 2.0,\n            'f': \"2.0\",\n        },\n{\n            'v': 2003,\n            'f': \"2003\",\n        }],\n [{\n            'v': 36,\n            'f': \"36\",\n        },\n{\n            'v': 12,\n            'f': \"12\",\n        },\n{\n            'v': 3.0,\n            'f': \"3.0\",\n        },\n{\n            'v': 1999,\n            'f': \"1999\",\n        }],\n [{\n            'v': 16,\n            'f': \"16\",\n        },\n{\n            'v': 12,\n            'f': \"12\",\n        },\n{\n            'v': 4.0,\n            'f': \"4.0\",\n        },\n{\n            'v': 1999,\n            'f': \"1999\",\n        }],\n [{\n            'v': 44,\n            'f': \"44\",\n        },\n{\n            'v': 595,\n            'f': \"595\",\n        },\n{\n            'v': 3.0,\n            'f': \"3.0\",\n        },\n{\n            'v': 1996,\n            'f': \"1996\",\n        }],\n [{\n            'v': 44,\n            'f': \"44\",\n        },\n{\n            'v': 267,\n            'f': \"267\",\n        },\n{\n            'v': 2.5,\n            'f': \"2.5\",\n        },\n{\n            'v': 2016,\n            'f': \"2016\",\n        }],\n [{\n            'v': 50,\n            'f': \"50\",\n        },\n{\n            'v': 308,\n            'f': \"308\",\n        },\n{\n            'v': 5.0,\n            'f': \"5.0\",\n        },\n{\n            'v': 2001,\n            'f': \"2001\",\n        }],\n [{\n            'v': 89,\n            'f': \"89\",\n        },\n{\n            'v': 426,\n            'f': \"426\",\n        },\n{\n            'v': 2.0,\n            'f': \"2.0\",\n        },\n{\n            'v': 1999,\n            'f': \"1999\",\n        }],\n [{\n            'v': 14,\n            'f': \"14\",\n        },\n{\n            'v': 157,\n            'f': \"157\",\n        },\n{\n            'v': 3.0,\n            'f': \"3.0\",\n        },\n{\n            'v': 1996,\n            'f': \"1996\",\n        }],\n [{\n            'v': 50,\n            'f': \"50\",\n        },\n{\n            'v': 834,\n            'f': \"834\",\n        },\n{\n            'v': 4.5,\n            'f': \"4.5\",\n        },\n{\n            'v': 2017,\n            'f': \"2017\",\n        }],\n [{\n            'v': 14,\n            'f': \"14\",\n        },\n{\n            'v': 112,\n            'f': \"112\",\n        },\n{\n            'v': 3.0,\n            'f': \"3.0\",\n        },\n{\n            'v': 1996,\n            'f': \"1996\",\n        }],\n [{\n            'v': 94,\n            'f': \"94\",\n        },\n{\n            'v': 353,\n            'f': \"353\",\n        },\n{\n            'v': 4.0,\n            'f': \"4.0\",\n        },\n{\n            'v': 2003,\n            'f': \"2003\",\n        }],\n [{\n            'v': 17,\n            'f': \"17\",\n        },\n{\n            'v': 523,\n            'f': \"523\",\n        },\n{\n            'v': 5.0,\n            'f': \"5.0\",\n        },\n{\n            'v': 1998,\n            'f': \"1998\",\n        }],\n [{\n            'v': 79,\n            'f': \"79\",\n        },\n{\n            'v': 295,\n            'f': \"295\",\n        },\n{\n            'v': 3.5,\n            'f': \"3.5\",\n        },\n{\n            'v': 2013,\n            'f': \"2013\",\n        }],\n [{\n            'v': 21,\n            'f': \"21\",\n        },\n{\n            'v': 638,\n            'f': \"638\",\n        },\n{\n            'v': 4.0,\n            'f': \"4.0\",\n        },\n{\n            'v': 1996,\n            'f': \"1996\",\n        }],\n [{\n            'v': 7,\n            'f': \"7\",\n        },\n{\n            'v': 611,\n            'f': \"611\",\n        },\n{\n            'v': 2.0,\n            'f': \"2.0\",\n        },\n{\n            'v': 1999,\n            'f': \"1999\",\n        }],\n [{\n            'v': 39,\n            'f': \"39\",\n        },\n{\n            'v': 524,\n            'f': \"524\",\n        },\n{\n            'v': 4.0,\n            'f': \"4.0\",\n        },\n{\n            'v': 1996,\n            'f': \"1996\",\n        }],\n [{\n            'v': 58,\n            'f': \"58\",\n        },\n{\n            'v': 487,\n            'f': \"487\",\n        },\n{\n            'v': 4.0,\n            'f': \"4.0\",\n        },\n{\n            'v': 1997,\n            'f': \"1997\",\n        }],\n [{\n            'v': 39,\n            'f': \"39\",\n        },\n{\n            'v': 546,\n            'f': \"546\",\n        },\n{\n            'v': 3.0,\n            'f': \"3.0\",\n        },\n{\n            'v': 1996,\n            'f': \"1996\",\n        }],\n [{\n            'v': 58,\n            'f': \"58\",\n        },\n{\n            'v': 773,\n            'f': \"773\",\n        },\n{\n            'v': 4.0,\n            'f': \"4.0\",\n        },\n{\n            'v': 1999,\n            'f': \"1999\",\n        }],\n [{\n            'v': 21,\n            'f': \"21\",\n        },\n{\n            'v': 557,\n            'f': \"557\",\n        },\n{\n            'v': 4.0,\n            'f': \"4.0\",\n        },\n{\n            'v': 2002,\n            'f': \"2002\",\n        }],\n [{\n            'v': 45,\n            'f': \"45\",\n        },\n{\n            'v': 308,\n            'f': \"308\",\n        },\n{\n            'v': 3.0,\n            'f': \"3.0\",\n        },\n{\n            'v': 2001,\n            'f': \"2001\",\n        }],\n [{\n            'v': 58,\n            'f': \"58\",\n        },\n{\n            'v': 439,\n            'f': \"439\",\n        },\n{\n            'v': 1.5,\n            'f': \"1.5\",\n        },\n{\n            'v': 2003,\n            'f': \"2003\",\n        }],\n [{\n            'v': 52,\n            'f': \"52\",\n        },\n{\n            'v': 825,\n            'f': \"825\",\n        },\n{\n            'v': 4.0,\n            'f': \"4.0\",\n        },\n{\n            'v': 2016,\n            'f': \"2016\",\n        }],\n [{\n            'v': 70,\n            'f': \"70\",\n        },\n{\n            'v': 619,\n            'f': \"619\",\n        },\n{\n            'v': 5.0,\n            'f': \"5.0\",\n        },\n{\n            'v': 1996,\n            'f': \"1996\",\n        }],\n [{\n            'v': 3,\n            'f': \"3\",\n        },\n{\n            'v': 979,\n            'f': \"979\",\n        },\n{\n            'v': 3.0,\n            'f': \"3.0\",\n        },\n{\n            'v': 1997,\n            'f': \"1997\",\n        }],\n [{\n            'v': 7,\n            'f': \"7\",\n        },\n{\n            'v': 368,\n            'f': \"368\",\n        },\n{\n            'v': 2.5,\n            'f': \"2.5\",\n        },\n{\n            'v': 2006,\n            'f': \"2006\",\n        }],\n [{\n            'v': 47,\n            'f': \"47\",\n        },\n{\n            'v': 51,\n            'f': \"51\",\n        },\n{\n            'v': 5.0,\n            'f': \"5.0\",\n        },\n{\n            'v': 2008,\n            'f': \"2008\",\n        }],\n [{\n            'v': 39,\n            'f': \"39\",\n        },\n{\n            'v': 308,\n            'f': \"308\",\n        },\n{\n            'v': 4.0,\n            'f': \"4.0\",\n        },\n{\n            'v': 2001,\n            'f': \"2001\",\n        }],\n [{\n            'v': 15,\n            'f': \"15\",\n        },\n{\n            'v': 875,\n            'f': \"875\",\n        },\n{\n            'v': 4.0,\n            'f': \"4.0\",\n        },\n{\n            'v': 1996,\n            'f': \"1996\",\n        }],\n [{\n            'v': 62,\n            'f': \"62\",\n        },\n{\n            'v': 368,\n            'f': \"368\",\n        },\n{\n            'v': 4.0,\n            'f': \"4.0\",\n        },\n{\n            'v': 2006,\n            'f': \"2006\",\n        }],\n [{\n            'v': 29,\n            'f': \"29\",\n        },\n{\n            'v': 592,\n            'f': \"592\",\n        },\n{\n            'v': 4.0,\n            'f': \"4.0\",\n        },\n{\n            'v': 2000,\n            'f': \"2000\",\n        }],\n [{\n            'v': 31,\n            'f': \"31\",\n        },\n{\n            'v': 767,\n            'f': \"767\",\n        },\n{\n            'v': 3.0,\n            'f': \"3.0\",\n        },\n{\n            'v': 1996,\n            'f': \"1996\",\n        }],\n [{\n            'v': 25,\n            'f': \"25\",\n        },\n{\n            'v': 339,\n            'f': \"339\",\n        },\n{\n            'v': 5.0,\n            'f': \"5.0\",\n        },\n{\n            'v': 1997,\n            'f': \"1997\",\n        }],\n [{\n            'v': 34,\n            'f': \"34\",\n        },\n{\n            'v': 682,\n            'f': \"682\",\n        },\n{\n            'v': 4.0,\n            'f': \"4.0\",\n        },\n{\n            'v': 2000,\n            'f': \"2000\",\n        }],\n [{\n            'v': 19,\n            'f': \"19\",\n        },\n{\n            'v': 63,\n            'f': \"63\",\n        },\n{\n            'v': 0.5,\n            'f': \"0.5\",\n        },\n{\n            'v': 2007,\n            'f': \"2007\",\n        }],\n [{\n            'v': 19,\n            'f': \"19\",\n        },\n{\n            'v': 240,\n            'f': \"240\",\n        },\n{\n            'v': 1.5,\n            'f': \"1.5\",\n        },\n{\n            'v': 2003,\n            'f': \"2003\",\n        }],\n [{\n            'v': 2,\n            'f': \"2\",\n        },\n{\n            'v': 390,\n            'f': \"390\",\n        },\n{\n            'v': 2.0,\n            'f': \"2.0\",\n        },\n{\n            'v': 2005,\n            'f': \"2005\",\n        }],\n [{\n            'v': 19,\n            'f': \"19\",\n        },\n{\n            'v': 533,\n            'f': \"533\",\n        },\n{\n            'v': 3.0,\n            'f': \"3.0\",\n        },\n{\n            'v': 2000,\n            'f': \"2000\",\n        }],\n [{\n            'v': 34,\n            'f': \"34\",\n        },\n{\n            'v': 332,\n            'f': \"332\",\n        },\n{\n            'v': 2.5,\n            'f': \"2.5\",\n        },\n{\n            'v': 2009,\n            'f': \"2009\",\n        }],\n [{\n            'v': 29,\n            'f': \"29\",\n        },\n{\n            'v': 924,\n            'f': \"924\",\n        },\n{\n            'v': 4.0,\n            'f': \"4.0\",\n        },\n{\n            'v': 2015,\n            'f': \"2015\",\n        }],\n [{\n            'v': 34,\n            'f': \"34\",\n        },\n{\n            'v': 881,\n            'f': \"881\",\n        },\n{\n            'v': 4.0,\n            'f': \"4.0\",\n        },\n{\n            'v': 2006,\n            'f': \"2006\",\n        }],\n [{\n            'v': 34,\n            'f': \"34\",\n        },\n{\n            'v': 546,\n            'f': \"546\",\n        },\n{\n            'v': 5.0,\n            'f': \"5.0\",\n        },\n{\n            'v': 1996,\n            'f': \"1996\",\n        }],\n [{\n            'v': 25,\n            'f': \"25\",\n        },\n{\n            'v': 638,\n            'f': \"638\",\n        },\n{\n            'v': 4.0,\n            'f': \"4.0\",\n        },\n{\n            'v': 1996,\n            'f': \"1996\",\n        }],\n [{\n            'v': 25,\n            'f': \"25\",\n        },\n{\n            'v': 640,\n            'f': \"640\",\n        },\n{\n            'v': 3.5,\n            'f': \"3.5\",\n        },\n{\n            'v': 2004,\n            'f': \"2004\",\n        }],\n [{\n            'v': 6,\n            'f': \"6\",\n        },\n{\n            'v': 52,\n            'f': \"52\",\n        },\n{\n            'v': 3.0,\n            'f': \"3.0\",\n        },\n{\n            'v': 1997,\n            'f': \"1997\",\n        }],\n [{\n            'v': 1,\n            'f': \"1\",\n        },\n{\n            'v': 75,\n            'f': \"75\",\n        },\n{\n            'v': 4.0,\n            'f': \"4.0\",\n        },\n{\n            'v': 2007,\n            'f': \"2007\",\n        }],\n [{\n            'v': 6,\n            'f': \"6\",\n        },\n{\n            'v': 619,\n            'f': \"619\",\n        },\n{\n            'v': 2.0,\n            'f': \"2.0\",\n        },\n{\n            'v': 1996,\n            'f': \"1996\",\n        }],\n [{\n            'v': 6,\n            'f': \"6\",\n        },\n{\n            'v': 483,\n            'f': \"483\",\n        },\n{\n            'v': 4.0,\n            'f': \"4.0\",\n        },\n{\n            'v': 2007,\n            'f': \"2007\",\n        }],\n [{\n            'v': 1,\n            'f': \"1\",\n        },\n{\n            'v': 627,\n            'f': \"627\",\n        },\n{\n            'v': 3.5,\n            'f': \"3.5\",\n        },\n{\n            'v': 2006,\n            'f': \"2006\",\n        }],\n [{\n            'v': 1,\n            'f': \"1\",\n        },\n{\n            'v': 682,\n            'f': \"682\",\n        },\n{\n            'v': 4.0,\n            'f': \"4.0\",\n        },\n{\n            'v': 2000,\n            'f': \"2000\",\n        }],\n [{\n            'v': 32,\n            'f': \"32\",\n        },\n{\n            'v': 726,\n            'f': \"726\",\n        },\n{\n            'v': 5.0,\n            'f': \"5.0\",\n        },\n{\n            'v': 2009,\n            'f': \"2009\",\n        }],\n [{\n            'v': 1,\n            'f': \"1\",\n        },\n{\n            'v': 346,\n            'f': \"346\",\n        },\n{\n            'v': 4.0,\n            'f': \"4.0\",\n        },\n{\n            'v': 1999,\n            'f': \"1999\",\n        }],\n [{\n            'v': 1,\n            'f': \"1\",\n        },\n{\n            'v': 845,\n            'f': \"845\",\n        },\n{\n            'v': 2.0,\n            'f': \"2.0\",\n        },\n{\n            'v': 1996,\n            'f': \"1996\",\n        }],\n [{\n            'v': 10,\n            'f': \"10\",\n        },\n{\n            'v': 127,\n            'f': \"127\",\n        },\n{\n            'v': 3.0,\n            'f': \"3.0\",\n        },\n{\n            'v': 1996,\n            'f': \"1996\",\n        }],\n [{\n            'v': 1,\n            'f': \"1\",\n        },\n{\n            'v': 638,\n            'f': \"638\",\n        },\n{\n            'v': 5.0,\n            'f': \"5.0\",\n        },\n{\n            'v': 1996,\n            'f': \"1996\",\n        }],\n [{\n            'v': 95,\n            'f': \"95\",\n        },\n{\n            'v': 455,\n            'f': \"455\",\n        },\n{\n            'v': 3.0,\n            'f': \"3.0\",\n        },\n{\n            'v': 1996,\n            'f': \"1996\",\n        }],\n [{\n            'v': 1,\n            'f': \"1\",\n        },\n{\n            'v': 196,\n            'f': \"196\",\n        },\n{\n            'v': 3.0,\n            'f': \"3.0\",\n        },\n{\n            'v': 1996,\n            'f': \"1996\",\n        }],\n [{\n            'v': 1,\n            'f': \"1\",\n        },\n{\n            'v': 44,\n            'f': \"44\",\n        },\n{\n            'v': 5.0,\n            'f': \"5.0\",\n        },\n{\n            'v': 1996,\n            'f': \"1996\",\n        }],\n [{\n            'v': 68,\n            'f': \"68\",\n        },\n{\n            'v': 635,\n            'f': \"635\",\n        },\n{\n            'v': 4.0,\n            'f': \"4.0\",\n        },\n{\n            'v': 1996,\n            'f': \"1996\",\n        }],\n [{\n            'v': 32,\n            'f': \"32\",\n        },\n{\n            'v': 87,\n            'f': \"87\",\n        },\n{\n            'v': 3.0,\n            'f': \"3.0\",\n        },\n{\n            'v': 1997,\n            'f': \"1997\",\n        }],\n [{\n            'v': 1,\n            'f': \"1\",\n        },\n{\n            'v': 760,\n            'f': \"760\",\n        },\n{\n            'v': 5.0,\n            'f': \"5.0\",\n        },\n{\n            'v': 1996,\n            'f': \"1996\",\n        }],\n [{\n            'v': 69,\n            'f': \"69\",\n        },\n{\n            'v': 798,\n            'f': \"798\",\n        },\n{\n            'v': 3.0,\n            'f': \"3.0\",\n        },\n{\n            'v': 2000,\n            'f': \"2000\",\n        }],\n [{\n            'v': 95,\n            'f': \"95\",\n        },\n{\n            'v': 430,\n            'f': \"430\",\n        },\n{\n            'v': 3.0,\n            'f': \"3.0\",\n        },\n{\n            'v': 1996,\n            'f': \"1996\",\n        }],\n [{\n            'v': 10,\n            'f': \"10\",\n        },\n{\n            'v': 984,\n            'f': \"984\",\n        },\n{\n            'v': 4.0,\n            'f': \"4.0\",\n        },\n{\n            'v': 1996,\n            'f': \"1996\",\n        }],\n [{\n            'v': 36,\n            'f': \"36\",\n        },\n{\n            'v': 261,\n            'f': \"261\",\n        },\n{\n            'v': 2.0,\n            'f': \"2.0\",\n        },\n{\n            'v': 1997,\n            'f': \"1997\",\n        }],\n [{\n            'v': 44,\n            'f': \"44\",\n        },\n{\n            'v': 314,\n            'f': \"314\",\n        },\n{\n            'v': 1.5,\n            'f': \"1.5\",\n        },\n{\n            'v': 2010,\n            'f': \"2010\",\n        }]],\n        columns: [[\"number\", \"nF\"], [\"number\", \"nU\"], [\"number\", \"note\"], [\"number\", \"annee\"]],\n        columnOptions: [],\n        rowsPerPage: 10,\n        helpUrl: \"https://colab.research.google.com/notebooks/data_table.ipynb\",\n        suppressOutputScrolling: true,\n        minimumWidth: undefined,\n      });\n    ",
      "text/html": [
       "<div>\n",
       "<style scoped>\n",
       "    .dataframe tbody tr th:only-of-type {\n",
       "        vertical-align: middle;\n",
       "    }\n",
       "\n",
       "    .dataframe tbody tr th {\n",
       "        vertical-align: top;\n",
       "    }\n",
       "\n",
       "    .dataframe thead th {\n",
       "        text-align: right;\n",
       "    }\n",
       "</style>\n",
       "<table border=\"1\" class=\"dataframe\">\n",
       "  <thead>\n",
       "    <tr style=\"text-align: right;\">\n",
       "      <th></th>\n",
       "      <th>nF</th>\n",
       "      <th>nU</th>\n",
       "      <th>note</th>\n",
       "      <th>annee</th>\n",
       "    </tr>\n",
       "  </thead>\n",
       "  <tbody>\n",
       "    <tr>\n",
       "      <th>0</th>\n",
       "      <td>19</td>\n",
       "      <td>76</td>\n",
       "      <td>1.5</td>\n",
       "      <td>2011</td>\n",
       "    </tr>\n",
       "    <tr>\n",
       "      <th>1</th>\n",
       "      <td>62</td>\n",
       "      <td>691</td>\n",
       "      <td>5.0</td>\n",
       "      <td>1996</td>\n",
       "    </tr>\n",
       "    <tr>\n",
       "      <th>2</th>\n",
       "      <td>25</td>\n",
       "      <td>832</td>\n",
       "      <td>5.0</td>\n",
       "      <td>1998</td>\n",
       "    </tr>\n",
       "    <tr>\n",
       "      <th>3</th>\n",
       "      <td>5</td>\n",
       "      <td>296</td>\n",
       "      <td>3.5</td>\n",
       "      <td>2005</td>\n",
       "    </tr>\n",
       "    <tr>\n",
       "      <th>4</th>\n",
       "      <td>48</td>\n",
       "      <td>781</td>\n",
       "      <td>3.0</td>\n",
       "      <td>1996</td>\n",
       "    </tr>\n",
       "    <tr>\n",
       "      <th>...</th>\n",
       "      <td>...</td>\n",
       "      <td>...</td>\n",
       "      <td>...</td>\n",
       "      <td>...</td>\n",
       "    </tr>\n",
       "    <tr>\n",
       "      <th>95</th>\n",
       "      <td>69</td>\n",
       "      <td>798</td>\n",
       "      <td>3.0</td>\n",
       "      <td>2000</td>\n",
       "    </tr>\n",
       "    <tr>\n",
       "      <th>96</th>\n",
       "      <td>95</td>\n",
       "      <td>430</td>\n",
       "      <td>3.0</td>\n",
       "      <td>1996</td>\n",
       "    </tr>\n",
       "    <tr>\n",
       "      <th>97</th>\n",
       "      <td>10</td>\n",
       "      <td>984</td>\n",
       "      <td>4.0</td>\n",
       "      <td>1996</td>\n",
       "    </tr>\n",
       "    <tr>\n",
       "      <th>98</th>\n",
       "      <td>36</td>\n",
       "      <td>261</td>\n",
       "      <td>2.0</td>\n",
       "      <td>1997</td>\n",
       "    </tr>\n",
       "    <tr>\n",
       "      <th>99</th>\n",
       "      <td>44</td>\n",
       "      <td>314</td>\n",
       "      <td>1.5</td>\n",
       "      <td>2010</td>\n",
       "    </tr>\n",
       "  </tbody>\n",
       "</table>\n",
       "<p>100 rows × 4 columns</p>\n",
       "</div>"
      ],
      "text/plain": [
       "<google.colab.data_table.DataTable object>"
      ]
     },
     "execution_count": 79,
     "metadata": {},
     "output_type": "execute_result"
    }
   ],
   "source": [
    "notes_schema = StructType([StructField('nF',LongType()),\n",
    "                           StructField('nU',LongType()),\n",
    "                           StructField('note',DoubleType()),\n",
    "                           StructField('annee',LongType())])\n",
    "\n",
    "notes = spark.read.json(local_dir + \"/\" + \"notes1M.json\", schema = notes_schema).selectExpr(\"nF\", \"nU\", \"note\", \"annee\")\n",
    "\n",
    "#extrait\n",
    "notes_extrait = notes.where(\"nU < 1000\").join(film_extrait, \"nF\").select(notes[\"nF\"], \"nU\", \"note\", \"annee\").repartition(3).persist()\n",
    "print(notes_extrait.count())\n",
    "display(notes_extrait)"
   ]
  },
  {
   "cell_type": "markdown",
   "metadata": {
    "id": "SOfASuTyHl94"
   },
   "source": [
    "# Exercice 1 : Traitement sur des partitions"
   ]
  },
  {
   "cell_type": "markdown",
   "metadata": {
    "application/vnd.databricks.v1+cell": {
     "inputWidgets": {},
     "nuid": "52fd9538-28a9-4974-92ea-8a7be60563c3",
     "showTitle": false,
     "title": ""
    },
    "id": "hd_sMjv2Hl95"
   },
   "source": [
    "#### Fonction showPartitionSize\n",
    "\n",
    "La fonction *showPartitionSize*  affiche le nombre d'éléments dans chaque partition"
   ]
  },
  {
   "cell_type": "code",
   "execution_count": 80,
   "metadata": {
    "colab": {
     "base_uri": "https://localhost:8080/"
    },
    "id": "GOnraF_THl95",
    "outputId": "4da75cb6-6791-4828-8c71-d44f07df601e"
   },
   "outputs": [
    {
     "name": "stdout",
     "output_type": "stream",
     "text": [
      "showPartitionSize définie\n"
     ]
    }
   ],
   "source": [
    "# La fonction part_size prend en paramètres un numéro de partition (partID) et un itérateur sur une partition.\n",
    "# Elle retourne un itérateur sur une partition qui contient un seul tuple (num_partition, nbtuples).\n",
    "\n",
    "def partSize(partID, iterateur):\n",
    "  size=0\n",
    "  suivant = next(iterateur, None)\n",
    "  while suivant is not None :\n",
    "    size += 1\n",
    "    suivant = next(iterateur, None)\n",
    "  yield (partID, size)\n",
    "\n",
    "\n",
    "def showPartitionSize(df):\n",
    "  if df.isEmpty():\n",
    "    print(\"empty dataframe\")\n",
    "  else:\n",
    "    #invoquer la fonction partSize sur chaque partition \n",
    "    t = df.selectExpr(\"1\").rdd.mapPartitionsWithIndex(partSize).toDF(['partID', 'size'])\n",
    "\n",
    "    # Rmq : selectExpr(\"1\") sert à simplifier la partition pour ne garder qu'une seule colonne contentant des \"1\",\n",
    "    # ce qui est suffisant pour compter le nombre de tuples dans la partition.\n",
    "\n",
    "    #affichage\n",
    "    t.show()\n",
    "\n",
    "print('showPartitionSize définie')"
   ]
  },
  {
   "cell_type": "markdown",
   "metadata": {
    "id": "SQZISkFBHl97"
   },
   "source": [
    "#### Fonction showPartitions\n",
    " \n",
    "La fonction *showPartitions*  affiche les _n_ premiers éléments de chaque partition\n"
   ]
  },
  {
   "cell_type": "code",
   "execution_count": 81,
   "metadata": {
    "application/vnd.databricks.v1+cell": {
     "inputWidgets": {},
     "nuid": "f626210f-dce5-457b-a05b-1dd3e6af87a2",
     "showTitle": false,
     "title": ""
    },
    "colab": {
     "base_uri": "https://localhost:8080/"
    },
    "id": "iqGwTLXeHl98",
    "outputId": "1f4da2a0-54b2-49e1-b2a7-4cd54a8af831"
   },
   "outputs": [
    {
     "name": "stdout",
     "output_type": "stream",
     "text": [
      "showPartitions définie\n"
     ]
    }
   ],
   "source": [
    "def showPartitions(df, N=5 , display_per_partition=True):\n",
    "  if df.isEmpty():\n",
    "     print(\"empty dataframe\")\n",
    "  else:   \n",
    "    nb_partitions = df.rdd.getNumPartitions()\n",
    "\n",
    "    # fonction topN est invoquée sur une partition.\n",
    "    # topN retourne un itérateur sur une partition qui contient les N premiers éléments de cette partition\n",
    "    def topN(partID, iterateur):\n",
    "      c=0\n",
    "      suivant = next(iterateur, None)\n",
    "      while suivant is not None and c < N :\n",
    "        c+=1\n",
    "        tuple_avec_numero_partition = (partID, *suivant)\n",
    "        suivant = next(iterateur, None)\n",
    "        yield tuple_avec_numero_partition\n",
    "    #-- fin de topN ---\n",
    "\n",
    "    partid_tmp = \"_p_\"\n",
    "    nom_attributs = [partid_tmp] + df.schema.fieldNames()\n",
    "    premiers_tuples = df.rdd.mapPartitionsWithIndex(topN).toDF(nom_attributs)\n",
    "    premiers_tuples.persist()\n",
    "\n",
    "    if(display_per_partition):\n",
    "      # afficher séparément le contenu du début de chaque partition\n",
    "      for partID in range(nb_partitions):\n",
    "        print(\"partition\", partID)\n",
    "        # afficher la partition partID\n",
    "        premiers_tuples.where(col(partid_tmp)==partID).drop(partid_tmp).show(N, False)\n",
    "    else:\n",
    "      return display(premiers_tuples)\n",
    "   \n",
    "print('showPartitions définie')"
   ]
  },
  {
   "cell_type": "markdown",
   "metadata": {
    "id": "x_4h7vjoHl99"
   },
   "source": [
    "Afficher la taille de chaque partition"
   ]
  },
  {
   "cell_type": "code",
   "execution_count": 82,
   "metadata": {
    "colab": {
     "base_uri": "https://localhost:8080/"
    },
    "id": "A4HzKBEsHl99",
    "outputId": "26dfc08c-60e8-47fd-879c-749cf19652de"
   },
   "outputs": [
    {
     "name": "stdout",
     "output_type": "stream",
     "text": [
      "+------+----+\n",
      "|partID|size|\n",
      "+------+----+\n",
      "|     0|  31|\n",
      "|     1|  31|\n",
      "|     2|  30|\n",
      "+------+----+\n",
      "\n"
     ]
    }
   ],
   "source": [
    "showPartitionSize(film_extrait)"
   ]
  },
  {
   "cell_type": "markdown",
   "metadata": {
    "id": "mUExOALZHl9-"
   },
   "source": [
    "Afficher les premiers éléments de chaque partition"
   ]
  },
  {
   "cell_type": "code",
   "execution_count": 83,
   "metadata": {
    "colab": {
     "base_uri": "https://localhost:8080/"
    },
    "id": "Rd3zHou6Hl9_",
    "outputId": "1dbd96e7-968a-4bcc-9727-106ac11e4f31"
   },
   "outputs": [
    {
     "name": "stdout",
     "output_type": "stream",
     "text": [
      "partition 0\n",
      "+---+---------------------------------+-------------------------+\n",
      "|nF |titre                            |genres                   |\n",
      "+---+---------------------------------+-------------------------+\n",
      "|94 |Beautiful Girls (1996)           |[Comedy, Drama, Romance] |\n",
      "|45 |To Die For (1995)                |[Comedy, Drama, Thriller]|\n",
      "|58 |Postman, The (Postino, Il) (1994)|[Comedy, Drama, Romance] |\n",
      "|54 |Big Green, The (1995)            |[Children, Comedy]       |\n",
      "|9  |Sudden Death (1995)              |[Action]                 |\n",
      "+---+---------------------------------+-------------------------+\n",
      "\n",
      "partition 1\n",
      "+---+--------------------------------------------+-----------------+\n",
      "|nF |titre                                       |genres           |\n",
      "+---+--------------------------------------------+-----------------+\n",
      "|14 |Nixon (1995)                                |[Drama]          |\n",
      "|71 |Fair Game (1995)                            |[Action]         |\n",
      "|49 |When Night Is Falling (1995)                |[Drama, Romance] |\n",
      "|27 |Now and Then (1995)                         |[Children, Drama]|\n",
      "|59 |Confessional, The (Confessionnal, Le) (1995)|[Drama, Mystery] |\n",
      "+---+--------------------------------------------+-----------------+\n",
      "\n",
      "partition 2\n",
      "+---+-------------------------------------------------------------------------------+-----------------------------+\n",
      "|nF |titre                                                                          |genres                       |\n",
      "+---+-------------------------------------------------------------------------------+-----------------------------+\n",
      "|72 |Kicking and Screaming (1995)                                                   |[Comedy, Drama]              |\n",
      "|21 |Get Shorty (1995)                                                              |[Comedy, Crime, Thriller]    |\n",
      "|63 |Don't Be a Menace to South Central While Drinking Your Juice in the Hood (1996)|[Comedy, Crime]              |\n",
      "|95 |Broken Arrow (1996)                                                            |[Action, Adventure, Thriller]|\n",
      "|8  |Tom and Huck (1995)                                                            |[Adventure, Children]        |\n",
      "+---+-------------------------------------------------------------------------------+-----------------------------+\n",
      "\n"
     ]
    }
   ],
   "source": [
    "showPartitions(film_extrait,5)"
   ]
  },
  {
   "cell_type": "markdown",
   "metadata": {
    "id": "1eaiNKFxHl-A"
   },
   "source": [
    "## Question 1 : Tri des films par titre\n",
    "\n",
    "En vous inspirant de la fonction *topN*  définir une fonction qui tri les données de *film_extrait* par titre. Le résultat a le meme schéma que film."
   ]
  },
  {
   "cell_type": "markdown",
   "metadata": {
    "id": "GBV9KFNKEYs2"
   },
   "source": [
    "\n",
    "\n",
    "*   Dans la table de films, pour chaque partition, on partitionne encore les données en 3 groupes différents.\n",
    "*   De cette façon , on obtient une table distribuée où chaque table où danc chaque partitions, on a plusieurs groupe de données.\n",
    "\n"
   ]
  },
  {
   "cell_type": "code",
   "execution_count": 84,
   "metadata": {
    "colab": {
     "base_uri": "https://localhost:8080/"
    },
    "id": "la24EdjjHl-A",
    "outputId": "143536e8-819e-4ec0-984e-45b2cfa23a68"
   },
   "outputs": [
    {
     "name": "stdout",
     "output_type": "stream",
     "text": [
      "partition 0\n",
      "+---+---+----------------------------------------------------+-------------------------------------------------+\n",
      "|p  |nF |titre                                               |genres                                           |\n",
      "+---+---+----------------------------------------------------+-------------------------------------------------+\n",
      "|0  |13 |Balto (1995)                                        |[Adventure, Animation, Children]                 |\n",
      "|0  |94 |Beautiful Girls (1996)                              |[Comedy, Drama, Romance]                         |\n",
      "|0  |54 |Big Green, The (1995)                               |[Children, Comedy]                               |\n",
      "|0  |88 |Black Sheep (1996)                                  |[Comedy]                                         |\n",
      "|0  |35 |Carrington (1995)                                   |[Drama, Romance]                                 |\n",
      "|0  |39 |Clueless (1995)                                     |[Comedy, Romance]                                |\n",
      "|0  |22 |Copycat (1995)                                      |[Crime, Drama, Horror, Mystery, Thriller]        |\n",
      "|0  |36 |Dead Man Walking (1995)                             |[Crime, Drama]                                   |\n",
      "|0  |12 |Dracula: Dead and Loving It (1995)                  |[Comedy, Horror]                                 |\n",
      "|0  |87 |Dunston Checks In (1996)                            |[Children, Comedy]                               |\n",
      "|0  |70 |From Dusk Till Dawn (1996)                          |[Action, Comedy, Horror, Thriller]               |\n",
      "|1  |97 |Hate (Haine, La) (1995)                             |[Crime, Drama]                                   |\n",
      "|1  |57 |Home for the Holidays (1995)                        |[Drama]                                          |\n",
      "|1  |46 |How to Make an American Quilt (1995)                |[Drama, Romance]                                 |\n",
      "|1  |2  |Jumanji (1995)                                      |[Adventure, Children, Fantasy]                   |\n",
      "|1  |66 |Lawnmower Man 2: Beyond Cyberspace (1996)           |[Action, Sci-Fi, Thriller]                       |\n",
      "|1  |25 |Leaving Las Vegas (1995)                            |[Drama, Romance]                                 |\n",
      "|1  |73 |Misérables, Les (1995)                              |[Drama, War]                                     |\n",
      "|1  |20 |Money Train (1995)                                  |[Action, Comedy, Crime, Drama, Thriller]         |\n",
      "|1  |83 |Once Upon a Time... When We Were Colored (1995)     |[Drama, Romance]                                 |\n",
      "|2  |58 |Postman, The (Postino, Il) (1994)                   |[Comedy, Drama, Romance]                         |\n",
      "|2  |24 |Powder (1995)                                       |[Drama, Sci-Fi]                                  |\n",
      "|2  |17 |Sense and Sensibility (1995)                        |[Drama, Romance]                                 |\n",
      "|2  |30 |Shanghai Triad (Yao a yao yao dao waipo qiao) (1995)|[Crime, Drama]                                   |\n",
      "|2  |9  |Sudden Death (1995)                                 |[Action]                                         |\n",
      "|2  |45 |To Die For (1995)                                   |[Comedy, Drama, Thriller]                        |\n",
      "|2  |1  |Toy Story (1995)                                    |[Adventure, Animation, Children, Comedy, Fantasy]|\n",
      "|2  |93 |Vampire in Brooklyn (1995)                          |[Comedy, Horror, Romance]                        |\n",
      "|2  |4  |Waiting to Exhale (1995)                            |[Comedy, Drama, Romance]                         |\n",
      "|2  |80 |White Balloon, The (Badkonake sefid) (1995)         |[Children, Drama]                                |\n",
      "+---+---+----------------------------------------------------+-------------------------------------------------+\n",
      "\n",
      "partition 1\n",
      "+---+---+----------------------------------------------+----------------------------------------------+\n",
      "|p  |nF |titre                                         |genres                                        |\n",
      "+---+---+----------------------------------------------+----------------------------------------------+\n",
      "|0  |19 |Ace Ventura: When Nature Calls (1995)         |[Comedy]                                      |\n",
      "|0  |23 |Assassins (1995)                              |[Action, Crime, Thriller]                     |\n",
      "|0  |34 |Babe (1995)                                   |[Children, Drama]                             |\n",
      "|0  |74 |Bed of Roses (1996)                           |[Drama, Romance]                              |\n",
      "|0  |65 |Bio-Dome (1996)                               |[Comedy]                                      |\n",
      "|0  |16 |Casino (1995)                                 |[Crime, Drama]                                |\n",
      "|0  |59 |Confessional, The (Confessionnal, Le) (1995)  |[Drama, Mystery]                              |\n",
      "|0  |78 |Crossing Guard, The (1995)                    |[Action, Crime, Drama, Thriller]              |\n",
      "|0  |40 |Cry, the Beloved Country (1995)               |[Drama]                                       |\n",
      "|0  |42 |Dead Presidents (1995)                        |[Action, Crime, Drama]                        |\n",
      "|0  |61 |Eye for an Eye (1996)                         |[Drama, Thriller]                             |\n",
      "|0  |71 |Fair Game (1995)                              |[Action]                                      |\n",
      "|0  |5  |Father of the Bride Part II (1995)            |[Comedy]                                      |\n",
      "|0  |10 |GoldenEye (1995)                              |[Action, Adventure, Thriller]                 |\n",
      "|0  |3  |Grumpier Old Men (1995)                       |[Comedy, Romance]                             |\n",
      "|1  |99 |Heidi Fleiss: Hollywood Madam (1995)          |[Documentary]                                 |\n",
      "|1  |60 |Indian in the Cupboard, The (1995)            |[Adventure, Children, Fantasy]                |\n",
      "|1  |84 |Last Summer in the Hamptons (1995)            |[Comedy, Drama]                               |\n",
      "|1  |52 |Mighty Aphrodite (1995)                       |[Comedy, Drama, Romance]                      |\n",
      "|1  |62 |Mr. Holland's Opus (1995)                     |[Drama]                                       |\n",
      "|1  |89 |Nick of Time (1995)                           |[Action, Thriller]                            |\n",
      "|1  |14 |Nixon (1995)                                  |[Drama]                                       |\n",
      "|1  |27 |Now and Then (1995)                           |[Children, Drama]                             |\n",
      "|2  |48 |Pocahontas (1995)                             |[Animation, Children, Drama, Musical, Romance]|\n",
      "|2  |43 |Restoration (1995)                            |[Drama]                                       |\n",
      "|2  |7  |Sabrina (1995)                                |[Comedy, Romance]                             |\n",
      "|2  |76 |Screamers (1995)                              |[Action, Sci-Fi, Thriller]                    |\n",
      "|2  |47 |Seven (a.k.a. Se7en) (1995)                   |[Mystery, Thriller]                           |\n",
      "|2  |98 |Shopping (1994)                               |[Action, Thriller]                            |\n",
      "|2  |81 |Things to Do in Denver When You're Dead (1995)|[Crime, Drama, Romance]                       |\n",
      "+---+---+----------------------------------------------+----------------------------------------------+\n",
      "\n",
      "partition 2\n",
      "+---+---+-------------------------------------------------------------------------------+--------------------------------------------+\n",
      "|p  |nF |titre                                                                          |genres                                      |\n",
      "+---+---+-------------------------------------------------------------------------------+--------------------------------------------+\n",
      "|0  |37 |Across the Sea of Time (1995)                                                  |[Documentary, IMAX]                         |\n",
      "|0  |11 |American President, The (1995)                                                 |[Comedy, Drama, Romance]                    |\n",
      "|0  |85 |Angels and Insects (1995)                                                      |[Drama, Romance]                            |\n",
      "|0  |82 |Antonia's Line (Antonia) (1995)                                                |[Comedy, Drama]                             |\n",
      "|0  |95 |Broken Arrow (1996)                                                            |[Action, Adventure, Thriller]               |\n",
      "|0  |29 |City of Lost Children, The (Cité des enfants perdus, La) (1995)                |[Adventure, Drama, Fantasy, Mystery, Sci-Fi]|\n",
      "|0  |15 |Cutthroat Island (1995)                                                        |[Action, Adventure, Romance]                |\n",
      "|0  |31 |Dangerous Minds (1995)                                                         |[Drama]                                     |\n",
      "|0  |63 |Don't Be a Menace to South Central While Drinking Your Juice in the Hood (1996)|[Comedy, Crime]                             |\n",
      "|0  |18 |Four Rooms (1995)                                                              |[Comedy]                                    |\n",
      "|0  |68 |French Twist (Gazon maudit) (1995)                                             |[Comedy, Romance]                           |\n",
      "|0  |69 |Friday (1995)                                                                  |[Comedy]                                    |\n",
      "|0  |55 |Georgia (1995)                                                                 |[Drama]                                     |\n",
      "|0  |21 |Get Shorty (1995)                                                              |[Comedy, Crime, Thriller]                   |\n",
      "|1  |6  |Heat (1995)                                                                    |[Action, Crime, Thriller]                   |\n",
      "|1  |96 |In the Bleak Midwinter (1995)                                                  |[Comedy, Drama]                             |\n",
      "|1  |38 |It Takes Two (1995)                                                            |[Children, Comedy]                          |\n",
      "|1  |79 |Juror, The (1996)                                                              |[Drama, Thriller]                           |\n",
      "|1  |72 |Kicking and Screaming (1995)                                                   |[Comedy, Drama]                             |\n",
      "|1  |53 |Lamerica (1994)                                                                |[Adventure, Drama]                          |\n",
      "|1  |92 |Mary Reilly (1996)                                                             |[Drama, Horror, Thriller]                   |\n",
      "|1  |44 |Mortal Kombat (1995)                                                           |[Action, Adventure, Fantasy]                |\n",
      "|1  |77 |Nico Icon (1995)                                                               |[Documentary]                               |\n",
      "|1  |26 |Othello (1995)                                                                 |[Drama]                                     |\n",
      "|2  |28 |Persuasion (1995)                                                              |[Drama, Romance]                            |\n",
      "|2  |41 |Richard III (1995)                                                             |[Drama, War]                                |\n",
      "|2  |8  |Tom and Huck (1995)                                                            |[Adventure, Children]                       |\n",
      "|2  |32 |Twelve Monkeys (a.k.a. 12 Monkeys) (1995)                                      |[Mystery, Sci-Fi, Thriller]                 |\n",
      "|2  |64 |Two if by Sea (1996)                                                           |[Comedy, Romance]                           |\n",
      "|2  |50 |Usual Suspects, The (1995)                                                     |[Crime, Mystery, Thriller]                  |\n",
      "+---+---+-------------------------------------------------------------------------------+--------------------------------------------+\n",
      "\n"
     ]
    }
   ],
   "source": [
    "\n",
    "def tri_par_titre(iterateur):\n",
    "\n",
    "  suivant = next(iterateur, None)\n",
    "  groupes = [[] for x in range(3)]\n",
    "\n",
    "  while suivant is not None:\n",
    "    lettre1 = suivant.titre[0]\n",
    "    if lettre1 < 'H':\n",
    "      p=0\n",
    "    elif lettre1 < 'P':\n",
    "      p=1\n",
    "    else:\n",
    "      p=2\n",
    "    groupes[p].append((p, *suivant))\n",
    "    suivant = next(iterateur, None)\n",
    "\n",
    "  for groupe in groupes:\n",
    "    for film in sorted(groupe, key=lambda t: t[2]): # tri selon film ( indice 2 dans t)\n",
    "      yield film\n",
    "\n",
    "# tester la fonction\n",
    "# it = iter(film_extrait.limit(3).collect())\n",
    "# for x in tri_par_titre(it):\n",
    "#   print(x)\n",
    "\n",
    "names = [\"p\"] + film_extrait.schema.fieldNames()\n",
    "film1 = film_extrait.rdd.mapPartitions(tri_par_titre).toDF(names)\n",
    "showPartitions(film1,30)"
   ]
  },
  {
   "cell_type": "markdown",
   "metadata": {
    "id": "8Z58YdLp_ujG"
   },
   "source": [
    "repartitionner les données par **intervalle** en fonction de l'attribut p"
   ]
  },
  {
   "cell_type": "markdown",
   "metadata": {
    "id": "Yc-4o_r4FOju"
   },
   "source": [
    "\n",
    "\n",
    "*   On shuffle les donneés de la table films\n",
    "*   C'est à dire que dans chaque partitions, on associe les données du même groupe\n",
    "\n"
   ]
  },
  {
   "cell_type": "code",
   "execution_count": 85,
   "metadata": {
    "colab": {
     "base_uri": "https://localhost:8080/"
    },
    "id": "UklR-rQ0yXf-",
    "outputId": "03d37735-a743-43d2-8b79-b2d429c96456"
   },
   "outputs": [
    {
     "name": "stdout",
     "output_type": "stream",
     "text": [
      "partition 0\n",
      "+---+---+-------------------------------------------------------------------------------+--------------------------------------------+\n",
      "|p  |nF |titre                                                                          |genres                                      |\n",
      "+---+---+-------------------------------------------------------------------------------+--------------------------------------------+\n",
      "|0  |13 |Balto (1995)                                                                   |[Adventure, Animation, Children]            |\n",
      "|0  |94 |Beautiful Girls (1996)                                                         |[Comedy, Drama, Romance]                    |\n",
      "|0  |54 |Big Green, The (1995)                                                          |[Children, Comedy]                          |\n",
      "|0  |88 |Black Sheep (1996)                                                             |[Comedy]                                    |\n",
      "|0  |35 |Carrington (1995)                                                              |[Drama, Romance]                            |\n",
      "|0  |39 |Clueless (1995)                                                                |[Comedy, Romance]                           |\n",
      "|0  |22 |Copycat (1995)                                                                 |[Crime, Drama, Horror, Mystery, Thriller]   |\n",
      "|0  |36 |Dead Man Walking (1995)                                                        |[Crime, Drama]                              |\n",
      "|0  |12 |Dracula: Dead and Loving It (1995)                                             |[Comedy, Horror]                            |\n",
      "|0  |87 |Dunston Checks In (1996)                                                       |[Children, Comedy]                          |\n",
      "|0  |70 |From Dusk Till Dawn (1996)                                                     |[Action, Comedy, Horror, Thriller]          |\n",
      "|0  |19 |Ace Ventura: When Nature Calls (1995)                                          |[Comedy]                                    |\n",
      "|0  |23 |Assassins (1995)                                                               |[Action, Crime, Thriller]                   |\n",
      "|0  |34 |Babe (1995)                                                                    |[Children, Drama]                           |\n",
      "|0  |74 |Bed of Roses (1996)                                                            |[Drama, Romance]                            |\n",
      "|0  |65 |Bio-Dome (1996)                                                                |[Comedy]                                    |\n",
      "|0  |16 |Casino (1995)                                                                  |[Crime, Drama]                              |\n",
      "|0  |59 |Confessional, The (Confessionnal, Le) (1995)                                   |[Drama, Mystery]                            |\n",
      "|0  |78 |Crossing Guard, The (1995)                                                     |[Action, Crime, Drama, Thriller]            |\n",
      "|0  |40 |Cry, the Beloved Country (1995)                                                |[Drama]                                     |\n",
      "|0  |42 |Dead Presidents (1995)                                                         |[Action, Crime, Drama]                      |\n",
      "|0  |61 |Eye for an Eye (1996)                                                          |[Drama, Thriller]                           |\n",
      "|0  |71 |Fair Game (1995)                                                               |[Action]                                    |\n",
      "|0  |5  |Father of the Bride Part II (1995)                                             |[Comedy]                                    |\n",
      "|0  |10 |GoldenEye (1995)                                                               |[Action, Adventure, Thriller]               |\n",
      "|0  |3  |Grumpier Old Men (1995)                                                        |[Comedy, Romance]                           |\n",
      "|0  |37 |Across the Sea of Time (1995)                                                  |[Documentary, IMAX]                         |\n",
      "|0  |11 |American President, The (1995)                                                 |[Comedy, Drama, Romance]                    |\n",
      "|0  |85 |Angels and Insects (1995)                                                      |[Drama, Romance]                            |\n",
      "|0  |82 |Antonia's Line (Antonia) (1995)                                                |[Comedy, Drama]                             |\n",
      "|0  |95 |Broken Arrow (1996)                                                            |[Action, Adventure, Thriller]               |\n",
      "|0  |29 |City of Lost Children, The (Cité des enfants perdus, La) (1995)                |[Adventure, Drama, Fantasy, Mystery, Sci-Fi]|\n",
      "|0  |15 |Cutthroat Island (1995)                                                        |[Action, Adventure, Romance]                |\n",
      "|0  |31 |Dangerous Minds (1995)                                                         |[Drama]                                     |\n",
      "|0  |63 |Don't Be a Menace to South Central While Drinking Your Juice in the Hood (1996)|[Comedy, Crime]                             |\n",
      "|0  |18 |Four Rooms (1995)                                                              |[Comedy]                                    |\n",
      "|0  |68 |French Twist (Gazon maudit) (1995)                                             |[Comedy, Romance]                           |\n",
      "|0  |69 |Friday (1995)                                                                  |[Comedy]                                    |\n",
      "|0  |55 |Georgia (1995)                                                                 |[Drama]                                     |\n",
      "|0  |21 |Get Shorty (1995)                                                              |[Comedy, Crime, Thriller]                   |\n",
      "+---+---+-------------------------------------------------------------------------------+--------------------------------------------+\n",
      "\n",
      "partition 1\n",
      "+---+---+-----------------------------------------------+----------------------------------------+\n",
      "|p  |nF |titre                                          |genres                                  |\n",
      "+---+---+-----------------------------------------------+----------------------------------------+\n",
      "|1  |97 |Hate (Haine, La) (1995)                        |[Crime, Drama]                          |\n",
      "|1  |57 |Home for the Holidays (1995)                   |[Drama]                                 |\n",
      "|1  |46 |How to Make an American Quilt (1995)           |[Drama, Romance]                        |\n",
      "|1  |2  |Jumanji (1995)                                 |[Adventure, Children, Fantasy]          |\n",
      "|1  |66 |Lawnmower Man 2: Beyond Cyberspace (1996)      |[Action, Sci-Fi, Thriller]              |\n",
      "|1  |25 |Leaving Las Vegas (1995)                       |[Drama, Romance]                        |\n",
      "|1  |73 |Misérables, Les (1995)                         |[Drama, War]                            |\n",
      "|1  |20 |Money Train (1995)                             |[Action, Comedy, Crime, Drama, Thriller]|\n",
      "|1  |83 |Once Upon a Time... When We Were Colored (1995)|[Drama, Romance]                        |\n",
      "|1  |99 |Heidi Fleiss: Hollywood Madam (1995)           |[Documentary]                           |\n",
      "|1  |60 |Indian in the Cupboard, The (1995)             |[Adventure, Children, Fantasy]          |\n",
      "|1  |84 |Last Summer in the Hamptons (1995)             |[Comedy, Drama]                         |\n",
      "|1  |52 |Mighty Aphrodite (1995)                        |[Comedy, Drama, Romance]                |\n",
      "|1  |62 |Mr. Holland's Opus (1995)                      |[Drama]                                 |\n",
      "|1  |89 |Nick of Time (1995)                            |[Action, Thriller]                      |\n",
      "|1  |14 |Nixon (1995)                                   |[Drama]                                 |\n",
      "|1  |27 |Now and Then (1995)                            |[Children, Drama]                       |\n",
      "|1  |6  |Heat (1995)                                    |[Action, Crime, Thriller]               |\n",
      "|1  |96 |In the Bleak Midwinter (1995)                  |[Comedy, Drama]                         |\n",
      "|1  |38 |It Takes Two (1995)                            |[Children, Comedy]                      |\n",
      "|1  |79 |Juror, The (1996)                              |[Drama, Thriller]                       |\n",
      "|1  |72 |Kicking and Screaming (1995)                   |[Comedy, Drama]                         |\n",
      "|1  |53 |Lamerica (1994)                                |[Adventure, Drama]                      |\n",
      "|1  |92 |Mary Reilly (1996)                             |[Drama, Horror, Thriller]               |\n",
      "|1  |44 |Mortal Kombat (1995)                           |[Action, Adventure, Fantasy]            |\n",
      "|1  |77 |Nico Icon (1995)                               |[Documentary]                           |\n",
      "|1  |26 |Othello (1995)                                 |[Drama]                                 |\n",
      "+---+---+-----------------------------------------------+----------------------------------------+\n",
      "\n",
      "partition 2\n",
      "+---+---+----------------------------------------------------+-------------------------------------------------+\n",
      "|p  |nF |titre                                               |genres                                           |\n",
      "+---+---+----------------------------------------------------+-------------------------------------------------+\n",
      "|2  |58 |Postman, The (Postino, Il) (1994)                   |[Comedy, Drama, Romance]                         |\n",
      "|2  |24 |Powder (1995)                                       |[Drama, Sci-Fi]                                  |\n",
      "|2  |17 |Sense and Sensibility (1995)                        |[Drama, Romance]                                 |\n",
      "|2  |30 |Shanghai Triad (Yao a yao yao dao waipo qiao) (1995)|[Crime, Drama]                                   |\n",
      "|2  |9  |Sudden Death (1995)                                 |[Action]                                         |\n",
      "|2  |45 |To Die For (1995)                                   |[Comedy, Drama, Thriller]                        |\n",
      "|2  |1  |Toy Story (1995)                                    |[Adventure, Animation, Children, Comedy, Fantasy]|\n",
      "|2  |93 |Vampire in Brooklyn (1995)                          |[Comedy, Horror, Romance]                        |\n",
      "|2  |4  |Waiting to Exhale (1995)                            |[Comedy, Drama, Romance]                         |\n",
      "|2  |80 |White Balloon, The (Badkonake sefid) (1995)         |[Children, Drama]                                |\n",
      "|2  |86 |White Squall (1996)                                 |[Action, Adventure, Drama]                       |\n",
      "|2  |48 |Pocahontas (1995)                                   |[Animation, Children, Drama, Musical, Romance]   |\n",
      "|2  |43 |Restoration (1995)                                  |[Drama]                                          |\n",
      "|2  |7  |Sabrina (1995)                                      |[Comedy, Romance]                                |\n",
      "|2  |76 |Screamers (1995)                                    |[Action, Sci-Fi, Thriller]                       |\n",
      "|2  |47 |Seven (a.k.a. Se7en) (1995)                         |[Mystery, Thriller]                              |\n",
      "|2  |98 |Shopping (1994)                                     |[Action, Thriller]                               |\n",
      "|2  |81 |Things to Do in Denver When You're Dead (1995)      |[Crime, Drama, Romance]                          |\n",
      "|2  |49 |When Night Is Falling (1995)                        |[Drama, Romance]                                 |\n",
      "|2  |28 |Persuasion (1995)                                   |[Drama, Romance]                                 |\n",
      "|2  |41 |Richard III (1995)                                  |[Drama, War]                                     |\n",
      "|2  |8  |Tom and Huck (1995)                                 |[Adventure, Children]                            |\n",
      "|2  |32 |Twelve Monkeys (a.k.a. 12 Monkeys) (1995)           |[Mystery, Sci-Fi, Thriller]                      |\n",
      "|2  |64 |Two if by Sea (1996)                                |[Comedy, Romance]                                |\n",
      "|2  |50 |Usual Suspects, The (1995)                          |[Crime, Mystery, Thriller]                       |\n",
      "+---+---+----------------------------------------------------+-------------------------------------------------+\n",
      "\n"
     ]
    }
   ],
   "source": [
    "film2 = film1.repartitionByRange(3, col('p'))\n",
    "showPartitions(film2,1000)"
   ]
  },
  {
   "cell_type": "markdown",
   "metadata": {
    "id": "spMT_S1fsXnU"
   },
   "source": [
    "\n",
    "\n",
    "*   Dans la première partition j'ai tous les films dont la première lettre du titre est < H\n",
    "\n",
    "*   Dans la deuxième partition j'ai tous les films dont la première lettre du titre est entre H et P (non inclus)\n",
    "\n",
    "*   Dans la première partition j'ai tous les films dont la première lettre du titre est P et Z .\n",
    "\n",
    "\n",
    "\n",
    "\n"
   ]
  },
  {
   "cell_type": "code",
   "execution_count": 86,
   "metadata": {
    "colab": {
     "base_uri": "https://localhost:8080/"
    },
    "id": "Ac9Xv3JEy6Bu",
    "outputId": "bf13629d-0903-4d56-abb4-7013c89d1943"
   },
   "outputs": [
    {
     "name": "stdout",
     "output_type": "stream",
     "text": [
      "partition 0\n",
      "+---+---+-------------------------------------------------------------------------------+--------------------------------------------+\n",
      "|p  |nF |titre                                                                          |genres                                      |\n",
      "+---+---+-------------------------------------------------------------------------------+--------------------------------------------+\n",
      "|0  |19 |Ace Ventura: When Nature Calls (1995)                                          |[Comedy]                                    |\n",
      "|0  |37 |Across the Sea of Time (1995)                                                  |[Documentary, IMAX]                         |\n",
      "|0  |11 |American President, The (1995)                                                 |[Comedy, Drama, Romance]                    |\n",
      "|0  |85 |Angels and Insects (1995)                                                      |[Drama, Romance]                            |\n",
      "|0  |82 |Antonia's Line (Antonia) (1995)                                                |[Comedy, Drama]                             |\n",
      "|0  |23 |Assassins (1995)                                                               |[Action, Crime, Thriller]                   |\n",
      "|0  |34 |Babe (1995)                                                                    |[Children, Drama]                           |\n",
      "|0  |13 |Balto (1995)                                                                   |[Adventure, Animation, Children]            |\n",
      "|0  |94 |Beautiful Girls (1996)                                                         |[Comedy, Drama, Romance]                    |\n",
      "|0  |74 |Bed of Roses (1996)                                                            |[Drama, Romance]                            |\n",
      "|0  |54 |Big Green, The (1995)                                                          |[Children, Comedy]                          |\n",
      "|0  |65 |Bio-Dome (1996)                                                                |[Comedy]                                    |\n",
      "|0  |88 |Black Sheep (1996)                                                             |[Comedy]                                    |\n",
      "|0  |95 |Broken Arrow (1996)                                                            |[Action, Adventure, Thriller]               |\n",
      "|0  |35 |Carrington (1995)                                                              |[Drama, Romance]                            |\n",
      "|0  |16 |Casino (1995)                                                                  |[Crime, Drama]                              |\n",
      "|0  |29 |City of Lost Children, The (Cité des enfants perdus, La) (1995)                |[Adventure, Drama, Fantasy, Mystery, Sci-Fi]|\n",
      "|0  |39 |Clueless (1995)                                                                |[Comedy, Romance]                           |\n",
      "|0  |59 |Confessional, The (Confessionnal, Le) (1995)                                   |[Drama, Mystery]                            |\n",
      "|0  |22 |Copycat (1995)                                                                 |[Crime, Drama, Horror, Mystery, Thriller]   |\n",
      "|0  |78 |Crossing Guard, The (1995)                                                     |[Action, Crime, Drama, Thriller]            |\n",
      "|0  |40 |Cry, the Beloved Country (1995)                                                |[Drama]                                     |\n",
      "|0  |15 |Cutthroat Island (1995)                                                        |[Action, Adventure, Romance]                |\n",
      "|0  |31 |Dangerous Minds (1995)                                                         |[Drama]                                     |\n",
      "|0  |36 |Dead Man Walking (1995)                                                        |[Crime, Drama]                              |\n",
      "|0  |42 |Dead Presidents (1995)                                                         |[Action, Crime, Drama]                      |\n",
      "|0  |63 |Don't Be a Menace to South Central While Drinking Your Juice in the Hood (1996)|[Comedy, Crime]                             |\n",
      "|0  |12 |Dracula: Dead and Loving It (1995)                                             |[Comedy, Horror]                            |\n",
      "|0  |87 |Dunston Checks In (1996)                                                       |[Children, Comedy]                          |\n",
      "|0  |61 |Eye for an Eye (1996)                                                          |[Drama, Thriller]                           |\n",
      "|0  |71 |Fair Game (1995)                                                               |[Action]                                    |\n",
      "|0  |5  |Father of the Bride Part II (1995)                                             |[Comedy]                                    |\n",
      "|0  |18 |Four Rooms (1995)                                                              |[Comedy]                                    |\n",
      "|0  |68 |French Twist (Gazon maudit) (1995)                                             |[Comedy, Romance]                           |\n",
      "|0  |69 |Friday (1995)                                                                  |[Comedy]                                    |\n",
      "|0  |70 |From Dusk Till Dawn (1996)                                                     |[Action, Comedy, Horror, Thriller]          |\n",
      "|0  |55 |Georgia (1995)                                                                 |[Drama]                                     |\n",
      "|0  |21 |Get Shorty (1995)                                                              |[Comedy, Crime, Thriller]                   |\n",
      "|0  |10 |GoldenEye (1995)                                                               |[Action, Adventure, Thriller]               |\n",
      "|0  |3  |Grumpier Old Men (1995)                                                        |[Comedy, Romance]                           |\n",
      "+---+---+-------------------------------------------------------------------------------+--------------------------------------------+\n",
      "\n",
      "partition 1\n",
      "+---+---+-----------------------------------------------+----------------------------------------+\n",
      "|p  |nF |titre                                          |genres                                  |\n",
      "+---+---+-----------------------------------------------+----------------------------------------+\n",
      "|1  |97 |Hate (Haine, La) (1995)                        |[Crime, Drama]                          |\n",
      "|1  |6  |Heat (1995)                                    |[Action, Crime, Thriller]               |\n",
      "|1  |99 |Heidi Fleiss: Hollywood Madam (1995)           |[Documentary]                           |\n",
      "|1  |57 |Home for the Holidays (1995)                   |[Drama]                                 |\n",
      "|1  |46 |How to Make an American Quilt (1995)           |[Drama, Romance]                        |\n",
      "|1  |96 |In the Bleak Midwinter (1995)                  |[Comedy, Drama]                         |\n",
      "|1  |60 |Indian in the Cupboard, The (1995)             |[Adventure, Children, Fantasy]          |\n",
      "|1  |38 |It Takes Two (1995)                            |[Children, Comedy]                      |\n",
      "|1  |2  |Jumanji (1995)                                 |[Adventure, Children, Fantasy]          |\n",
      "|1  |79 |Juror, The (1996)                              |[Drama, Thriller]                       |\n",
      "|1  |72 |Kicking and Screaming (1995)                   |[Comedy, Drama]                         |\n",
      "|1  |53 |Lamerica (1994)                                |[Adventure, Drama]                      |\n",
      "|1  |84 |Last Summer in the Hamptons (1995)             |[Comedy, Drama]                         |\n",
      "|1  |66 |Lawnmower Man 2: Beyond Cyberspace (1996)      |[Action, Sci-Fi, Thriller]              |\n",
      "|1  |25 |Leaving Las Vegas (1995)                       |[Drama, Romance]                        |\n",
      "|1  |92 |Mary Reilly (1996)                             |[Drama, Horror, Thriller]               |\n",
      "|1  |52 |Mighty Aphrodite (1995)                        |[Comedy, Drama, Romance]                |\n",
      "|1  |73 |Misérables, Les (1995)                         |[Drama, War]                            |\n",
      "|1  |20 |Money Train (1995)                             |[Action, Comedy, Crime, Drama, Thriller]|\n",
      "|1  |44 |Mortal Kombat (1995)                           |[Action, Adventure, Fantasy]            |\n",
      "|1  |62 |Mr. Holland's Opus (1995)                      |[Drama]                                 |\n",
      "|1  |89 |Nick of Time (1995)                            |[Action, Thriller]                      |\n",
      "|1  |77 |Nico Icon (1995)                               |[Documentary]                           |\n",
      "|1  |14 |Nixon (1995)                                   |[Drama]                                 |\n",
      "|1  |27 |Now and Then (1995)                            |[Children, Drama]                       |\n",
      "|1  |83 |Once Upon a Time... When We Were Colored (1995)|[Drama, Romance]                        |\n",
      "|1  |26 |Othello (1995)                                 |[Drama]                                 |\n",
      "+---+---+-----------------------------------------------+----------------------------------------+\n",
      "\n",
      "partition 2\n",
      "+---+---+----------------------------------------------------+-------------------------------------------------+\n",
      "|p  |nF |titre                                               |genres                                           |\n",
      "+---+---+----------------------------------------------------+-------------------------------------------------+\n",
      "|2  |28 |Persuasion (1995)                                   |[Drama, Romance]                                 |\n",
      "|2  |48 |Pocahontas (1995)                                   |[Animation, Children, Drama, Musical, Romance]   |\n",
      "|2  |58 |Postman, The (Postino, Il) (1994)                   |[Comedy, Drama, Romance]                         |\n",
      "|2  |24 |Powder (1995)                                       |[Drama, Sci-Fi]                                  |\n",
      "|2  |43 |Restoration (1995)                                  |[Drama]                                          |\n",
      "|2  |41 |Richard III (1995)                                  |[Drama, War]                                     |\n",
      "|2  |7  |Sabrina (1995)                                      |[Comedy, Romance]                                |\n",
      "|2  |76 |Screamers (1995)                                    |[Action, Sci-Fi, Thriller]                       |\n",
      "|2  |17 |Sense and Sensibility (1995)                        |[Drama, Romance]                                 |\n",
      "|2  |47 |Seven (a.k.a. Se7en) (1995)                         |[Mystery, Thriller]                              |\n",
      "|2  |30 |Shanghai Triad (Yao a yao yao dao waipo qiao) (1995)|[Crime, Drama]                                   |\n",
      "|2  |98 |Shopping (1994)                                     |[Action, Thriller]                               |\n",
      "|2  |9  |Sudden Death (1995)                                 |[Action]                                         |\n",
      "|2  |81 |Things to Do in Denver When You're Dead (1995)      |[Crime, Drama, Romance]                          |\n",
      "|2  |45 |To Die For (1995)                                   |[Comedy, Drama, Thriller]                        |\n",
      "|2  |8  |Tom and Huck (1995)                                 |[Adventure, Children]                            |\n",
      "|2  |1  |Toy Story (1995)                                    |[Adventure, Animation, Children, Comedy, Fantasy]|\n",
      "|2  |32 |Twelve Monkeys (a.k.a. 12 Monkeys) (1995)           |[Mystery, Sci-Fi, Thriller]                      |\n",
      "|2  |64 |Two if by Sea (1996)                                |[Comedy, Romance]                                |\n",
      "|2  |50 |Usual Suspects, The (1995)                          |[Crime, Mystery, Thriller]                       |\n",
      "|2  |93 |Vampire in Brooklyn (1995)                          |[Comedy, Horror, Romance]                        |\n",
      "|2  |4  |Waiting to Exhale (1995)                            |[Comedy, Drama, Romance]                         |\n",
      "|2  |49 |When Night Is Falling (1995)                        |[Drama, Romance]                                 |\n",
      "|2  |80 |White Balloon, The (Badkonake sefid) (1995)         |[Children, Drama]                                |\n",
      "|2  |86 |White Squall (1996)                                 |[Action, Adventure, Drama]                       |\n",
      "+---+---+----------------------------------------------------+-------------------------------------------------+\n",
      "\n"
     ]
    }
   ],
   "source": [
    "film_tri_total = film2.sortWithinPartitions('titre')\n",
    "showPartitions(film_tri_total,1000)"
   ]
  },
  {
   "cell_type": "markdown",
   "metadata": {
    "id": "Wmg1jC-6Hl-D"
   },
   "source": [
    "## Question 2 : Regrouper les films par genre et les compter\n",
    "\n",
    "En vous inspirant de la fonction *topN*  définir une fonction qui compte le nombre de films par genre. Le schéma du résultat est (genre, n)"
   ]
  },
  {
   "cell_type": "code",
   "execution_count": 87,
   "metadata": {
    "id": "ZWhylPCTHl-D"
   },
   "outputs": [],
   "source": [
    "\n",
    "def count_par_genre(iterateur):\n",
    "\n",
    "  D=dict()\n",
    "\n",
    "  suivant = next(iterateur, None)\n",
    "\n",
    "  while suivant is not None:\n",
    "    for genre in suivant.genres :\n",
    "      if genre not in D:\n",
    "        D[genre] = 1\n",
    "      else:\n",
    "        D[genre]+=1\n",
    "\n",
    "    suivant = next(iterateur, None)\n",
    "\n",
    "  for genre,nb in D.items():\n",
    "      yield (genre,nb)\n"
   ]
  },
  {
   "cell_type": "code",
   "execution_count": 88,
   "metadata": {
    "colab": {
     "base_uri": "https://localhost:8080/"
    },
    "id": "KaChEgbrm-ok",
    "outputId": "b00bff18-346e-48be-a91e-3018a08b9d46"
   },
   "outputs": [
    {
     "name": "stdout",
     "output_type": "stream",
     "text": [
      "partition 0\n",
      "+--------+---+\n",
      "|genre   |n  |\n",
      "+--------+---+\n",
      "|Comedy  |13 |\n",
      "|Drama   |19 |\n",
      "|Romance |10 |\n",
      "|Thriller|5  |\n",
      "|Children|6  |\n",
      "+--------+---+\n",
      "\n",
      "partition 1\n",
      "+--------+---+\n",
      "|genre   |n  |\n",
      "+--------+---+\n",
      "|Drama   |17 |\n",
      "|Action  |8  |\n",
      "|Romance |7  |\n",
      "|Children|4  |\n",
      "|Mystery |2  |\n",
      "+--------+---+\n",
      "\n",
      "partition 2\n",
      "+--------+---+\n",
      "|genre   |n  |\n",
      "+--------+---+\n",
      "|Comedy  |11 |\n",
      "|Drama   |14 |\n",
      "|Crime   |4  |\n",
      "|Thriller|7  |\n",
      "|Action  |4  |\n",
      "+--------+---+\n",
      "\n"
     ]
    }
   ],
   "source": [
    "names = [\"genre\", \"n\"]\n",
    "count_genre = film_extrait.rdd.mapPartitions(count_par_genre).toDF(names)\n",
    "\n",
    "showPartitions(count_genre,5)"
   ]
  },
  {
   "cell_type": "markdown",
   "metadata": {
    "id": "HQ2_f9rZHl-E"
   },
   "source": [
    "## Question 3 : Numérotation\n",
    "\n",
    "En vous inspirant de la fonction *topN*  définir une fonction qui attribue un numéro de 1 à n à chaque tuple de notes_extrait. Le résultat a les attributs de notes + un attribut num."
   ]
  },
  {
   "cell_type": "code",
   "execution_count": 89,
   "metadata": {
    "id": "Hpb8lrwLHl-E"
   },
   "outputs": [],
   "source": [
    "\n",
    "def numeroter(iterateur):\n",
    "\n",
    "  suivant = next(iterateur, None)\n",
    "  \n",
    "  c=1\n",
    "  while suivant is not None:\n",
    "    yield (*suivant,c)\n",
    "    suivant = next(iterateur, None)\n",
    "    c+=1\n",
    "\n"
   ]
  },
  {
   "cell_type": "code",
   "execution_count": 90,
   "metadata": {
    "colab": {
     "base_uri": "https://localhost:8080/"
    },
    "id": "R7EHiFWcqLPt",
    "outputId": "c1692e7d-65a1-4aaf-a7fe-b9c0c88ff754"
   },
   "outputs": [
    {
     "name": "stdout",
     "output_type": "stream",
     "text": [
      "partition 0\n",
      "+---+---+----+-----+---+\n",
      "|nF |nU |note|annee|num|\n",
      "+---+---+----+-----+---+\n",
      "|19 |76 |1.5 |2011 |1  |\n",
      "|62 |691|5.0 |1996 |2  |\n",
      "|25 |832|5.0 |1998 |3  |\n",
      "|5  |296|3.5 |2005 |4  |\n",
      "|48 |781|3.0 |1996 |5  |\n",
      "+---+---+----+-----+---+\n",
      "\n",
      "partition 1\n",
      "+---+---+----+-----+---+\n",
      "|nF |nU |note|annee|num|\n",
      "+---+---+----+-----+---+\n",
      "|15 |875|4.0 |1996 |1  |\n",
      "|62 |368|4.0 |2006 |2  |\n",
      "|29 |592|4.0 |2000 |3  |\n",
      "|31 |767|3.0 |1996 |4  |\n",
      "|25 |339|5.0 |1997 |5  |\n",
      "+---+---+----+-----+---+\n",
      "\n",
      "partition 2\n",
      "+---+---+----+-----+---+\n",
      "|nF |nU |note|annee|num|\n",
      "+---+---+----+-----+---+\n",
      "|19 |151|2.0 |2004 |1  |\n",
      "|48 |506|4.0 |2010 |2  |\n",
      "|88 |168|3.0 |1996 |3  |\n",
      "|26 |366|5.0 |1997 |4  |\n",
      "|34 |711|2.5 |2009 |5  |\n",
      "+---+---+----+-----+---+\n",
      "\n"
     ]
    }
   ],
   "source": [
    "names = notes_extrait.schema.fieldNames() + [\"num\"]\n",
    "notes_extrait_num = notes_extrait.rdd.mapPartitions(numeroter).toDF(names)\n",
    "\n",
    "showPartitions(notes_extrait_num,5) "
   ]
  },
  {
   "cell_type": "markdown",
   "metadata": {
    "id": "_Xy3qD3sHl-F"
   },
   "source": [
    "## Question 4 : Regrouper et trier\n",
    "\n",
    "Définir une fonction qui affiche le nombre de notes par année dans l'ordre croissant des années"
   ]
  },
  {
   "cell_type": "code",
   "execution_count": 91,
   "metadata": {
    "id": "zXW3xXNNHl-F"
   },
   "outputs": [],
   "source": [
    "\n",
    "def regrouper_trier(iterateur):\n",
    "\n",
    "  suivant = next(iterateur, None)\n",
    "  D=dict()\n",
    "\n",
    "  while suivant is not None:\n",
    "\n",
    "    annee = suivant.annee\n",
    "\n",
    "    if annee not in D:\n",
    "        D[annee] = 1\n",
    "    else:\n",
    "        D[annee]+=1\n",
    "    suivant = next(iterateur, None)\n",
    "\n",
    "  for annee in sorted(D.keys()):\n",
    "      yield (annee,D[annee])\n",
    "\n"
   ]
  },
  {
   "cell_type": "code",
   "execution_count": 92,
   "metadata": {
    "colab": {
     "base_uri": "https://localhost:8080/"
    },
    "id": "bwBIe7rlt99T",
    "outputId": "e7e07e24-48de-4035-b54a-0aae71384687"
   },
   "outputs": [
    {
     "name": "stdout",
     "output_type": "stream",
     "text": [
      "partition 0\n",
      "+-----+-------+\n",
      "|annee|nb_note|\n",
      "+-----+-------+\n",
      "|1996 |17     |\n",
      "|1997 |6      |\n",
      "|1998 |3      |\n",
      "|1999 |6      |\n",
      "|2000 |3      |\n",
      "+-----+-------+\n",
      "\n",
      "partition 1\n",
      "+-----+-------+\n",
      "|annee|nb_note|\n",
      "+-----+-------+\n",
      "|1996 |22     |\n",
      "|1997 |6      |\n",
      "|1999 |1      |\n",
      "|2000 |6      |\n",
      "|2001 |1      |\n",
      "+-----+-------+\n",
      "\n",
      "partition 2\n",
      "+-----+-------+\n",
      "|annee|nb_note|\n",
      "+-----+-------+\n",
      "|1996 |13     |\n",
      "|1997 |8      |\n",
      "|1999 |5      |\n",
      "|2000 |5      |\n",
      "|2001 |6      |\n",
      "+-----+-------+\n",
      "\n"
     ]
    }
   ],
   "source": [
    "names = ['annee','nb_note']\n",
    "nb_notes_by_annee = notes_extrait.rdd.mapPartitions(regrouper_trier).toDF(names)\n",
    "\n",
    "showPartitions(nb_notes_by_annee,5) "
   ]
  },
  {
   "cell_type": "markdown",
   "metadata": {
    "id": "QqKRezpMHl-F"
   },
   "source": [
    "## Question 5 : top fréquence\n",
    "\n",
    "Définir une fonction qui affiche les 5 mots les plus fréquents dans les titres"
   ]
  },
  {
   "cell_type": "code",
   "execution_count": 93,
   "metadata": {
    "id": "HwDboRLcHl-G"
   },
   "outputs": [],
   "source": [
    "\n",
    "def mots_freq(iterateur):\n",
    "\n",
    "  suivant = next(iterateur, None)\n",
    "  D=dict()\n",
    "\n",
    "  while suivant is not None:\n",
    "\n",
    "    titre = suivant.titre\n",
    "    words = titre.split(\" \")\n",
    "\n",
    "    for w in words:\n",
    "      if w not in D:\n",
    "          D[w] = 1\n",
    "      else:\n",
    "          D[w]+=1\n",
    "\n",
    "    suivant = next(iterateur, None)\n",
    "\n",
    "  i=0\n",
    "  for word, freq in sorted(D.items(), key=lambda x: x[1], reverse=True):\n",
    "    if(i==5):\n",
    "      break\n",
    "    yield (word,freq)\n",
    "    i+=1\n"
   ]
  },
  {
   "cell_type": "code",
   "execution_count": 94,
   "metadata": {
    "colab": {
     "base_uri": "https://localhost:8080/"
    },
    "id": "jxLGtith1zqm",
    "outputId": "5b88d0e1-89fe-4470-b687-3b1ad99830eb"
   },
   "outputs": [
    {
     "name": "stdout",
     "output_type": "stream",
     "text": [
      "partition 0\n",
      "+------+----+\n",
      "|mot   |freq|\n",
      "+------+----+\n",
      "|(1995)|24  |\n",
      "|(1996)|6   |\n",
      "|The   |3   |\n",
      "|to    |2   |\n",
      "|White |2   |\n",
      "+------+----+\n",
      "\n",
      "partition 1\n",
      "+------+----+\n",
      "|mot   |freq|\n",
      "+------+----+\n",
      "|(1995)|27  |\n",
      "|the   |4   |\n",
      "|When  |3   |\n",
      "|The   |3   |\n",
      "|in    |3   |\n",
      "+------+----+\n",
      "\n",
      "partition 2\n",
      "+------+----+\n",
      "|mot   |freq|\n",
      "+------+----+\n",
      "|(1995)|24  |\n",
      "|(1996)|5   |\n",
      "|The   |4   |\n",
      "|and   |3   |\n",
      "|the   |3   |\n",
      "+------+----+\n",
      "\n"
     ]
    }
   ],
   "source": [
    "names = ['mot','freq']\n",
    "most_freq_word = film_extrait.rdd.mapPartitions(mots_freq).toDF(names)\n",
    "\n",
    "showPartitions(most_freq_word) "
   ]
  },
  {
   "cell_type": "markdown",
   "metadata": {
    "id": "tA5ex_ZaHl-G"
   },
   "source": [
    "## Question 6 : Jointure\n",
    "\n",
    "Définir les fonctions pour calculer la jointure entre les extraits de films et de notes"
   ]
  },
  {
   "cell_type": "markdown",
   "metadata": {
    "id": "ZIlqeAMiJBgK"
   },
   "source": [
    "\n",
    "\n",
    "*   La jointure se fera entre film_extrait et notes_extrait\n",
    "\n",
    "*   On définit J : la jointure entre film_extrait et notes_extrait\n",
    "\n",
    "*   Le but est de proposer une solution pour calculer J , en utilisant un traitement parralèle et distribué des jointures\n",
    "\n",
    "\n",
    "\n",
    "\n",
    "\n"
   ]
  },
  {
   "cell_type": "code",
   "execution_count": 95,
   "metadata": {
    "colab": {
     "base_uri": "https://localhost:8080/"
    },
    "id": "gTasaru0QG9M",
    "outputId": "4cbdec07-326e-4a54-99c4-333a1ca563e2"
   },
   "outputs": [
    {
     "name": "stdout",
     "output_type": "stream",
     "text": [
      "+---+--------------------+---+----+\n",
      "| nF|               titre| nU|note|\n",
      "+---+--------------------+---+----+\n",
      "|  1|    Toy Story (1995)|457| 4.0|\n",
      "|  1|    Toy Story (1995)|606| 4.0|\n",
      "|  1|    Toy Story (1995)|869| 4.0|\n",
      "|  1|    Toy Story (1995)| 75| 4.0|\n",
      "|  1|    Toy Story (1995)|627| 3.5|\n",
      "|  1|    Toy Story (1995)|682| 4.0|\n",
      "|  1|    Toy Story (1995)|346| 4.0|\n",
      "|  1|    Toy Story (1995)|845| 2.0|\n",
      "|  1|    Toy Story (1995)|638| 5.0|\n",
      "|  1|    Toy Story (1995)|196| 3.0|\n",
      "|  1|    Toy Story (1995)| 44| 5.0|\n",
      "|  1|    Toy Story (1995)|760| 5.0|\n",
      "|  1|    Toy Story (1995)|392| 3.5|\n",
      "|  1|    Toy Story (1995)|323| 4.0|\n",
      "|  1|    Toy Story (1995)|545| 5.0|\n",
      "|  1|    Toy Story (1995)|150| 4.0|\n",
      "|  1|    Toy Story (1995)|667| 4.0|\n",
      "|  1|    Toy Story (1995)|565| 5.0|\n",
      "|  1|    Toy Story (1995)| 46| 4.5|\n",
      "|  2|      Jumanji (1995)|796| 1.5|\n",
      "|  2|      Jumanji (1995)|353| 3.0|\n",
      "|  2|      Jumanji (1995)|390| 2.0|\n",
      "|  2|      Jumanji (1995)|542| 3.0|\n",
      "|  3|Grumpier Old Men ...|979| 3.0|\n",
      "|  3|Grumpier Old Men ...| 87| 3.0|\n",
      "|  3|Grumpier Old Men ...|358| 3.5|\n",
      "|  5|Father of the Bri...|296| 3.5|\n",
      "|  5|Father of the Bri...|196| 4.0|\n",
      "|  5|Father of the Bri...|900| 3.0|\n",
      "|  6|         Heat (1995)|733| 4.5|\n",
      "|  6|         Heat (1995)|384| 3.0|\n",
      "|  6|         Heat (1995)|703| 4.0|\n",
      "|  6|         Heat (1995)|153| 4.5|\n",
      "|  6|         Heat (1995)| 52| 3.0|\n",
      "|  6|         Heat (1995)|619| 2.0|\n",
      "|  6|         Heat (1995)|483| 4.0|\n",
      "|  6|         Heat (1995)| 24| 4.0|\n",
      "|  6|         Heat (1995)|413| 4.0|\n",
      "|  6|         Heat (1995)|931| 4.0|\n",
      "|  7|      Sabrina (1995)|611| 2.0|\n",
      "|  7|      Sabrina (1995)|368| 2.5|\n",
      "|  7|      Sabrina (1995)|839| 4.0|\n",
      "| 10|    GoldenEye (1995)|341| 3.0|\n",
      "| 10|    GoldenEye (1995)|481| 2.0|\n",
      "| 10|    GoldenEye (1995)|421| 4.0|\n",
      "| 10|    GoldenEye (1995)|127| 3.0|\n",
      "| 10|    GoldenEye (1995)|984| 4.0|\n",
      "| 10|    GoldenEye (1995)|533| 4.0|\n",
      "| 10|    GoldenEye (1995)|875| 3.0|\n",
      "| 11|American Presiden...|236| 4.0|\n",
      "| 11|American Presiden...|455| 3.0|\n",
      "| 11|American Presiden...|638| 3.0|\n",
      "| 11|American Presiden...| 65| 3.0|\n",
      "| 12|Dracula: Dead and...|459| 3.0|\n",
      "| 12|Dracula: Dead and...|390| 3.0|\n",
      "| 14|        Nixon (1995)|157| 3.0|\n",
      "| 14|        Nixon (1995)|112| 3.0|\n",
      "| 14|        Nixon (1995)|432| 4.0|\n",
      "| 14|        Nixon (1995)|850| 4.0|\n",
      "| 15|Cutthroat Island ...|875| 4.0|\n",
      "| 16|       Casino (1995)| 12| 4.0|\n",
      "| 16|       Casino (1995)|988| 4.5|\n",
      "| 17|Sense and Sensibi...|523| 5.0|\n",
      "| 17|Sense and Sensibi...|368| 2.0|\n",
      "| 18|   Four Rooms (1995)|131| 4.0|\n",
      "| 19|Ace Ventura: When...| 76| 1.5|\n",
      "| 19|Ace Ventura: When...| 63| 0.5|\n",
      "| 19|Ace Ventura: When...|240| 1.5|\n",
      "| 19|Ace Ventura: When...|533| 3.0|\n",
      "| 19|Ace Ventura: When...|151| 2.0|\n",
      "| 20|  Money Train (1995)|925| 3.0|\n",
      "| 21|   Get Shorty (1995)|638| 4.0|\n",
      "| 21|   Get Shorty (1995)|557| 4.0|\n",
      "| 21|   Get Shorty (1995)| 65| 3.0|\n",
      "| 21|   Get Shorty (1995)|151| 4.0|\n",
      "| 22|      Copycat (1995)| 66| 2.0|\n",
      "| 25|Leaving Las Vegas...|832| 5.0|\n",
      "| 25|Leaving Las Vegas...|339| 5.0|\n",
      "| 25|Leaving Las Vegas...|638| 4.0|\n",
      "| 25|Leaving Las Vegas...|640| 3.5|\n",
      "| 25|Leaving Las Vegas...|576| 4.0|\n",
      "| 25|Leaving Las Vegas...|721| 4.0|\n",
      "| 26|      Othello (1995)|366| 5.0|\n",
      "| 27| Now and Then (1995)|191| 3.0|\n",
      "| 28|   Persuasion (1995)|815| 5.0|\n",
      "| 29|City of Lost Chil...|882| 5.0|\n",
      "| 29|City of Lost Chil...|592| 4.0|\n",
      "| 29|City of Lost Chil...|924| 4.0|\n",
      "| 29|City of Lost Chil...|922| 0.5|\n",
      "| 29|City of Lost Chil...|365| 4.0|\n",
      "| 31|Dangerous Minds (...|767| 3.0|\n",
      "| 32|Twelve Monkeys (a...|160| 4.0|\n",
      "| 32|Twelve Monkeys (a...|848| 4.0|\n",
      "| 32|Twelve Monkeys (a...|726| 5.0|\n",
      "| 32|Twelve Monkeys (a...| 87| 3.0|\n",
      "| 32|Twelve Monkeys (a...|931| 4.0|\n",
      "| 32|Twelve Monkeys (a...|533| 3.0|\n",
      "| 32|Twelve Monkeys (a...|652| 4.5|\n",
      "| 34|         Babe (1995)|871| 4.0|\n",
      "| 34|         Babe (1995)|682| 4.0|\n",
      "| 34|         Babe (1995)|332| 2.5|\n",
      "| 34|         Babe (1995)|881| 4.0|\n",
      "| 34|         Babe (1995)|546| 5.0|\n",
      "| 34|         Babe (1995)|711| 2.5|\n",
      "| 34|         Babe (1995)|166| 3.0|\n",
      "| 34|         Babe (1995)|306| 4.0|\n",
      "| 34|         Babe (1995)|483| 3.0|\n",
      "| 36|Dead Man Walking ...|523| 3.0|\n",
      "| 36|Dead Man Walking ...|332| 3.5|\n",
      "| 36|Dead Man Walking ...| 12| 3.0|\n",
      "| 36|Dead Man Walking ...|261| 2.0|\n",
      "| 36|Dead Man Walking ...|306| 3.0|\n",
      "| 39|     Clueless (1995)|524| 4.0|\n",
      "| 39|     Clueless (1995)|546| 3.0|\n",
      "| 39|     Clueless (1995)|308| 4.0|\n",
      "| 39|     Clueless (1995)|261| 4.0|\n",
      "| 39|     Clueless (1995)| 41| 5.0|\n",
      "| 39|     Clueless (1995)|321| 3.0|\n",
      "| 39|     Clueless (1995)|306| 3.0|\n",
      "| 41|  Richard III (1995)|850| 3.0|\n",
      "| 44|Mortal Kombat (1995)|595| 3.0|\n",
      "| 44|Mortal Kombat (1995)|267| 2.5|\n",
      "| 44|Mortal Kombat (1995)|314| 1.5|\n",
      "| 44|Mortal Kombat (1995)| 46| 3.5|\n",
      "| 44|Mortal Kombat (1995)|251| 2.5|\n",
      "| 45|   To Die For (1995)|308| 3.0|\n",
      "| 45|   To Die For (1995)|898| 4.0|\n",
      "| 45|   To Die For (1995)|107| 5.0|\n",
      "| 46|How to Make an Am...|850| 4.0|\n",
      "| 47|Seven (a.k.a. Se7...| 51| 5.0|\n",
      "| 47|Seven (a.k.a. Se7...|229| 2.0|\n",
      "| 47|Seven (a.k.a. Se7...|623| 4.0|\n",
      "| 47|Seven (a.k.a. Se7...|886| 2.0|\n",
      "| 47|Seven (a.k.a. Se7...|350| 3.0|\n",
      "| 47|Seven (a.k.a. Se7...|948| 3.0|\n",
      "| 47|Seven (a.k.a. Se7...|686| 4.0|\n",
      "| 47|Seven (a.k.a. Se7...|875| 3.0|\n",
      "| 47|Seven (a.k.a. Se7...|681| 3.0|\n",
      "| 47|Seven (a.k.a. Se7...|191| 3.0|\n",
      "| 48|   Pocahontas (1995)|781| 3.0|\n",
      "| 48|   Pocahontas (1995)|506| 4.0|\n",
      "| 50|Usual Suspects, T...|308| 5.0|\n",
      "| 50|Usual Suspects, T...|834| 4.5|\n",
      "| 50|Usual Suspects, T...|652| 4.5|\n",
      "| 50|Usual Suspects, T...|713| 5.0|\n",
      "| 50|Usual Suspects, T...|981| 3.5|\n",
      "| 50|Usual Suspects, T...|778| 4.5|\n",
      "| 50|Usual Suspects, T...|524| 5.0|\n",
      "| 50|Usual Suspects, T...|588| 3.0|\n",
      "| 50|Usual Suspects, T...|771| 4.0|\n",
      "| 50|Usual Suspects, T...|312| 4.5|\n",
      "| 50|Usual Suspects, T...|934| 4.5|\n",
      "| 52|Mighty Aphrodite ...|825| 4.0|\n",
      "| 52|Mighty Aphrodite ...|487| 4.0|\n",
      "| 57|Home for the Holi...| 24| 2.0|\n",
      "| 58|Postman, The (Pos...|487| 4.0|\n",
      "| 58|Postman, The (Pos...|773| 4.0|\n",
      "| 58|Postman, The (Pos...|439| 1.5|\n",
      "| 61|Eye for an Eye (1...|638| 3.0|\n",
      "| 62|Mr. Holland's Opu...|691| 5.0|\n",
      "| 62|Mr. Holland's Opu...|760| 4.0|\n",
      "| 62|Mr. Holland's Opu...|989| 3.0|\n",
      "| 62|Mr. Holland's Opu...| 87| 3.0|\n",
      "| 62|Mr. Holland's Opu...|368| 4.0|\n",
      "| 63|Don't Be a Menace...|490| 4.5|\n",
      "| 65|     Bio-Dome (1996)|953| 3.0|\n",
      "| 68|French Twist (Gaz...|635| 4.0|\n",
      "| 69|       Friday (1995)|798| 3.0|\n",
      "| 70|From Dusk Till Da...|619| 5.0|\n",
      "| 70|From Dusk Till Da...|817| 5.0|\n",
      "| 71|    Fair Game (1995)|638| 3.0|\n",
      "| 76|    Screamers (1995)|160| 4.0|\n",
      "| 79|   Juror, The (1996)|295| 3.5|\n",
      "| 79|   Juror, The (1996)|306| 4.0|\n",
      "| 82|Antonia's Line (A...|382| 4.0|\n",
      "| 86| White Squall (1996)|366| 5.0|\n",
      "| 88|  Black Sheep (1996)|168| 3.0|\n",
      "| 89| Nick of Time (1995)|426| 2.0|\n",
      "| 94|Beautiful Girls (...|353| 4.0|\n",
      "| 95| Broken Arrow (1996)|400| 3.0|\n",
      "| 95| Broken Arrow (1996)|455| 3.0|\n",
      "| 95| Broken Arrow (1996)|430| 3.0|\n",
      "| 95| Broken Arrow (1996)|524| 5.0|\n",
      "| 97|Hate (Haine, La) ...|567| 3.0|\n",
      "| 97|Hate (Haine, La) ...|493| 3.0|\n",
      "+---+--------------------+---+----+\n",
      "\n"
     ]
    }
   ],
   "source": [
    "J = film_extrait.join(notes_extrait, film_extrait.nF == notes_extrait.nF ).select(film_extrait.nF, film_extrait.titre, notes_extrait.nU, notes_extrait.note)\n",
    "J.show(10000)"
   ]
  },
  {
   "cell_type": "markdown",
   "metadata": {
    "id": "JbY6V-fmke97"
   },
   "source": [
    "# Jointure parallèle par Hachage et partitionnement"
   ]
  },
  {
   "cell_type": "markdown",
   "metadata": {
    "id": "KNtyJbfOKFGF"
   },
   "source": [
    "\n",
    "\n",
    "*   On a récupérer un extrait de films\n",
    "\n",
    "*   On a partitionné cet extrait en 3 partition\n",
    "\n",
    "*   On a créer 3 groupe de données dans chaques partitions (c'est notre fonction H )\n",
    "\n",
    "*   On shuffle la table de films , c'est à dire qu'on join les groupes avec le même numéro ( c'est l'étape de répartition )\n",
    "\n",
    "\n",
    "\n",
    "\n",
    "\n",
    "\n"
   ]
  },
  {
   "cell_type": "code",
   "execution_count": 96,
   "metadata": {
    "id": "9j0SxMsnuGWW"
   },
   "outputs": [],
   "source": [
    "# les numéros de film (nF) sont compris entre 1 et 99\n",
    "\n",
    "def Decouper_Film(iterateur):\n",
    "\n",
    "  suivant = next(iterateur, None)\n",
    "  groupes = [[] for x in range(3)]\n",
    "\n",
    "  while suivant is not None:\n",
    "\n",
    "    nf = suivant.nF\n",
    "    if nf < 33:\n",
    "      p=0\n",
    "    elif nf < 66:\n",
    "      p=1\n",
    "    else:\n",
    "      p=2\n",
    "\n",
    "    groupes[p].append((p, *suivant))\n",
    "    suivant = next(iterateur, None)\n",
    "\n",
    "  for groupe in groupes:\n",
    "    for film in groupe:\n",
    "      yield film\n",
    "      "
   ]
  },
  {
   "cell_type": "code",
   "execution_count": 97,
   "metadata": {
    "colab": {
     "base_uri": "https://localhost:8080/"
    },
    "id": "hvXQmq3wv47P",
    "outputId": "a3a381aa-1f7f-4b6e-90d7-3f66cd8377d8"
   },
   "outputs": [
    {
     "name": "stdout",
     "output_type": "stream",
     "text": [
      "partition 0\n",
      "+---+---+----------------------------------------------------+-------------------------------------------------+\n",
      "|p  |nF |titre                                               |genres                                           |\n",
      "+---+---+----------------------------------------------------+-------------------------------------------------+\n",
      "|0  |9  |Sudden Death (1995)                                 |[Action]                                         |\n",
      "|0  |4  |Waiting to Exhale (1995)                            |[Comedy, Drama, Romance]                         |\n",
      "|0  |20 |Money Train (1995)                                  |[Action, Comedy, Crime, Drama, Thriller]         |\n",
      "|0  |12 |Dracula: Dead and Loving It (1995)                  |[Comedy, Horror]                                 |\n",
      "|0  |13 |Balto (1995)                                        |[Adventure, Animation, Children]                 |\n",
      "|0  |25 |Leaving Las Vegas (1995)                            |[Drama, Romance]                                 |\n",
      "|0  |1  |Toy Story (1995)                                    |[Adventure, Animation, Children, Comedy, Fantasy]|\n",
      "|0  |22 |Copycat (1995)                                      |[Crime, Drama, Horror, Mystery, Thriller]        |\n",
      "|0  |2  |Jumanji (1995)                                      |[Adventure, Children, Fantasy]                   |\n",
      "|0  |17 |Sense and Sensibility (1995)                        |[Drama, Romance]                                 |\n",
      "|0  |30 |Shanghai Triad (Yao a yao yao dao waipo qiao) (1995)|[Crime, Drama]                                   |\n",
      "|0  |24 |Powder (1995)                                       |[Drama, Sci-Fi]                                  |\n",
      "|1  |45 |To Die For (1995)                                   |[Comedy, Drama, Thriller]                        |\n",
      "|1  |58 |Postman, The (Postino, Il) (1994)                   |[Comedy, Drama, Romance]                         |\n",
      "|1  |54 |Big Green, The (1995)                               |[Children, Comedy]                               |\n",
      "|1  |57 |Home for the Holidays (1995)                        |[Drama]                                          |\n",
      "|1  |39 |Clueless (1995)                                     |[Comedy, Romance]                                |\n",
      "|1  |35 |Carrington (1995)                                   |[Drama, Romance]                                 |\n",
      "|1  |46 |How to Make an American Quilt (1995)                |[Drama, Romance]                                 |\n",
      "|1  |36 |Dead Man Walking (1995)                             |[Crime, Drama]                                   |\n",
      "|2  |94 |Beautiful Girls (1996)                              |[Comedy, Drama, Romance]                         |\n",
      "|2  |80 |White Balloon, The (Badkonake sefid) (1995)         |[Children, Drama]                                |\n",
      "|2  |87 |Dunston Checks In (1996)                            |[Children, Comedy]                               |\n",
      "|2  |88 |Black Sheep (1996)                                  |[Comedy]                                         |\n",
      "|2  |83 |Once Upon a Time... When We Were Colored (1995)     |[Drama, Romance]                                 |\n",
      "|2  |73 |Misérables, Les (1995)                              |[Drama, War]                                     |\n",
      "|2  |97 |Hate (Haine, La) (1995)                             |[Crime, Drama]                                   |\n",
      "|2  |70 |From Dusk Till Dawn (1996)                          |[Action, Comedy, Horror, Thriller]               |\n",
      "|2  |86 |White Squall (1996)                                 |[Action, Adventure, Drama]                       |\n",
      "|2  |66 |Lawnmower Man 2: Beyond Cyberspace (1996)           |[Action, Sci-Fi, Thriller]                       |\n",
      "|2  |93 |Vampire in Brooklyn (1995)                          |[Comedy, Horror, Romance]                        |\n",
      "+---+---+----------------------------------------------------+-------------------------------------------------+\n",
      "\n",
      "partition 1\n",
      "+---+---+----------------------------------------------+----------------------------------------------+\n",
      "|p  |nF |titre                                         |genres                                        |\n",
      "+---+---+----------------------------------------------+----------------------------------------------+\n",
      "|0  |14 |Nixon (1995)                                  |[Drama]                                       |\n",
      "|0  |27 |Now and Then (1995)                           |[Children, Drama]                             |\n",
      "|0  |3  |Grumpier Old Men (1995)                       |[Comedy, Romance]                             |\n",
      "|0  |19 |Ace Ventura: When Nature Calls (1995)         |[Comedy]                                      |\n",
      "|0  |23 |Assassins (1995)                              |[Action, Crime, Thriller]                     |\n",
      "|0  |7  |Sabrina (1995)                                |[Comedy, Romance]                             |\n",
      "|0  |16 |Casino (1995)                                 |[Crime, Drama]                                |\n",
      "|0  |10 |GoldenEye (1995)                              |[Action, Adventure, Thriller]                 |\n",
      "|0  |5  |Father of the Bride Part II (1995)            |[Comedy]                                      |\n",
      "|1  |49 |When Night Is Falling (1995)                  |[Drama, Romance]                              |\n",
      "|1  |59 |Confessional, The (Confessionnal, Le) (1995)  |[Drama, Mystery]                              |\n",
      "|1  |34 |Babe (1995)                                   |[Children, Drama]                             |\n",
      "|1  |60 |Indian in the Cupboard, The (1995)            |[Adventure, Children, Fantasy]                |\n",
      "|1  |52 |Mighty Aphrodite (1995)                       |[Comedy, Drama, Romance]                      |\n",
      "|1  |61 |Eye for an Eye (1996)                         |[Drama, Thriller]                             |\n",
      "|1  |62 |Mr. Holland's Opus (1995)                     |[Drama]                                       |\n",
      "|1  |47 |Seven (a.k.a. Se7en) (1995)                   |[Mystery, Thriller]                           |\n",
      "|1  |40 |Cry, the Beloved Country (1995)               |[Drama]                                       |\n",
      "|1  |42 |Dead Presidents (1995)                        |[Action, Crime, Drama]                        |\n",
      "|1  |43 |Restoration (1995)                            |[Drama]                                       |\n",
      "|1  |65 |Bio-Dome (1996)                               |[Comedy]                                      |\n",
      "|1  |48 |Pocahontas (1995)                             |[Animation, Children, Drama, Musical, Romance]|\n",
      "|2  |71 |Fair Game (1995)                              |[Action]                                      |\n",
      "|2  |99 |Heidi Fleiss: Hollywood Madam (1995)          |[Documentary]                                 |\n",
      "|2  |84 |Last Summer in the Hamptons (1995)            |[Comedy, Drama]                               |\n",
      "|2  |76 |Screamers (1995)                              |[Action, Sci-Fi, Thriller]                    |\n",
      "|2  |98 |Shopping (1994)                               |[Action, Thriller]                            |\n",
      "|2  |78 |Crossing Guard, The (1995)                    |[Action, Crime, Drama, Thriller]              |\n",
      "|2  |81 |Things to Do in Denver When You're Dead (1995)|[Crime, Drama, Romance]                       |\n",
      "|2  |74 |Bed of Roses (1996)                           |[Drama, Romance]                              |\n",
      "|2  |89 |Nick of Time (1995)                           |[Action, Thriller]                            |\n",
      "+---+---+----------------------------------------------+----------------------------------------------+\n",
      "\n",
      "partition 2\n",
      "+---+---+-------------------------------------------------------------------------------+--------------------------------------------+\n",
      "|p  |nF |titre                                                                          |genres                                      |\n",
      "+---+---+-------------------------------------------------------------------------------+--------------------------------------------+\n",
      "|0  |21 |Get Shorty (1995)                                                              |[Comedy, Crime, Thriller]                   |\n",
      "|0  |8  |Tom and Huck (1995)                                                            |[Adventure, Children]                       |\n",
      "|0  |6  |Heat (1995)                                                                    |[Action, Crime, Thriller]                   |\n",
      "|0  |31 |Dangerous Minds (1995)                                                         |[Drama]                                     |\n",
      "|0  |18 |Four Rooms (1995)                                                              |[Comedy]                                    |\n",
      "|0  |26 |Othello (1995)                                                                 |[Drama]                                     |\n",
      "|0  |11 |American President, The (1995)                                                 |[Comedy, Drama, Romance]                    |\n",
      "|0  |29 |City of Lost Children, The (Cité des enfants perdus, La) (1995)                |[Adventure, Drama, Fantasy, Mystery, Sci-Fi]|\n",
      "|0  |28 |Persuasion (1995)                                                              |[Drama, Romance]                            |\n",
      "|0  |32 |Twelve Monkeys (a.k.a. 12 Monkeys) (1995)                                      |[Mystery, Sci-Fi, Thriller]                 |\n",
      "|0  |15 |Cutthroat Island (1995)                                                        |[Action, Adventure, Romance]                |\n",
      "|1  |63 |Don't Be a Menace to South Central While Drinking Your Juice in the Hood (1996)|[Comedy, Crime]                             |\n",
      "|1  |53 |Lamerica (1994)                                                                |[Adventure, Drama]                          |\n",
      "|1  |50 |Usual Suspects, The (1995)                                                     |[Crime, Mystery, Thriller]                  |\n",
      "|1  |55 |Georgia (1995)                                                                 |[Drama]                                     |\n",
      "|1  |41 |Richard III (1995)                                                             |[Drama, War]                                |\n",
      "|1  |44 |Mortal Kombat (1995)                                                           |[Action, Adventure, Fantasy]                |\n",
      "|1  |38 |It Takes Two (1995)                                                            |[Children, Comedy]                          |\n",
      "|1  |64 |Two if by Sea (1996)                                                           |[Comedy, Romance]                           |\n",
      "|1  |37 |Across the Sea of Time (1995)                                                  |[Documentary, IMAX]                         |\n",
      "|2  |72 |Kicking and Screaming (1995)                                                   |[Comedy, Drama]                             |\n",
      "|2  |95 |Broken Arrow (1996)                                                            |[Action, Adventure, Thriller]               |\n",
      "|2  |96 |In the Bleak Midwinter (1995)                                                  |[Comedy, Drama]                             |\n",
      "|2  |79 |Juror, The (1996)                                                              |[Drama, Thriller]                           |\n",
      "|2  |92 |Mary Reilly (1996)                                                             |[Drama, Horror, Thriller]                   |\n",
      "|2  |77 |Nico Icon (1995)                                                               |[Documentary]                               |\n",
      "|2  |82 |Antonia's Line (Antonia) (1995)                                                |[Comedy, Drama]                             |\n",
      "|2  |69 |Friday (1995)                                                                  |[Comedy]                                    |\n",
      "|2  |68 |French Twist (Gazon maudit) (1995)                                             |[Comedy, Romance]                           |\n",
      "|2  |85 |Angels and Insects (1995)                                                      |[Drama, Romance]                            |\n",
      "+---+---+-------------------------------------------------------------------------------+--------------------------------------------+\n",
      "\n"
     ]
    }
   ],
   "source": [
    "names = [\"p\"] + film_extrait.schema.fieldNames()\n",
    "\n",
    "F1= film_extrait.rdd.mapPartitions(Decouper_Film).toDF(names)\n",
    "showPartitions(F1,50)"
   ]
  },
  {
   "cell_type": "markdown",
   "metadata": {
    "id": "vFTuiwHswUxm"
   },
   "source": [
    "\n",
    "\n",
    "*   On shuffle les données, c'est à dire qu'on associe les données qui ont le même numéro de groupe ( le même H(films_extrait.nF) )\n",
    "\n"
   ]
  },
  {
   "cell_type": "code",
   "execution_count": 98,
   "metadata": {
    "colab": {
     "base_uri": "https://localhost:8080/"
    },
    "id": "4V7re5eJwUEx",
    "outputId": "eff21154-7505-4dbe-9417-9fe96946d79f"
   },
   "outputs": [
    {
     "name": "stdout",
     "output_type": "stream",
     "text": [
      "partition 0\n",
      "+---+---+---------------------------------------------------------------+-------------------------------------------------+\n",
      "|p  |nF |titre                                                          |genres                                           |\n",
      "+---+---+---------------------------------------------------------------+-------------------------------------------------+\n",
      "|0  |9  |Sudden Death (1995)                                            |[Action]                                         |\n",
      "|0  |4  |Waiting to Exhale (1995)                                       |[Comedy, Drama, Romance]                         |\n",
      "|0  |20 |Money Train (1995)                                             |[Action, Comedy, Crime, Drama, Thriller]         |\n",
      "|0  |12 |Dracula: Dead and Loving It (1995)                             |[Comedy, Horror]                                 |\n",
      "|0  |13 |Balto (1995)                                                   |[Adventure, Animation, Children]                 |\n",
      "|0  |25 |Leaving Las Vegas (1995)                                       |[Drama, Romance]                                 |\n",
      "|0  |1  |Toy Story (1995)                                               |[Adventure, Animation, Children, Comedy, Fantasy]|\n",
      "|0  |22 |Copycat (1995)                                                 |[Crime, Drama, Horror, Mystery, Thriller]        |\n",
      "|0  |2  |Jumanji (1995)                                                 |[Adventure, Children, Fantasy]                   |\n",
      "|0  |17 |Sense and Sensibility (1995)                                   |[Drama, Romance]                                 |\n",
      "|0  |30 |Shanghai Triad (Yao a yao yao dao waipo qiao) (1995)           |[Crime, Drama]                                   |\n",
      "|0  |24 |Powder (1995)                                                  |[Drama, Sci-Fi]                                  |\n",
      "|0  |14 |Nixon (1995)                                                   |[Drama]                                          |\n",
      "|0  |27 |Now and Then (1995)                                            |[Children, Drama]                                |\n",
      "|0  |3  |Grumpier Old Men (1995)                                        |[Comedy, Romance]                                |\n",
      "|0  |19 |Ace Ventura: When Nature Calls (1995)                          |[Comedy]                                         |\n",
      "|0  |23 |Assassins (1995)                                               |[Action, Crime, Thriller]                        |\n",
      "|0  |7  |Sabrina (1995)                                                 |[Comedy, Romance]                                |\n",
      "|0  |16 |Casino (1995)                                                  |[Crime, Drama]                                   |\n",
      "|0  |10 |GoldenEye (1995)                                               |[Action, Adventure, Thriller]                    |\n",
      "|0  |5  |Father of the Bride Part II (1995)                             |[Comedy]                                         |\n",
      "|0  |21 |Get Shorty (1995)                                              |[Comedy, Crime, Thriller]                        |\n",
      "|0  |8  |Tom and Huck (1995)                                            |[Adventure, Children]                            |\n",
      "|0  |6  |Heat (1995)                                                    |[Action, Crime, Thriller]                        |\n",
      "|0  |31 |Dangerous Minds (1995)                                         |[Drama]                                          |\n",
      "|0  |18 |Four Rooms (1995)                                              |[Comedy]                                         |\n",
      "|0  |26 |Othello (1995)                                                 |[Drama]                                          |\n",
      "|0  |11 |American President, The (1995)                                 |[Comedy, Drama, Romance]                         |\n",
      "|0  |29 |City of Lost Children, The (Cité des enfants perdus, La) (1995)|[Adventure, Drama, Fantasy, Mystery, Sci-Fi]     |\n",
      "|0  |28 |Persuasion (1995)                                              |[Drama, Romance]                                 |\n",
      "|0  |32 |Twelve Monkeys (a.k.a. 12 Monkeys) (1995)                      |[Mystery, Sci-Fi, Thriller]                      |\n",
      "|0  |15 |Cutthroat Island (1995)                                        |[Action, Adventure, Romance]                     |\n",
      "+---+---+---------------------------------------------------------------+-------------------------------------------------+\n",
      "\n",
      "partition 1\n",
      "+---+---+-------------------------------------------------------------------------------+----------------------------------------------+\n",
      "|p  |nF |titre                                                                          |genres                                        |\n",
      "+---+---+-------------------------------------------------------------------------------+----------------------------------------------+\n",
      "|1  |45 |To Die For (1995)                                                              |[Comedy, Drama, Thriller]                     |\n",
      "|1  |58 |Postman, The (Postino, Il) (1994)                                              |[Comedy, Drama, Romance]                      |\n",
      "|1  |54 |Big Green, The (1995)                                                          |[Children, Comedy]                            |\n",
      "|1  |57 |Home for the Holidays (1995)                                                   |[Drama]                                       |\n",
      "|1  |39 |Clueless (1995)                                                                |[Comedy, Romance]                             |\n",
      "|1  |35 |Carrington (1995)                                                              |[Drama, Romance]                              |\n",
      "|1  |46 |How to Make an American Quilt (1995)                                           |[Drama, Romance]                              |\n",
      "|1  |36 |Dead Man Walking (1995)                                                        |[Crime, Drama]                                |\n",
      "|1  |49 |When Night Is Falling (1995)                                                   |[Drama, Romance]                              |\n",
      "|1  |59 |Confessional, The (Confessionnal, Le) (1995)                                   |[Drama, Mystery]                              |\n",
      "|1  |34 |Babe (1995)                                                                    |[Children, Drama]                             |\n",
      "|1  |60 |Indian in the Cupboard, The (1995)                                             |[Adventure, Children, Fantasy]                |\n",
      "|1  |52 |Mighty Aphrodite (1995)                                                        |[Comedy, Drama, Romance]                      |\n",
      "|1  |61 |Eye for an Eye (1996)                                                          |[Drama, Thriller]                             |\n",
      "|1  |62 |Mr. Holland's Opus (1995)                                                      |[Drama]                                       |\n",
      "|1  |47 |Seven (a.k.a. Se7en) (1995)                                                    |[Mystery, Thriller]                           |\n",
      "|1  |40 |Cry, the Beloved Country (1995)                                                |[Drama]                                       |\n",
      "|1  |42 |Dead Presidents (1995)                                                         |[Action, Crime, Drama]                        |\n",
      "|1  |43 |Restoration (1995)                                                             |[Drama]                                       |\n",
      "|1  |65 |Bio-Dome (1996)                                                                |[Comedy]                                      |\n",
      "|1  |48 |Pocahontas (1995)                                                              |[Animation, Children, Drama, Musical, Romance]|\n",
      "|1  |63 |Don't Be a Menace to South Central While Drinking Your Juice in the Hood (1996)|[Comedy, Crime]                               |\n",
      "|1  |53 |Lamerica (1994)                                                                |[Adventure, Drama]                            |\n",
      "|1  |50 |Usual Suspects, The (1995)                                                     |[Crime, Mystery, Thriller]                    |\n",
      "|1  |55 |Georgia (1995)                                                                 |[Drama]                                       |\n",
      "|1  |41 |Richard III (1995)                                                             |[Drama, War]                                  |\n",
      "|1  |44 |Mortal Kombat (1995)                                                           |[Action, Adventure, Fantasy]                  |\n",
      "|1  |38 |It Takes Two (1995)                                                            |[Children, Comedy]                            |\n",
      "|1  |64 |Two if by Sea (1996)                                                           |[Comedy, Romance]                             |\n",
      "|1  |37 |Across the Sea of Time (1995)                                                  |[Documentary, IMAX]                           |\n",
      "+---+---+-------------------------------------------------------------------------------+----------------------------------------------+\n",
      "\n",
      "partition 2\n",
      "+---+---+-----------------------------------------------+----------------------------------+\n",
      "|p  |nF |titre                                          |genres                            |\n",
      "+---+---+-----------------------------------------------+----------------------------------+\n",
      "|2  |94 |Beautiful Girls (1996)                         |[Comedy, Drama, Romance]          |\n",
      "|2  |80 |White Balloon, The (Badkonake sefid) (1995)    |[Children, Drama]                 |\n",
      "|2  |87 |Dunston Checks In (1996)                       |[Children, Comedy]                |\n",
      "|2  |88 |Black Sheep (1996)                             |[Comedy]                          |\n",
      "|2  |83 |Once Upon a Time... When We Were Colored (1995)|[Drama, Romance]                  |\n",
      "|2  |73 |Misérables, Les (1995)                         |[Drama, War]                      |\n",
      "|2  |97 |Hate (Haine, La) (1995)                        |[Crime, Drama]                    |\n",
      "|2  |70 |From Dusk Till Dawn (1996)                     |[Action, Comedy, Horror, Thriller]|\n",
      "|2  |86 |White Squall (1996)                            |[Action, Adventure, Drama]        |\n",
      "|2  |66 |Lawnmower Man 2: Beyond Cyberspace (1996)      |[Action, Sci-Fi, Thriller]        |\n",
      "|2  |93 |Vampire in Brooklyn (1995)                     |[Comedy, Horror, Romance]         |\n",
      "|2  |71 |Fair Game (1995)                               |[Action]                          |\n",
      "|2  |99 |Heidi Fleiss: Hollywood Madam (1995)           |[Documentary]                     |\n",
      "|2  |84 |Last Summer in the Hamptons (1995)             |[Comedy, Drama]                   |\n",
      "|2  |76 |Screamers (1995)                               |[Action, Sci-Fi, Thriller]        |\n",
      "|2  |98 |Shopping (1994)                                |[Action, Thriller]                |\n",
      "|2  |78 |Crossing Guard, The (1995)                     |[Action, Crime, Drama, Thriller]  |\n",
      "|2  |81 |Things to Do in Denver When You're Dead (1995) |[Crime, Drama, Romance]           |\n",
      "|2  |74 |Bed of Roses (1996)                            |[Drama, Romance]                  |\n",
      "|2  |89 |Nick of Time (1995)                            |[Action, Thriller]                |\n",
      "|2  |72 |Kicking and Screaming (1995)                   |[Comedy, Drama]                   |\n",
      "|2  |95 |Broken Arrow (1996)                            |[Action, Adventure, Thriller]     |\n",
      "|2  |96 |In the Bleak Midwinter (1995)                  |[Comedy, Drama]                   |\n",
      "|2  |79 |Juror, The (1996)                              |[Drama, Thriller]                 |\n",
      "|2  |92 |Mary Reilly (1996)                             |[Drama, Horror, Thriller]         |\n",
      "|2  |77 |Nico Icon (1995)                               |[Documentary]                     |\n",
      "|2  |82 |Antonia's Line (Antonia) (1995)                |[Comedy, Drama]                   |\n",
      "|2  |69 |Friday (1995)                                  |[Comedy]                          |\n",
      "|2  |68 |French Twist (Gazon maudit) (1995)             |[Comedy, Romance]                 |\n",
      "|2  |85 |Angels and Insects (1995)                      |[Drama, Romance]                  |\n",
      "+---+---+-----------------------------------------------+----------------------------------+\n",
      "\n"
     ]
    }
   ],
   "source": [
    "F2_ = F1.repartitionByRange(3, col('p'))\n",
    "\n",
    "showPartitions(F2_,50)"
   ]
  },
  {
   "cell_type": "markdown",
   "metadata": {
    "id": "pMg9pQu4PmKo"
   },
   "source": [
    "\n",
    "\n",
    "*   F2 contient pour chaque numéro de partition , la liste de films associées (ça facilite la jointure sur le numéro de partition )\n",
    "\n"
   ]
  },
  {
   "cell_type": "code",
   "execution_count": 99,
   "metadata": {
    "colab": {
     "base_uri": "https://localhost:8080/"
    },
    "id": "tRiSWWNdPmSg",
    "outputId": "b1d89f37-e8ab-4655-b7ae-955e8116c91e"
   },
   "outputs": [
    {
     "name": "stdout",
     "output_type": "stream",
     "text": [
      "+---+--------------------+\n",
      "|  p|               films|\n",
      "+---+--------------------+\n",
      "|  0|[[9, Sudden Death...|\n",
      "|  1|[[45, To Die For ...|\n",
      "|  2|[[94, Beautiful G...|\n",
      "+---+--------------------+\n",
      "\n"
     ]
    }
   ],
   "source": [
    "F2 = F2_.groupBy('p').agg( collect_list( array('nF','titre') ).alias('films') )\n",
    "F2.show()"
   ]
  },
  {
   "cell_type": "markdown",
   "metadata": {
    "id": "hQkftVg0pISy"
   },
   "source": [
    "\n",
    "*   On a récupéré un extrait de notes \n",
    "\n",
    "*   On l'a partitionné en 3 partitions\n",
    "\n",
    "*   On crée 3 groupes de donneés dans chaque partitions ( fonction H)\n",
    "\n",
    "*   On shuffle la table de notes , c'est à dire qu'on join les groupes avec le même numéro ( c'est l'étape de répartition )\n",
    "\n",
    "\n",
    "\n"
   ]
  },
  {
   "cell_type": "code",
   "execution_count": 100,
   "metadata": {
    "id": "cnVhlQiuSRIi"
   },
   "outputs": [],
   "source": [
    "# On découpe les données de la même façon qu'on a découpé les données film , ansi on a la même fonction H.\n",
    "# De cette manière on est sûr que pour les deux tables ( notes et films), pour chaque partition on aura les films qui correspondent.\n",
    "\n",
    "def Decouper_Notes(iterateur):\n",
    "\n",
    "  suivant = next(iterateur, None)\n",
    "  groupes = [[] for x in range(3)]\n",
    "\n",
    "  while suivant is not None:\n",
    "\n",
    "    nf = suivant.nF\n",
    "    if nf < 33:\n",
    "      p=0\n",
    "    elif nf < 66:\n",
    "      p=1\n",
    "    else:\n",
    "      p=2\n",
    "\n",
    "    groupes[p].append((p, *suivant))\n",
    "    suivant = next(iterateur, None)\n",
    "\n",
    "  for groupe in groupes:\n",
    "    for note in groupe:\n",
    "      yield note\n"
   ]
  },
  {
   "cell_type": "code",
   "execution_count": 101,
   "metadata": {
    "id": "9KaroiVcxtul"
   },
   "outputs": [],
   "source": [
    "names = [\"p\"] + notes_extrait.schema.fieldNames()\n",
    "\n",
    "N1 = notes_extrait.rdd.mapPartitions(Decouper_Notes).toDF(names)"
   ]
  },
  {
   "cell_type": "markdown",
   "metadata": {
    "id": "6dlZuhRYx8dP"
   },
   "source": [
    "\n",
    "\n",
    "*   On shuffle les données, c'est à dire qu'on associe les données qui ont le même numéro de groupe ( le même H(notes_extrait.nF) )\n",
    "\n",
    "\n",
    "\n"
   ]
  },
  {
   "cell_type": "code",
   "execution_count": 102,
   "metadata": {
    "colab": {
     "base_uri": "https://localhost:8080/"
    },
    "id": "-utHeMW3Uoj2",
    "outputId": "47c6cadc-0528-49b7-f20b-a90fb21b879f"
   },
   "outputs": [
    {
     "name": "stdout",
     "output_type": "stream",
     "text": [
      "partition 0\n",
      "+---+---+---+----+-----+\n",
      "|p  |nF |nU |note|annee|\n",
      "+---+---+---+----+-----+\n",
      "|0  |19 |76 |1.5 |2011 |\n",
      "|0  |25 |832|5.0 |1998 |\n",
      "|0  |5  |296|3.5 |2005 |\n",
      "|0  |2  |796|1.5 |2015 |\n",
      "|0  |2  |353|3.0 |2003 |\n",
      "|0  |28 |815|5.0 |1996 |\n",
      "|0  |5  |196|4.0 |1996 |\n",
      "|0  |29 |882|5.0 |1996 |\n",
      "|0  |12 |459|3.0 |2015 |\n",
      "|0  |1  |457|4.0 |2017 |\n",
      "|0  |1  |606|4.0 |2002 |\n",
      "|0  |11 |236|4.0 |2001 |\n",
      "|0  |10 |341|3.0 |1997 |\n",
      "|0  |10 |481|2.0 |1996 |\n",
      "|0  |1  |869|4.0 |2012 |\n",
      "|0  |6  |733|4.5 |2006 |\n",
      "|0  |6  |384|3.0 |2000 |\n",
      "|0  |6  |703|4.0 |2003 |\n",
      "|0  |11 |455|3.0 |1996 |\n",
      "|0  |6  |153|4.5 |2004 |\n",
      "|0  |10 |421|4.0 |1999 |\n",
      "|0  |32 |160|4.0 |2000 |\n",
      "|0  |32 |848|4.0 |2007 |\n",
      "|0  |22 |66 |2.0 |2003 |\n",
      "|0  |16 |12 |4.0 |1999 |\n",
      "|0  |14 |157|3.0 |1996 |\n",
      "|0  |14 |112|3.0 |1996 |\n",
      "|0  |17 |523|5.0 |1998 |\n",
      "|0  |21 |638|4.0 |1996 |\n",
      "|0  |7  |611|2.0 |1999 |\n",
      "|0  |21 |557|4.0 |2002 |\n",
      "|0  |3  |979|3.0 |1997 |\n",
      "|0  |7  |368|2.5 |2006 |\n",
      "|0  |15 |875|4.0 |1996 |\n",
      "|0  |29 |592|4.0 |2000 |\n",
      "|0  |31 |767|3.0 |1996 |\n",
      "|0  |25 |339|5.0 |1997 |\n",
      "|0  |19 |63 |0.5 |2007 |\n",
      "|0  |19 |240|1.5 |2003 |\n",
      "|0  |2  |390|2.0 |2005 |\n",
      "|0  |19 |533|3.0 |2000 |\n",
      "|0  |29 |924|4.0 |2015 |\n",
      "|0  |25 |638|4.0 |1996 |\n",
      "|0  |25 |640|3.5 |2004 |\n",
      "|0  |6  |52 |3.0 |1997 |\n",
      "|0  |1  |75 |4.0 |2007 |\n",
      "|0  |6  |619|2.0 |1996 |\n",
      "|0  |6  |483|4.0 |2007 |\n",
      "|0  |1  |627|3.5 |2006 |\n",
      "|0  |1  |682|4.0 |2000 |\n",
      "|0  |32 |726|5.0 |2009 |\n",
      "|0  |1  |346|4.0 |1999 |\n",
      "|0  |1  |845|2.0 |1996 |\n",
      "|0  |10 |127|3.0 |1996 |\n",
      "|0  |1  |638|5.0 |1996 |\n",
      "|0  |1  |196|3.0 |1996 |\n",
      "|0  |1  |44 |5.0 |1996 |\n",
      "|0  |32 |87 |3.0 |1997 |\n",
      "|0  |1  |760|5.0 |1996 |\n",
      "|0  |10 |984|4.0 |1996 |\n",
      "|0  |14 |432|4.0 |1996 |\n",
      "|0  |16 |988|4.5 |2004 |\n",
      "|0  |3  |87 |3.0 |1997 |\n",
      "|0  |21 |65 |3.0 |2000 |\n",
      "|0  |3  |358|3.5 |2012 |\n",
      "|0  |20 |925|3.0 |1996 |\n",
      "|0  |19 |151|2.0 |2004 |\n",
      "|0  |26 |366|5.0 |1997 |\n",
      "|0  |25 |576|4.0 |2000 |\n",
      "|0  |2  |542|3.0 |1996 |\n",
      "|0  |12 |390|3.0 |2000 |\n",
      "|0  |25 |721|4.0 |1996 |\n",
      "|0  |29 |922|0.5 |2009 |\n",
      "|0  |5  |900|3.0 |1997 |\n",
      "|0  |29 |365|4.0 |2001 |\n",
      "|0  |6  |24 |4.0 |2001 |\n",
      "|0  |1  |392|3.5 |2006 |\n",
      "|0  |1  |323|4.0 |2014 |\n",
      "|0  |32 |931|4.0 |2007 |\n",
      "|0  |32 |533|3.0 |2000 |\n",
      "|0  |32 |652|4.5 |2014 |\n",
      "|0  |1  |545|5.0 |2002 |\n",
      "|0  |6  |413|4.0 |1997 |\n",
      "|0  |1  |150|4.0 |1999 |\n",
      "|0  |10 |533|4.0 |2000 |\n",
      "|0  |1  |667|4.0 |1999 |\n",
      "|0  |11 |638|3.0 |1996 |\n",
      "|0  |1  |565|5.0 |1996 |\n",
      "|0  |10 |875|3.0 |1996 |\n",
      "|0  |1  |46 |4.5 |2003 |\n",
      "|0  |11 |65 |3.0 |2002 |\n",
      "|0  |6  |931|4.0 |2007 |\n",
      "|0  |14 |850|4.0 |2001 |\n",
      "|0  |17 |368|2.0 |2006 |\n",
      "|0  |27 |191|3.0 |1997 |\n",
      "|0  |18 |131|4.0 |1997 |\n",
      "|0  |7  |839|4.0 |2006 |\n",
      "|0  |21 |151|4.0 |2004 |\n",
      "+---+---+---+----+-----+\n",
      "\n",
      "partition 1\n",
      "+---+---+---+----+-----+\n",
      "|p  |nF |nU |note|annee|\n",
      "+---+---+---+----+-----+\n",
      "|1  |62 |691|5.0 |1996 |\n",
      "|1  |48 |781|3.0 |1996 |\n",
      "|1  |34 |871|4.0 |2000 |\n",
      "|1  |62 |760|4.0 |1996 |\n",
      "|1  |62 |989|3.0 |1997 |\n",
      "|1  |62 |87 |3.0 |1997 |\n",
      "|1  |61 |638|3.0 |1996 |\n",
      "|1  |65 |953|3.0 |1997 |\n",
      "|1  |36 |523|3.0 |1998 |\n",
      "|1  |36 |332|3.5 |2015 |\n",
      "|1  |36 |12 |3.0 |1999 |\n",
      "|1  |44 |595|3.0 |1996 |\n",
      "|1  |44 |267|2.5 |2016 |\n",
      "|1  |50 |308|5.0 |2001 |\n",
      "|1  |50 |834|4.5 |2017 |\n",
      "|1  |39 |524|4.0 |1996 |\n",
      "|1  |58 |487|4.0 |1997 |\n",
      "|1  |39 |546|3.0 |1996 |\n",
      "|1  |58 |773|4.0 |1999 |\n",
      "|1  |45 |308|3.0 |2001 |\n",
      "|1  |58 |439|1.5 |2003 |\n",
      "|1  |52 |825|4.0 |2016 |\n",
      "|1  |47 |51 |5.0 |2008 |\n",
      "|1  |39 |308|4.0 |2001 |\n",
      "|1  |62 |368|4.0 |2006 |\n",
      "|1  |34 |682|4.0 |2000 |\n",
      "|1  |34 |332|2.5 |2009 |\n",
      "|1  |34 |881|4.0 |2006 |\n",
      "|1  |34 |546|5.0 |1996 |\n",
      "|1  |36 |261|2.0 |1997 |\n",
      "|1  |44 |314|1.5 |2010 |\n",
      "|1  |50 |652|4.5 |2014 |\n",
      "|1  |50 |713|5.0 |2010 |\n",
      "|1  |50 |981|3.5 |2009 |\n",
      "|1  |50 |778|4.5 |2017 |\n",
      "|1  |50 |524|5.0 |1996 |\n",
      "|1  |63 |490|4.5 |2004 |\n",
      "|1  |44 |46 |3.5 |2003 |\n",
      "|1  |47 |229|2.0 |2002 |\n",
      "|1  |47 |623|4.0 |2016 |\n",
      "|1  |47 |886|2.0 |2016 |\n",
      "|1  |47 |350|3.0 |1996 |\n",
      "|1  |41 |850|3.0 |2001 |\n",
      "|1  |39 |261|4.0 |1997 |\n",
      "|1  |47 |948|3.0 |1996 |\n",
      "|1  |47 |686|4.0 |2005 |\n",
      "|1  |48 |506|4.0 |2010 |\n",
      "|1  |34 |711|2.5 |2009 |\n",
      "|1  |34 |166|3.0 |2016 |\n",
      "|1  |34 |306|4.0 |1996 |\n",
      "|1  |34 |483|3.0 |2004 |\n",
      "|1  |36 |306|3.0 |1996 |\n",
      "|1  |50 |588|3.0 |1996 |\n",
      "|1  |50 |771|4.0 |2016 |\n",
      "|1  |50 |312|4.5 |2006 |\n",
      "|1  |50 |934|4.5 |2005 |\n",
      "|1  |46 |850|4.0 |2001 |\n",
      "|1  |44 |251|2.5 |2003 |\n",
      "|1  |57 |24 |2.0 |2001 |\n",
      "|1  |45 |898|4.0 |1999 |\n",
      "|1  |45 |107|5.0 |1999 |\n",
      "|1  |39 |41 |5.0 |2015 |\n",
      "|1  |47 |875|3.0 |1996 |\n",
      "|1  |39 |321|3.0 |2007 |\n",
      "|1  |39 |306|3.0 |1996 |\n",
      "|1  |52 |487|4.0 |1997 |\n",
      "|1  |47 |681|3.0 |1996 |\n",
      "|1  |47 |191|3.0 |1997 |\n",
      "+---+---+---+----+-----+\n",
      "\n",
      "partition 2\n",
      "+---+---+---+----+-----+\n",
      "|p  |nF |nU |note|annee|\n",
      "+---+---+---+----+-----+\n",
      "|2  |95 |400|3.0 |1996 |\n",
      "|2  |89 |426|2.0 |1999 |\n",
      "|2  |94 |353|4.0 |2003 |\n",
      "|2  |79 |295|3.5 |2013 |\n",
      "|2  |70 |619|5.0 |1996 |\n",
      "|2  |95 |455|3.0 |1996 |\n",
      "|2  |68 |635|4.0 |1996 |\n",
      "|2  |69 |798|3.0 |2000 |\n",
      "|2  |95 |430|3.0 |1996 |\n",
      "|2  |79 |306|4.0 |1996 |\n",
      "|2  |71 |638|3.0 |1996 |\n",
      "|2  |97 |567|3.0 |2017 |\n",
      "|2  |88 |168|3.0 |1996 |\n",
      "|2  |76 |160|4.0 |2000 |\n",
      "|2  |95 |524|5.0 |1996 |\n",
      "|2  |82 |382|4.0 |2002 |\n",
      "|2  |97 |493|3.0 |1999 |\n",
      "|2  |70 |817|5.0 |2001 |\n",
      "|2  |86 |366|5.0 |1997 |\n",
      "+---+---+---+----+-----+\n",
      "\n"
     ]
    }
   ],
   "source": [
    "N2_ = N1.repartitionByRange(3, col('p'))\n",
    "showPartitions(N2_,100)"
   ]
  },
  {
   "cell_type": "markdown",
   "metadata": {
    "id": "_GJG1AS0WGLg"
   },
   "source": [
    "\n",
    "\n",
    "*  N2 contient pour chaque numéro de partition , la liste de notes associées (ça facilite la jointure sur le numéro de partition )\n",
    "\n"
   ]
  },
  {
   "cell_type": "code",
   "execution_count": 103,
   "metadata": {
    "colab": {
     "base_uri": "https://localhost:8080/"
    },
    "id": "17Qlv2TaxoZg",
    "outputId": "dd7458f4-56d3-423b-c282-cabe8c2a636c"
   },
   "outputs": [
    {
     "name": "stdout",
     "output_type": "stream",
     "text": [
      "+---+--------------------+\n",
      "|  p|               notes|\n",
      "+---+--------------------+\n",
      "|  0|[[19.0, 76.0, 1.5...|\n",
      "|  1|[[62.0, 691.0, 5....|\n",
      "|  2|[[95.0, 400.0, 3....|\n",
      "+---+--------------------+\n",
      "\n"
     ]
    }
   ],
   "source": [
    "# On définit une liste pour chaque partition\n",
    "\n",
    "N2 = N2_.groupBy('p').agg( collect_list( array('nF','nU', 'note') ).alias('notes') )\n",
    "N2.show()"
   ]
  },
  {
   "cell_type": "markdown",
   "metadata": {
    "id": "lg7a7nW6XDyd"
   },
   "source": [
    "\n",
    "\n",
    "*   On associé les partitions ayant le même numéro dans les tables de films (F2) et de notes (N2)\n"
   ]
  },
  {
   "cell_type": "code",
   "execution_count": 104,
   "metadata": {
    "colab": {
     "base_uri": "https://localhost:8080/"
    },
    "id": "RbxhyHWJh7Vm",
    "outputId": "f2f69f92-3be2-4d6f-b205-28d08ca3cb57"
   },
   "outputs": [
    {
     "name": "stdout",
     "output_type": "stream",
     "text": [
      "+---+--------------------+---+--------------------+\n",
      "|  p|               films|  p|               notes|\n",
      "+---+--------------------+---+--------------------+\n",
      "|  0|[[9, Sudden Death...|  0|[[19.0, 76.0, 1.5...|\n",
      "|  1|[[45, To Die For ...|  1|[[62.0, 691.0, 5....|\n",
      "|  2|[[94, Beautiful G...|  2|[[95.0, 400.0, 3....|\n",
      "+---+--------------------+---+--------------------+\n",
      "\n"
     ]
    }
   ],
   "source": [
    "J1 = F2.join(N2, F2.p == N2.p )\n",
    "J1.show()"
   ]
  },
  {
   "cell_type": "markdown",
   "metadata": {
    "id": "e4PKUqdCtKh2"
   },
   "source": [
    "\n",
    "\n",
    "*   Jointure par tri fusion\n"
   ]
  },
  {
   "cell_type": "code",
   "execution_count": 105,
   "metadata": {
    "id": "fn3Mkl3mt9Ig"
   },
   "outputs": [],
   "source": [
    "def jointure_film_notes(iterateur):\n",
    "\n",
    "  suivant = next(iterateur, None)  \n",
    "  \n",
    "  while suivant is not None:\n",
    "  \n",
    "    films = suivant.films\n",
    "    notes = suivant.notes\n",
    "    \n",
    "    # TRI\n",
    "\n",
    "    sorted_films = sorted(films, key=lambda t: int(t[0])) # Trie selon la clé de jointure \"nF\"\n",
    "    sorted_notes = sorted(notes, key=lambda t: int(t[0])) # Trie selon la clé de jointure \"nF\"\n",
    "\n",
    "    # FUSION\n",
    "\n",
    "    for n in sorted_notes :\n",
    "      for f in sorted_films :\n",
    "        if( int(float(n[0])) == int(f[0]) ):        # si films.nF == notes.nF\n",
    "          yield ( int(f[0]), f[1], int(float(n[1])) , n[2])\n",
    "          break\n",
    " \n",
    "  \n",
    "    suivant = next(iterateur, None)  \n",
    "\n"
   ]
  },
  {
   "cell_type": "code",
   "execution_count": 106,
   "metadata": {
    "colab": {
     "base_uri": "https://localhost:8080/"
    },
    "id": "ND_tOehrmbUR",
    "outputId": "3e6eb489-a925-4896-b151-aa4e7326d6e2"
   },
   "outputs": [
    {
     "name": "stdout",
     "output_type": "stream",
     "text": [
      "+---+--------------------+---+----+\n",
      "| nF|               titre| nU|note|\n",
      "+---+--------------------+---+----+\n",
      "|  1|    Toy Story (1995)|457| 4.0|\n",
      "|  1|    Toy Story (1995)|606| 4.0|\n",
      "|  1|    Toy Story (1995)|869| 4.0|\n",
      "|  1|    Toy Story (1995)| 75| 4.0|\n",
      "|  1|    Toy Story (1995)|627| 3.5|\n",
      "|  1|    Toy Story (1995)|682| 4.0|\n",
      "|  1|    Toy Story (1995)|346| 4.0|\n",
      "|  1|    Toy Story (1995)|845| 2.0|\n",
      "|  1|    Toy Story (1995)|638| 5.0|\n",
      "|  1|    Toy Story (1995)|196| 3.0|\n",
      "|  1|    Toy Story (1995)| 44| 5.0|\n",
      "|  1|    Toy Story (1995)|760| 5.0|\n",
      "|  1|    Toy Story (1995)|392| 3.5|\n",
      "|  1|    Toy Story (1995)|323| 4.0|\n",
      "|  1|    Toy Story (1995)|545| 5.0|\n",
      "|  1|    Toy Story (1995)|150| 4.0|\n",
      "|  1|    Toy Story (1995)|667| 4.0|\n",
      "|  1|    Toy Story (1995)|565| 5.0|\n",
      "|  1|    Toy Story (1995)| 46| 4.5|\n",
      "|  2|      Jumanji (1995)|796| 1.5|\n",
      "|  2|      Jumanji (1995)|353| 3.0|\n",
      "|  2|      Jumanji (1995)|390| 2.0|\n",
      "|  2|      Jumanji (1995)|542| 3.0|\n",
      "|  3|Grumpier Old Men ...|979| 3.0|\n",
      "|  3|Grumpier Old Men ...| 87| 3.0|\n",
      "|  3|Grumpier Old Men ...|358| 3.5|\n",
      "|  5|Father of the Bri...|296| 3.5|\n",
      "|  5|Father of the Bri...|196| 4.0|\n",
      "|  5|Father of the Bri...|900| 3.0|\n",
      "|  6|         Heat (1995)|733| 4.5|\n",
      "|  6|         Heat (1995)|384| 3.0|\n",
      "|  6|         Heat (1995)|703| 4.0|\n",
      "|  6|         Heat (1995)|153| 4.5|\n",
      "|  6|         Heat (1995)| 52| 3.0|\n",
      "|  6|         Heat (1995)|619| 2.0|\n",
      "|  6|         Heat (1995)|483| 4.0|\n",
      "|  6|         Heat (1995)| 24| 4.0|\n",
      "|  6|         Heat (1995)|413| 4.0|\n",
      "|  6|         Heat (1995)|931| 4.0|\n",
      "|  7|      Sabrina (1995)|611| 2.0|\n",
      "|  7|      Sabrina (1995)|368| 2.5|\n",
      "|  7|      Sabrina (1995)|839| 4.0|\n",
      "| 10|    GoldenEye (1995)|341| 3.0|\n",
      "| 10|    GoldenEye (1995)|481| 2.0|\n",
      "| 10|    GoldenEye (1995)|421| 4.0|\n",
      "| 10|    GoldenEye (1995)|127| 3.0|\n",
      "| 10|    GoldenEye (1995)|984| 4.0|\n",
      "| 10|    GoldenEye (1995)|533| 4.0|\n",
      "| 10|    GoldenEye (1995)|875| 3.0|\n",
      "| 11|American Presiden...|236| 4.0|\n",
      "| 11|American Presiden...|455| 3.0|\n",
      "| 11|American Presiden...|638| 3.0|\n",
      "| 11|American Presiden...| 65| 3.0|\n",
      "| 12|Dracula: Dead and...|459| 3.0|\n",
      "| 12|Dracula: Dead and...|390| 3.0|\n",
      "| 14|        Nixon (1995)|157| 3.0|\n",
      "| 14|        Nixon (1995)|112| 3.0|\n",
      "| 14|        Nixon (1995)|432| 4.0|\n",
      "| 14|        Nixon (1995)|850| 4.0|\n",
      "| 15|Cutthroat Island ...|875| 4.0|\n",
      "| 16|       Casino (1995)| 12| 4.0|\n",
      "| 16|       Casino (1995)|988| 4.5|\n",
      "| 17|Sense and Sensibi...|523| 5.0|\n",
      "| 17|Sense and Sensibi...|368| 2.0|\n",
      "| 18|   Four Rooms (1995)|131| 4.0|\n",
      "| 19|Ace Ventura: When...| 76| 1.5|\n",
      "| 19|Ace Ventura: When...| 63| 0.5|\n",
      "| 19|Ace Ventura: When...|240| 1.5|\n",
      "| 19|Ace Ventura: When...|533| 3.0|\n",
      "| 19|Ace Ventura: When...|151| 2.0|\n",
      "| 20|  Money Train (1995)|925| 3.0|\n",
      "| 21|   Get Shorty (1995)|638| 4.0|\n",
      "| 21|   Get Shorty (1995)|557| 4.0|\n",
      "| 21|   Get Shorty (1995)| 65| 3.0|\n",
      "| 21|   Get Shorty (1995)|151| 4.0|\n",
      "| 22|      Copycat (1995)| 66| 2.0|\n",
      "| 25|Leaving Las Vegas...|832| 5.0|\n",
      "| 25|Leaving Las Vegas...|339| 5.0|\n",
      "| 25|Leaving Las Vegas...|638| 4.0|\n",
      "| 25|Leaving Las Vegas...|640| 3.5|\n",
      "| 25|Leaving Las Vegas...|576| 4.0|\n",
      "| 25|Leaving Las Vegas...|721| 4.0|\n",
      "| 26|      Othello (1995)|366| 5.0|\n",
      "| 27| Now and Then (1995)|191| 3.0|\n",
      "| 28|   Persuasion (1995)|815| 5.0|\n",
      "| 29|City of Lost Chil...|882| 5.0|\n",
      "| 29|City of Lost Chil...|592| 4.0|\n",
      "| 29|City of Lost Chil...|924| 4.0|\n",
      "| 29|City of Lost Chil...|922| 0.5|\n",
      "| 29|City of Lost Chil...|365| 4.0|\n",
      "| 31|Dangerous Minds (...|767| 3.0|\n",
      "| 32|Twelve Monkeys (a...|160| 4.0|\n",
      "| 32|Twelve Monkeys (a...|848| 4.0|\n",
      "| 32|Twelve Monkeys (a...|726| 5.0|\n",
      "| 32|Twelve Monkeys (a...| 87| 3.0|\n",
      "| 32|Twelve Monkeys (a...|931| 4.0|\n",
      "| 32|Twelve Monkeys (a...|533| 3.0|\n",
      "| 32|Twelve Monkeys (a...|652| 4.5|\n",
      "| 34|         Babe (1995)|871| 4.0|\n",
      "| 34|         Babe (1995)|682| 4.0|\n",
      "| 34|         Babe (1995)|332| 2.5|\n",
      "| 34|         Babe (1995)|881| 4.0|\n",
      "| 34|         Babe (1995)|546| 5.0|\n",
      "| 34|         Babe (1995)|711| 2.5|\n",
      "| 34|         Babe (1995)|166| 3.0|\n",
      "| 34|         Babe (1995)|306| 4.0|\n",
      "| 34|         Babe (1995)|483| 3.0|\n",
      "| 36|Dead Man Walking ...|523| 3.0|\n",
      "| 36|Dead Man Walking ...|332| 3.5|\n",
      "| 36|Dead Man Walking ...| 12| 3.0|\n",
      "| 36|Dead Man Walking ...|261| 2.0|\n",
      "| 36|Dead Man Walking ...|306| 3.0|\n",
      "| 39|     Clueless (1995)|524| 4.0|\n",
      "| 39|     Clueless (1995)|546| 3.0|\n",
      "| 39|     Clueless (1995)|308| 4.0|\n",
      "| 39|     Clueless (1995)|261| 4.0|\n",
      "| 39|     Clueless (1995)| 41| 5.0|\n",
      "| 39|     Clueless (1995)|321| 3.0|\n",
      "| 39|     Clueless (1995)|306| 3.0|\n",
      "| 41|  Richard III (1995)|850| 3.0|\n",
      "| 44|Mortal Kombat (1995)|595| 3.0|\n",
      "| 44|Mortal Kombat (1995)|267| 2.5|\n",
      "| 44|Mortal Kombat (1995)|314| 1.5|\n",
      "| 44|Mortal Kombat (1995)| 46| 3.5|\n",
      "| 44|Mortal Kombat (1995)|251| 2.5|\n",
      "| 45|   To Die For (1995)|308| 3.0|\n",
      "| 45|   To Die For (1995)|898| 4.0|\n",
      "| 45|   To Die For (1995)|107| 5.0|\n",
      "| 46|How to Make an Am...|850| 4.0|\n",
      "| 47|Seven (a.k.a. Se7...| 51| 5.0|\n",
      "| 47|Seven (a.k.a. Se7...|229| 2.0|\n",
      "| 47|Seven (a.k.a. Se7...|623| 4.0|\n",
      "| 47|Seven (a.k.a. Se7...|886| 2.0|\n",
      "| 47|Seven (a.k.a. Se7...|350| 3.0|\n",
      "| 47|Seven (a.k.a. Se7...|948| 3.0|\n",
      "| 47|Seven (a.k.a. Se7...|686| 4.0|\n",
      "| 47|Seven (a.k.a. Se7...|875| 3.0|\n",
      "| 47|Seven (a.k.a. Se7...|681| 3.0|\n",
      "| 47|Seven (a.k.a. Se7...|191| 3.0|\n",
      "| 48|   Pocahontas (1995)|781| 3.0|\n",
      "| 48|   Pocahontas (1995)|506| 4.0|\n",
      "| 50|Usual Suspects, T...|308| 5.0|\n",
      "| 50|Usual Suspects, T...|834| 4.5|\n",
      "| 50|Usual Suspects, T...|652| 4.5|\n",
      "| 50|Usual Suspects, T...|713| 5.0|\n",
      "| 50|Usual Suspects, T...|981| 3.5|\n",
      "| 50|Usual Suspects, T...|778| 4.5|\n",
      "| 50|Usual Suspects, T...|524| 5.0|\n",
      "| 50|Usual Suspects, T...|588| 3.0|\n",
      "| 50|Usual Suspects, T...|771| 4.0|\n",
      "| 50|Usual Suspects, T...|312| 4.5|\n",
      "| 50|Usual Suspects, T...|934| 4.5|\n",
      "| 52|Mighty Aphrodite ...|825| 4.0|\n",
      "| 52|Mighty Aphrodite ...|487| 4.0|\n",
      "| 57|Home for the Holi...| 24| 2.0|\n",
      "| 58|Postman, The (Pos...|487| 4.0|\n",
      "| 58|Postman, The (Pos...|773| 4.0|\n",
      "| 58|Postman, The (Pos...|439| 1.5|\n",
      "| 61|Eye for an Eye (1...|638| 3.0|\n",
      "| 62|Mr. Holland's Opu...|691| 5.0|\n",
      "| 62|Mr. Holland's Opu...|760| 4.0|\n",
      "| 62|Mr. Holland's Opu...|989| 3.0|\n",
      "| 62|Mr. Holland's Opu...| 87| 3.0|\n",
      "| 62|Mr. Holland's Opu...|368| 4.0|\n",
      "| 63|Don't Be a Menace...|490| 4.5|\n",
      "| 65|     Bio-Dome (1996)|953| 3.0|\n",
      "| 68|French Twist (Gaz...|635| 4.0|\n",
      "| 69|       Friday (1995)|798| 3.0|\n",
      "| 70|From Dusk Till Da...|619| 5.0|\n",
      "| 70|From Dusk Till Da...|817| 5.0|\n",
      "| 71|    Fair Game (1995)|638| 3.0|\n",
      "| 76|    Screamers (1995)|160| 4.0|\n",
      "| 79|   Juror, The (1996)|295| 3.5|\n",
      "| 79|   Juror, The (1996)|306| 4.0|\n",
      "| 82|Antonia's Line (A...|382| 4.0|\n",
      "| 86| White Squall (1996)|366| 5.0|\n",
      "| 88|  Black Sheep (1996)|168| 3.0|\n",
      "| 89| Nick of Time (1995)|426| 2.0|\n",
      "| 94|Beautiful Girls (...|353| 4.0|\n",
      "| 95| Broken Arrow (1996)|400| 3.0|\n",
      "| 95| Broken Arrow (1996)|455| 3.0|\n",
      "| 95| Broken Arrow (1996)|430| 3.0|\n",
      "| 95| Broken Arrow (1996)|524| 5.0|\n",
      "| 97|Hate (Haine, La) ...|567| 3.0|\n",
      "| 97|Hate (Haine, La) ...|493| 3.0|\n",
      "+---+--------------------+---+----+\n",
      "\n"
     ]
    }
   ],
   "source": [
    "names = [\"nF\",\"titre\",\"nU\",\"note\"]\n",
    "\n",
    "J2 = J1.rdd.mapPartitions(jointure_film_notes).toDF(names)\n",
    "J2.show(10000)"
   ]
  },
  {
   "cell_type": "markdown",
   "metadata": {
    "id": "1vD3AtTSyhZY"
   },
   "source": [
    "# Comparaison du contenu de J avec celui de J2"
   ]
  },
  {
   "cell_type": "markdown",
   "metadata": {
    "id": "5m_uFzrC2Qmy"
   },
   "source": [
    "\n",
    "\n",
    "*   On vérifie que le contenue de J et de J2 soit identique. Pour cela il faut que leur schéma et leur contenue soient identiques.\n",
    "\n"
   ]
  },
  {
   "cell_type": "code",
   "execution_count": 107,
   "metadata": {
    "colab": {
     "base_uri": "https://localhost:8080/"
    },
    "id": "Rf9ZkltX0IRZ",
    "outputId": "f438ef88-45d9-42ec-a00e-e14152f0fe8f"
   },
   "outputs": [
    {
     "data": {
      "text/plain": [
       "(185, 185)"
      ]
     },
     "execution_count": 107,
     "metadata": {},
     "output_type": "execute_result"
    }
   ],
   "source": [
    "J2.count(), J.count()"
   ]
  },
  {
   "cell_type": "code",
   "execution_count": 108,
   "metadata": {
    "id": "5cJYOilH18QO"
   },
   "outputs": [],
   "source": [
    "def equal_DataFrame(df1,df2):\n",
    "  return (df1.schema == df2.schema) and (df1.collect() == df2.collect())"
   ]
  },
  {
   "cell_type": "code",
   "execution_count": 109,
   "metadata": {
    "colab": {
     "base_uri": "https://localhost:8080/"
    },
    "id": "8qAPW5yQzZws",
    "outputId": "893c9474-e0ff-4969-e624-8fd66cfb30d3"
   },
   "outputs": [
    {
     "data": {
      "text/plain": [
       "True"
      ]
     },
     "execution_count": 109,
     "metadata": {},
     "output_type": "execute_result"
    }
   ],
   "source": [
    "equal_DataFrame(J,J2)"
   ]
  },
  {
   "cell_type": "markdown",
   "metadata": {
    "id": "LCHJP1V4j4_-"
   },
   "source": [
    "# Jointure par diffusion ( Broadcast join )\n",
    "\n",
    "\n",
    "\n",
    "*   Le but est de répliquer et difuser les données\n",
    "\n"
   ]
  },
  {
   "cell_type": "code",
   "execution_count": 111,
   "metadata": {
    "id": "tSs9sv8tPnly"
   },
   "outputs": [],
   "source": [
    "\n",
    "def numeroter_partition(partID,iterateur):\n",
    "\n",
    "  suivant = next(iterateur, None)\n",
    "  \n",
    "  while suivant is not None:\n",
    "    yield (partID, *suivant)\n",
    "    suivant = next(iterateur, None)\n",
    "\n",
    "\n"
   ]
  },
  {
   "cell_type": "markdown",
   "metadata": {
    "id": "yV1zrlGEcRms"
   },
   "source": [
    "\n",
    "\n",
    "*   On définit une liste de films pour chaque partition de la table de films\n",
    "\n"
   ]
  },
  {
   "cell_type": "code",
   "execution_count": 116,
   "metadata": {
    "colab": {
     "base_uri": "https://localhost:8080/"
    },
    "id": "YjIEmzegQfkb",
    "outputId": "cae1111a-7989-44bf-fe22-f312ca8b2385"
   },
   "outputs": [
    {
     "name": "stdout",
     "output_type": "stream",
     "text": [
      "+---+--------------------+\n",
      "|p_f|               films|\n",
      "+---+--------------------+\n",
      "|  0|[[94, Beautiful G...|\n",
      "|  1|[[14, Nixon (1995...|\n",
      "|  2|[[72, Kicking and...|\n",
      "+---+--------------------+\n",
      "\n"
     ]
    }
   ],
   "source": [
    "names = [\"p_f\"] + film_extrait.schema.fieldNames()\n",
    "\n",
    "T1_ = film_extrait.rdd.mapPartitionsWithIndex(numeroter_partition).toDF(names)\n",
    "\n",
    "T1 = T1_.groupBy('p_f').agg( collect_list( array('nF','titre') ).alias('films') )\n",
    "\n",
    "T1.show()"
   ]
  },
  {
   "cell_type": "markdown",
   "metadata": {
    "id": "0e-su9IJcL5y"
   },
   "source": [
    "\n",
    "\n",
    "*   On définit une liste de notes pour chaque partition de la table de notes\n",
    "\n"
   ]
  },
  {
   "cell_type": "code",
   "execution_count": 117,
   "metadata": {
    "colab": {
     "base_uri": "https://localhost:8080/"
    },
    "id": "zMZdIHtjQfnD",
    "outputId": "1e942395-a868-4956-9e90-4fa00fe6711f"
   },
   "outputs": [
    {
     "name": "stdout",
     "output_type": "stream",
     "text": [
      "+---+--------------------+\n",
      "|p_n|               notes|\n",
      "+---+--------------------+\n",
      "|  0|[[19.0, 76.0, 1.5...|\n",
      "|  1|[[15.0, 875.0, 4....|\n",
      "|  2|[[19.0, 151.0, 2....|\n",
      "+---+--------------------+\n",
      "\n"
     ]
    }
   ],
   "source": [
    "names = [\"p_n\"] + notes_extrait.schema.fieldNames()\n",
    "\n",
    "T2_ = notes_extrait.rdd.mapPartitionsWithIndex(numeroter_partition).toDF(names)\n",
    "\n",
    "T2 = T2_.groupBy('p_n').agg( collect_list( array('nF','nU','note') ).alias('notes') )\n",
    "\n",
    "T2.show()"
   ]
  },
  {
   "cell_type": "markdown",
   "metadata": {
    "id": "9GRCgsXQbGQP"
   },
   "source": [
    "\n",
    "\n",
    "*   On envoie toutes les partitions de films sur chaque partition de notes ( en utilisant un cross join)\n",
    "\n"
   ]
  },
  {
   "cell_type": "code",
   "execution_count": 121,
   "metadata": {
    "colab": {
     "base_uri": "https://localhost:8080/"
    },
    "id": "YZ_TEYadUgv6",
    "outputId": "2c8846c4-5c52-47ca-cf87-c41e43843b9d"
   },
   "outputs": [
    {
     "name": "stdout",
     "output_type": "stream",
     "text": [
      "+---+--------------------+---+--------------------+\n",
      "|p_n|               notes|p_f|               films|\n",
      "+---+--------------------+---+--------------------+\n",
      "|  0|[[19.0, 76.0, 1.5...|  0|[[94, Beautiful G...|\n",
      "|  0|[[19.0, 76.0, 1.5...|  1|[[14, Nixon (1995...|\n",
      "|  0|[[19.0, 76.0, 1.5...|  2|[[72, Kicking and...|\n",
      "|  1|[[15.0, 875.0, 4....|  0|[[94, Beautiful G...|\n",
      "|  1|[[15.0, 875.0, 4....|  1|[[14, Nixon (1995...|\n",
      "|  1|[[15.0, 875.0, 4....|  2|[[72, Kicking and...|\n",
      "|  2|[[19.0, 151.0, 2....|  0|[[94, Beautiful G...|\n",
      "|  2|[[19.0, 151.0, 2....|  1|[[14, Nixon (1995...|\n",
      "|  2|[[19.0, 151.0, 2....|  2|[[72, Kicking and...|\n",
      "+---+--------------------+---+--------------------+\n",
      "\n"
     ]
    }
   ],
   "source": [
    "T = T2.crossJoin(T1)\n",
    "T.show()"
   ]
  },
  {
   "cell_type": "markdown",
   "metadata": {
    "id": "L8cpbPnGbaNG"
   },
   "source": [
    "\n",
    "\n",
    "*   Pour chaque partitions de notes, on a une liste qui contient autant de liste  de films  qu'il y a de partitions dans la table de films\n",
    "\n"
   ]
  },
  {
   "cell_type": "code",
   "execution_count": 145,
   "metadata": {
    "colab": {
     "base_uri": "https://localhost:8080/"
    },
    "id": "UFp0xQfaUgye",
    "outputId": "0983f4b4-44d6-43de-ce5c-5d29e838e16f"
   },
   "outputs": [
    {
     "name": "stdout",
     "output_type": "stream",
     "text": [
      "+---+--------------------+--------------------+\n",
      "|p_n|               notes|               films|\n",
      "+---+--------------------+--------------------+\n",
      "|  2|[[19.0, 151.0, 2....|[[[94, Beautiful ...|\n",
      "|  0|[[19.0, 76.0, 1.5...|[[[94, Beautiful ...|\n",
      "|  1|[[15.0, 875.0, 4....|[[[94, Beautiful ...|\n",
      "+---+--------------------+--------------------+\n",
      "\n"
     ]
    }
   ],
   "source": [
    "B = T.groupBy('p_n').agg( first(T.notes).alias('notes'), collect_list(T.films).alias('films') )\n",
    "\n",
    "B.show()"
   ]
  },
  {
   "cell_type": "markdown",
   "metadata": {
    "id": "w-GK5IrydHdi"
   },
   "source": [
    "\n",
    "\n",
    "*   On effectue les jointures : \n",
    "      - Pour chaque partition de note, on l'a join avec chacune des partions de films\n",
    "\n",
    "*   On utilise un tri fusion pour les jointures\n",
    "\n",
    "\n"
   ]
  },
  {
   "cell_type": "code",
   "execution_count": 146,
   "metadata": {
    "id": "rojS6A35Ug01"
   },
   "outputs": [],
   "source": [
    "def jointure_local(iterateur):\n",
    "\n",
    "  suivant = next(iterateur, None)  \n",
    "  \n",
    "  while suivant is not None:\n",
    "  \n",
    "    List_List_films = suivant.films # Toutes les partitions de films (= tous les films)\n",
    "    List_notes = suivant.notes\n",
    "    \n",
    "    # TRI\n",
    "    sorted_notes = sorted(List_notes, key=lambda t: int(t[0])) # Trie selon la clé de jointure \"nF\"\n",
    "\n",
    "    # FUSION\n",
    "\n",
    "    # Pour la partition de notes, on l'a joint avec toutes partitions de films\n",
    "\n",
    "    for n in sorted_notes :\n",
    "      for List_film in List_List_films : # On récupère la partition de films\n",
    "\n",
    "        sorted_films = sorted(List_film, key=lambda t: int(t[0])) # Trie selon la clé de jointure \"nF\"\n",
    "\n",
    "        for f in sorted_films :\n",
    "          if( int(float(n[0])) == int(f[0]) ):        # si films.nF == notes.nF\n",
    "            yield ( int(f[0]), f[1], int(float(n[1])) , n[2])\n",
    "            break\n",
    " \n",
    "  \n",
    "    suivant = next(iterateur, None)  \n",
    "\n"
   ]
  },
  {
   "cell_type": "code",
   "execution_count": 147,
   "metadata": {
    "id": "kS1BlYWjdGj9"
   },
   "outputs": [],
   "source": [
    "names = [\"nF\",\"titre\",\"nU\",\"note\"]\n",
    "\n",
    "res = B.rdd.mapPartitions(jointure_local).toDF(names)"
   ]
  },
  {
   "cell_type": "code",
   "execution_count": 148,
   "metadata": {
    "colab": {
     "base_uri": "https://localhost:8080/"
    },
    "id": "0m5Erc29h23q",
    "outputId": "45461dad-1d53-4cfc-c039-202af578da1d"
   },
   "outputs": [
    {
     "name": "stdout",
     "output_type": "stream",
     "text": [
      "+---+--------------------+---+----+\n",
      "| nF|               titre| nU|note|\n",
      "+---+--------------------+---+----+\n",
      "|  1|    Toy Story (1995)|392| 3.5|\n",
      "|  1|    Toy Story (1995)|323| 4.0|\n",
      "|  1|    Toy Story (1995)|545| 5.0|\n",
      "|  1|    Toy Story (1995)|150| 4.0|\n",
      "|  1|    Toy Story (1995)|667| 4.0|\n",
      "|  1|    Toy Story (1995)|565| 5.0|\n",
      "|  1|    Toy Story (1995)| 46| 4.5|\n",
      "|  2|      Jumanji (1995)|542| 3.0|\n",
      "|  5|Father of the Bri...|900| 3.0|\n",
      "|  6|         Heat (1995)| 24| 4.0|\n",
      "|  6|         Heat (1995)|413| 4.0|\n",
      "|  6|         Heat (1995)|931| 4.0|\n",
      "|  7|      Sabrina (1995)|839| 4.0|\n",
      "| 10|    GoldenEye (1995)|533| 4.0|\n",
      "| 10|    GoldenEye (1995)|875| 3.0|\n",
      "| 11|American Presiden...|638| 3.0|\n",
      "| 11|American Presiden...| 65| 3.0|\n",
      "| 12|Dracula: Dead and...|390| 3.0|\n",
      "| 14|        Nixon (1995)|850| 4.0|\n",
      "| 17|Sense and Sensibi...|368| 2.0|\n",
      "| 18|   Four Rooms (1995)|131| 4.0|\n",
      "| 19|Ace Ventura: When...|151| 2.0|\n",
      "| 21|   Get Shorty (1995)|151| 4.0|\n",
      "| 25|Leaving Las Vegas...|576| 4.0|\n",
      "| 25|Leaving Las Vegas...|721| 4.0|\n",
      "| 26|      Othello (1995)|366| 5.0|\n",
      "| 27| Now and Then (1995)|191| 3.0|\n",
      "| 29|City of Lost Chil...|922| 0.5|\n",
      "| 29|City of Lost Chil...|365| 4.0|\n",
      "| 32|Twelve Monkeys (a...|931| 4.0|\n",
      "| 32|Twelve Monkeys (a...|533| 3.0|\n",
      "| 32|Twelve Monkeys (a...|652| 4.5|\n",
      "| 34|         Babe (1995)|711| 2.5|\n",
      "| 34|         Babe (1995)|166| 3.0|\n",
      "| 34|         Babe (1995)|306| 4.0|\n",
      "| 34|         Babe (1995)|483| 3.0|\n",
      "| 36|Dead Man Walking ...|306| 3.0|\n",
      "| 39|     Clueless (1995)| 41| 5.0|\n",
      "| 39|     Clueless (1995)|321| 3.0|\n",
      "| 39|     Clueless (1995)|306| 3.0|\n",
      "| 44|Mortal Kombat (1995)|251| 2.5|\n",
      "| 45|   To Die For (1995)|898| 4.0|\n",
      "| 45|   To Die For (1995)|107| 5.0|\n",
      "| 46|How to Make an Am...|850| 4.0|\n",
      "| 47|Seven (a.k.a. Se7...|875| 3.0|\n",
      "| 47|Seven (a.k.a. Se7...|681| 3.0|\n",
      "| 47|Seven (a.k.a. Se7...|191| 3.0|\n",
      "| 48|   Pocahontas (1995)|506| 4.0|\n",
      "| 50|Usual Suspects, T...|588| 3.0|\n",
      "| 50|Usual Suspects, T...|771| 4.0|\n",
      "| 50|Usual Suspects, T...|312| 4.5|\n",
      "| 50|Usual Suspects, T...|934| 4.5|\n",
      "| 52|Mighty Aphrodite ...|487| 4.0|\n",
      "| 57|Home for the Holi...| 24| 2.0|\n",
      "| 70|From Dusk Till Da...|817| 5.0|\n",
      "| 76|    Screamers (1995)|160| 4.0|\n",
      "| 82|Antonia's Line (A...|382| 4.0|\n",
      "| 86| White Squall (1996)|366| 5.0|\n",
      "| 88|  Black Sheep (1996)|168| 3.0|\n",
      "| 95| Broken Arrow (1996)|524| 5.0|\n",
      "| 97|Hate (Haine, La) ...|493| 3.0|\n",
      "|  1|    Toy Story (1995)|457| 4.0|\n",
      "|  1|    Toy Story (1995)|606| 4.0|\n",
      "|  1|    Toy Story (1995)|869| 4.0|\n",
      "|  2|      Jumanji (1995)|796| 1.5|\n",
      "|  2|      Jumanji (1995)|353| 3.0|\n",
      "|  3|Grumpier Old Men ...|979| 3.0|\n",
      "|  5|Father of the Bri...|296| 3.5|\n",
      "|  5|Father of the Bri...|196| 4.0|\n",
      "|  6|         Heat (1995)|733| 4.5|\n",
      "|  6|         Heat (1995)|384| 3.0|\n",
      "|  6|         Heat (1995)|703| 4.0|\n",
      "|  6|         Heat (1995)|153| 4.5|\n",
      "|  7|      Sabrina (1995)|611| 2.0|\n",
      "|  7|      Sabrina (1995)|368| 2.5|\n",
      "| 10|    GoldenEye (1995)|341| 3.0|\n",
      "| 10|    GoldenEye (1995)|481| 2.0|\n",
      "| 10|    GoldenEye (1995)|421| 4.0|\n",
      "| 11|American Presiden...|236| 4.0|\n",
      "| 11|American Presiden...|455| 3.0|\n",
      "| 12|Dracula: Dead and...|459| 3.0|\n",
      "| 14|        Nixon (1995)|157| 3.0|\n",
      "| 14|        Nixon (1995)|112| 3.0|\n",
      "| 16|       Casino (1995)| 12| 4.0|\n",
      "| 17|Sense and Sensibi...|523| 5.0|\n",
      "| 19|Ace Ventura: When...| 76| 1.5|\n",
      "| 21|   Get Shorty (1995)|638| 4.0|\n",
      "| 21|   Get Shorty (1995)|557| 4.0|\n",
      "| 22|      Copycat (1995)| 66| 2.0|\n",
      "| 25|Leaving Las Vegas...|832| 5.0|\n",
      "| 28|   Persuasion (1995)|815| 5.0|\n",
      "| 29|City of Lost Chil...|882| 5.0|\n",
      "| 32|Twelve Monkeys (a...|160| 4.0|\n",
      "| 32|Twelve Monkeys (a...|848| 4.0|\n",
      "| 34|         Babe (1995)|871| 4.0|\n",
      "| 36|Dead Man Walking ...|523| 3.0|\n",
      "| 36|Dead Man Walking ...|332| 3.5|\n",
      "| 36|Dead Man Walking ...| 12| 3.0|\n",
      "| 39|     Clueless (1995)|524| 4.0|\n",
      "| 39|     Clueless (1995)|546| 3.0|\n",
      "| 39|     Clueless (1995)|308| 4.0|\n",
      "| 44|Mortal Kombat (1995)|595| 3.0|\n",
      "| 44|Mortal Kombat (1995)|267| 2.5|\n",
      "| 45|   To Die For (1995)|308| 3.0|\n",
      "| 47|Seven (a.k.a. Se7...| 51| 5.0|\n",
      "| 48|   Pocahontas (1995)|781| 3.0|\n",
      "| 50|Usual Suspects, T...|308| 5.0|\n",
      "| 50|Usual Suspects, T...|834| 4.5|\n",
      "| 52|Mighty Aphrodite ...|825| 4.0|\n",
      "| 58|Postman, The (Pos...|487| 4.0|\n",
      "| 58|Postman, The (Pos...|773| 4.0|\n",
      "| 58|Postman, The (Pos...|439| 1.5|\n",
      "| 61|Eye for an Eye (1...|638| 3.0|\n",
      "| 62|Mr. Holland's Opu...|691| 5.0|\n",
      "| 62|Mr. Holland's Opu...|760| 4.0|\n",
      "| 62|Mr. Holland's Opu...|989| 3.0|\n",
      "| 62|Mr. Holland's Opu...| 87| 3.0|\n",
      "| 65|     Bio-Dome (1996)|953| 3.0|\n",
      "| 70|From Dusk Till Da...|619| 5.0|\n",
      "| 79|   Juror, The (1996)|295| 3.5|\n",
      "| 89| Nick of Time (1995)|426| 2.0|\n",
      "| 94|Beautiful Girls (...|353| 4.0|\n",
      "| 95| Broken Arrow (1996)|400| 3.0|\n",
      "|  1|    Toy Story (1995)| 75| 4.0|\n",
      "|  1|    Toy Story (1995)|627| 3.5|\n",
      "|  1|    Toy Story (1995)|682| 4.0|\n",
      "|  1|    Toy Story (1995)|346| 4.0|\n",
      "|  1|    Toy Story (1995)|845| 2.0|\n",
      "|  1|    Toy Story (1995)|638| 5.0|\n",
      "|  1|    Toy Story (1995)|196| 3.0|\n",
      "|  1|    Toy Story (1995)| 44| 5.0|\n",
      "|  1|    Toy Story (1995)|760| 5.0|\n",
      "|  2|      Jumanji (1995)|390| 2.0|\n",
      "|  3|Grumpier Old Men ...| 87| 3.0|\n",
      "|  3|Grumpier Old Men ...|358| 3.5|\n",
      "|  6|         Heat (1995)| 52| 3.0|\n",
      "|  6|         Heat (1995)|619| 2.0|\n",
      "|  6|         Heat (1995)|483| 4.0|\n",
      "| 10|    GoldenEye (1995)|127| 3.0|\n",
      "| 10|    GoldenEye (1995)|984| 4.0|\n",
      "| 14|        Nixon (1995)|432| 4.0|\n",
      "| 15|Cutthroat Island ...|875| 4.0|\n",
      "| 16|       Casino (1995)|988| 4.5|\n",
      "| 19|Ace Ventura: When...| 63| 0.5|\n",
      "| 19|Ace Ventura: When...|240| 1.5|\n",
      "| 19|Ace Ventura: When...|533| 3.0|\n",
      "| 20|  Money Train (1995)|925| 3.0|\n",
      "| 21|   Get Shorty (1995)| 65| 3.0|\n",
      "| 25|Leaving Las Vegas...|339| 5.0|\n",
      "| 25|Leaving Las Vegas...|638| 4.0|\n",
      "| 25|Leaving Las Vegas...|640| 3.5|\n",
      "| 29|City of Lost Chil...|592| 4.0|\n",
      "| 29|City of Lost Chil...|924| 4.0|\n",
      "| 31|Dangerous Minds (...|767| 3.0|\n",
      "| 32|Twelve Monkeys (a...|726| 5.0|\n",
      "| 32|Twelve Monkeys (a...| 87| 3.0|\n",
      "| 34|         Babe (1995)|682| 4.0|\n",
      "| 34|         Babe (1995)|332| 2.5|\n",
      "| 34|         Babe (1995)|881| 4.0|\n",
      "| 34|         Babe (1995)|546| 5.0|\n",
      "| 36|Dead Man Walking ...|261| 2.0|\n",
      "| 39|     Clueless (1995)|261| 4.0|\n",
      "| 41|  Richard III (1995)|850| 3.0|\n",
      "| 44|Mortal Kombat (1995)|314| 1.5|\n",
      "| 44|Mortal Kombat (1995)| 46| 3.5|\n",
      "| 47|Seven (a.k.a. Se7...|229| 2.0|\n",
      "| 47|Seven (a.k.a. Se7...|623| 4.0|\n",
      "| 47|Seven (a.k.a. Se7...|886| 2.0|\n",
      "| 47|Seven (a.k.a. Se7...|350| 3.0|\n",
      "| 47|Seven (a.k.a. Se7...|948| 3.0|\n",
      "| 47|Seven (a.k.a. Se7...|686| 4.0|\n",
      "| 50|Usual Suspects, T...|652| 4.5|\n",
      "| 50|Usual Suspects, T...|713| 5.0|\n",
      "| 50|Usual Suspects, T...|981| 3.5|\n",
      "| 50|Usual Suspects, T...|778| 4.5|\n",
      "| 50|Usual Suspects, T...|524| 5.0|\n",
      "| 62|Mr. Holland's Opu...|368| 4.0|\n",
      "| 63|Don't Be a Menace...|490| 4.5|\n",
      "| 68|French Twist (Gaz...|635| 4.0|\n",
      "| 69|       Friday (1995)|798| 3.0|\n",
      "| 71|    Fair Game (1995)|638| 3.0|\n",
      "| 79|   Juror, The (1996)|306| 4.0|\n",
      "| 95| Broken Arrow (1996)|455| 3.0|\n",
      "| 95| Broken Arrow (1996)|430| 3.0|\n",
      "| 97|Hate (Haine, La) ...|567| 3.0|\n",
      "+---+--------------------+---+----+\n",
      "\n"
     ]
    }
   ],
   "source": [
    "res.show(1000)"
   ]
  },
  {
   "cell_type": "code",
   "execution_count": null,
   "metadata": {
    "id": "qXLaulc0Pnoz"
   },
   "outputs": [],
   "source": []
  }
 ],
 "metadata": {
  "colab": {
   "provenance": [],
   "toc_visible": true
  },
  "kernelspec": {
   "display_name": "Python 3 (ipykernel)",
   "language": "python",
   "name": "python3"
  },
  "language_info": {
   "codemirror_mode": {
    "name": "ipython",
    "version": 3
   },
   "file_extension": ".py",
   "mimetype": "text/x-python",
   "name": "python",
   "nbconvert_exporter": "python",
   "pygments_lexer": "ipython3",
   "version": "3.9.12"
  }
 },
 "nbformat": 4,
 "nbformat_minor": 1
}
